{
 "cells": [
  {
   "cell_type": "markdown",
   "id": "ea66000c-df15-4de0-ac01-acaf13953a22",
   "metadata": {},
   "source": [
    "# Constructor:"
   ]
  },
  {
   "cell_type": "markdown",
   "id": "551fa178-f846-48b6-9267-21b9151000f1",
   "metadata": {},
   "source": [
    "1. What is a constructor in python? Explain its purpose and usage."
   ]
  },
  {
   "cell_type": "markdown",
   "id": "48578bd6-c16b-4fee-a70c-90050915a9fd",
   "metadata": {},
   "source": [
    "In Python, a constructor is a special method within a class that gets invoked automatically when you create an instance (object) of that class. It's name '__init__()' and is used to initialize the attributes (properties) of the object.\n",
    "\n",
    "The purpose of a constructor is to set up the initial state of an object by assigning values to its attributes. It allows you to define how objects of a class should be created and what initial values they should have.\n",
    "\n",
    "Here's an example to illustrate the concept:"
   ]
  },
  {
   "cell_type": "code",
   "execution_count": 1,
   "id": "670c1b1d-7389-4305-91f5-82e0dbb581bc",
   "metadata": {},
   "outputs": [
    {
     "name": "stdout",
     "output_type": "stream",
     "text": [
      "Toyota\n",
      "Corolla\n",
      "2020\n",
      "Car: 2020 Toyota Corolla\n"
     ]
    }
   ],
   "source": [
    "class car:\n",
    "    def __init__(self, make, model, year):\n",
    "        self.make=make\n",
    "        self.model=model\n",
    "        self.year=year\n",
    "        \n",
    "    def display_info(self):\n",
    "        print(f\"Car: {self.year} {self.make} {self.model}\")\n",
    "        \n",
    "# creating an instance of the car class using the constructor\n",
    "my_car=car('Toyota','Corolla',2020)\n",
    "\n",
    "# Accessing attributes of the object\n",
    "print(my_car.make)\n",
    "print(my_car.model)\n",
    "print(my_car.year)\n",
    "\n",
    "# calling a method of the object\n",
    "my_car.display_info()"
   ]
  },
  {
   "cell_type": "markdown",
   "id": "6df12300-f05e-4129-8ab0-89d7aab64edc",
   "metadata": {},
   "source": [
    "In this example, the '__init__()' method is the constructor of the 'car' class. When 'my_car=car('Toyota','Corolla',2020)' is executed, it automatically calls '__init__()' with the provided arguments ('Toyota','Corolla',2020). Inside '__init__()' the attributes 'make', 'model', and 'year' are initialized using these arguments using 'self.make','self.model',and self.year'.\n",
    "\n",
    "\n",
    "Constructors are crucial because they allow you to create objects with predefined initial attributes, ensuring that each instance starts with the necessary state."
   ]
  },
  {
   "cell_type": "markdown",
   "id": "1def028d-6db5-4690-b56f-d6116f8a43f0",
   "metadata": {},
   "source": [
    "2. Differentiate between a parameterless constructor and a parameterized constructor in python."
   ]
  },
  {
   "cell_type": "markdown",
   "id": "fdcbb4e7-8b2c-4b7a-889c-a80779e39144",
   "metadata": {},
   "source": [
    "In Python, constructors are typically methods within a class that initialize objects. The main difference betweena parameterless constructor (default constructor) and a parameterized constructor lies in how they accept arguments during object initialization:\n",
    "    \n",
    "    \n",
    "1. Parameterless Constructor (Default Constructor):\n",
    "    \n",
    "    * A parameterless constructor does not take any arguments other than the mandatory 'self' parameter (which refers to the instance of the class itself).\n",
    "    \n",
    "    * It initializes the object with default values or performs some default setup without requiring any explicit arguments during object creation.\n",
    "    \n",
    "    * If a class does not explicitly define a constructor('__init__()' method), Python provides a default parameterless constructor.\n",
    "    \n",
    "Example of a parameterless constructor:"
   ]
  },
  {
   "cell_type": "code",
   "execution_count": 1,
   "id": "d8a44ec4-2269-4d2f-b73c-9fed9149e9de",
   "metadata": {},
   "outputs": [
    {
     "name": "stdout",
     "output_type": "stream",
     "text": [
      "10\n"
     ]
    }
   ],
   "source": [
    "class myclass:\n",
    "    def __init__(self):\n",
    "        self.value=10 # Initializing an attribute with a default value\n",
    "        \n",
    "obj=myclass() # creating an instance using a parameterless constructor\n",
    "print(obj.value)"
   ]
  },
  {
   "cell_type": "markdown",
   "id": "75cd7695-95d6-43c8-9c0f-c60b4a5399a0",
   "metadata": {},
   "source": [
    "2. Parameterized Constructor:\n",
    "    \n",
    "    * A parameterized constructor accepts arguments other than 'self' to initialize the object with specific values provided during object creation.\n",
    "    \n",
    "    * It allows the flexibility to pass values at the time of object instantiation to set up the object's initial state according to those values.\n",
    "\n",
    "Example of a parameterized constructor:"
   ]
  },
  {
   "cell_type": "code",
   "execution_count": 2,
   "id": "185428e2-e8ab-4f28-b772-51cc1639df10",
   "metadata": {},
   "outputs": [
    {
     "name": "stdout",
     "output_type": "stream",
     "text": [
      "50\n"
     ]
    }
   ],
   "source": [
    "class myclass:\n",
    "    def __init__(self, val):\n",
    "        self.value=val  # initializing an attribute with the provided value\n",
    "        \n",
    "obj=myclass(50)  #creating an instance using a parameterized constructor with an argument\n",
    "print(obj.value)"
   ]
  },
  {
   "cell_type": "markdown",
   "id": "1d6ac7bd-c604-4fc8-86af-43af7d014ebf",
   "metadata": {},
   "source": [
    "In summary, a parameterless constructor doesn't take any arguments besides 'self' and sets up default values or performs default initialization. Meanwhile, a parameterized constructor accepts arguments during object creation to set the initial state of the object based on the provided values."
   ]
  },
  {
   "cell_type": "markdown",
   "id": "fb5d2312-d71e-41e5-abbf-524df1179ae6",
   "metadata": {},
   "source": [
    "3. How do you define a constructor in a python class? Provide an example."
   ]
  },
  {
   "cell_type": "markdown",
   "id": "1c1feb15-bcc3-4690-a8be-b11d353f9224",
   "metadata": {},
   "source": [
    "In Python, a constructor is defined using a special method called '__init__()'. This method is automatically called when an object of the class is created. Here's an example demonstrating how to define a constructor within a python class:"
   ]
  },
  {
   "cell_type": "code",
   "execution_count": 1,
   "id": "a73a31f0-38e3-4302-8db8-bceba7c4fa93",
   "metadata": {},
   "outputs": [
    {
     "name": "stdout",
     "output_type": "stream",
     "text": [
      "Name: Baburao, Age: 56\n",
      "Name: Shantaram, Age: 59\n"
     ]
    }
   ],
   "source": [
    "class person:\n",
    "    def __init__(self, name,age):\n",
    "        self.name=name\n",
    "        self.age=age\n",
    "        \n",
    "    def display_info(self):\n",
    "        print(f\"Name: {self.name}, Age: {self.age}\")\n",
    "        \n",
    "# Creating an instance of the person class using the constructor\n",
    "person1=person('Baburao',56)\n",
    "person2=person('Shantaram',59)\n",
    "\n",
    "# Accessing attributes and calling a method of the objects\n",
    "person1.display_info()\n",
    "person2.display_info()"
   ]
  },
  {
   "cell_type": "markdown",
   "id": "479aba8f-abd7-4e0a-94b7-603abc483e66",
   "metadata": {},
   "source": [
    "In this example:\n",
    "    \n",
    "* The 'person' class has a constructor '__init__()' which takes two parameters: 'name' and 'age'.\n",
    "\n",
    "* Inside the constructor, the attributes 'self.name' and 'self.age' are initialized with the values passed as argument during object creation.\n",
    "\n",
    "* Two instances ('person1' an 'person2') of the 'person' class are created by providing different values for 'name' and 'age'.\n",
    "\n",
    "* The 'display_info()' method is called on each object to display the stored information abouut the persons.\n",
    "\n",
    "\n",
    "When you create an instance of the 'person' class like 'person1=person('Baburao',56)',Python automatically calls the '__init__()' method with the arguments 'Baburao' and 56,\n",
    "initializing the 'name' and 'age' attributes for that specific instance."
   ]
  },
  {
   "cell_type": "markdown",
   "id": "90233606-e556-450e-871f-28c6c8dd24e3",
   "metadata": {},
   "source": [
    "4. Explain the '__init__' method in Python and its role in constructors."
   ]
  },
  {
   "cell_type": "markdown",
   "id": "54cb8601-fd8d-4d28-8b37-03e927b52699",
   "metadata": {},
   "source": [
    "In Python, the '__init__' method is a special method that serves as the constructor for a class. The name '__init__' is reserved, and it's automatically called when an instance (object) of the class is created. Its primary role is to initialize the attributes (properties) of the object.\n",
    "\n",
    "Key points about the '__init__' method and its role in constructors:\n",
    "    \n",
    "1. Initialization: The '__init__ method is responsible for initializing the object's attributes by assigning values to them. It sets up the initial state of the object when it's created.\n",
    "\n",
    "2. Automatic Invocation: When you create an instance of a class using the class name followed by parenthesis containing any necessary arguments, Python automatically calls the '__init__' method to initialize the newly created object.\n",
    "\n",
    "3. Arguments: The '__init__' method can accept multiplle arguments along with the obligatory 'self' parameter, which refers to the instance of the class itself. These arguments are used to set initial values to the object's attributes.\n",
    "\n",
    "4. Naming Convention: The double underscores ('__') surrounding 'init' signify that it's a special method in Python, providing specific functionality ( in this case, initializing objects).\n",
    "\n",
    "Example illustrating the '__init__' method in a class:"
   ]
  },
  {
   "cell_type": "code",
   "execution_count": 2,
   "id": "4698292d-8d36-460a-b316-56927456e2da",
   "metadata": {},
   "outputs": [
    {
     "name": "stdout",
     "output_type": "stream",
     "text": [
      "Name: Viraj, Qualification: Bsc, Grade: B\n",
      "Name: Siraj, Qualification: Msc, Grade: A\n"
     ]
    }
   ],
   "source": [
    "class student:\n",
    "    def __init__(self,name,qualification,grade):\n",
    "        self.name=name\n",
    "        self.qualification=qualification\n",
    "        self.grade=grade\n",
    "    def display_info(self):\n",
    "        print(f\"Name: {self.name}, Qualification: {self.qualification}, Grade: {self.grade}\")\n",
    "        \n",
    "# creating an instance (object) of the student class using the constructor\n",
    "student1=student('Viraj','Bsc','B')\n",
    "student2=student('Siraj','Msc','A')\n",
    "\n",
    "# accessing attributes and calling a method of the object\n",
    "student1.display_info()\n",
    "student2.display_info()"
   ]
  },
  {
   "cell_type": "markdown",
   "id": "5112cd5a-401c-43d9-8249-be53a9aefba7",
   "metadata": {},
   "source": [
    "5. In a class named 'Person', create a constructor that initializes the 'name' and 'age' attributes. Provide an example of creating an object of this class."
   ]
  },
  {
   "cell_type": "code",
   "execution_count": 4,
   "id": "66550ac0-9fc5-4986-b554-63434dee4658",
   "metadata": {},
   "outputs": [
    {
     "name": "stdout",
     "output_type": "stream",
     "text": [
      " Name: Ganapat, Age: 60\n"
     ]
    }
   ],
   "source": [
    "class Person:\n",
    "    def __init__(self,name,age):\n",
    "        self.name=name\n",
    "        self.age=age\n",
    "        \n",
    "    def display_info(self):\n",
    "        print(f\" Name: {self.name}, Age: {self.age}\")\n",
    "        \n",
    "# creating an instance/object of the person class using the constructor\n",
    "\n",
    "person=Person('Ganapat',60)\n",
    "\n",
    "# accessing attributes and calling methods of the object\n",
    "person.display_info()"
   ]
  },
  {
   "cell_type": "markdown",
   "id": "511e6d72-a934-4eda-8206-3adc8c5d48cf",
   "metadata": {},
   "source": [
    "6. How can you call a constructor explicitly in Python? Give an example."
   ]
  },
  {
   "cell_type": "markdown",
   "id": "bc497525-2420-4470-8f15-b389cd196b39",
   "metadata": {},
   "source": [
    "In Python, constructors (like '__init__') are typically called implicitly when an object is created. Howeven, there isn't a direct way to call the constructor explicitly within the class itself.\n",
    "\n",
    "Instead, you create an object of the class, and the constructor is automatically invoked during object instantiation. However, you can indirectly simulate the behavior of a constructor by defining a separate method within the class and explicitly calling it when needed.\n",
    "\n",
    "Here's an example:"
   ]
  },
  {
   "cell_type": "code",
   "execution_count": 5,
   "id": "45baceaf-7887-4f5f-933a-108bbc5cac4a",
   "metadata": {},
   "outputs": [
    {
     "name": "stdout",
     "output_type": "stream",
     "text": [
      "Name: Vinay, Age: 30\n",
      "Name: Rajiv, Age: 50\n"
     ]
    }
   ],
   "source": [
    "class Person:\n",
    "    def __init__(self,name,age):\n",
    "        self.name=name\n",
    "        self.age=age\n",
    "    def initialize(self,name,age):\n",
    "        # simulating constructor behavior explicitly\n",
    "        self.name=name\n",
    "        self.age=age\n",
    "        \n",
    "    def display_info(self):\n",
    "        print(f\"Name: {self.name}, Age: {self.age}\")\n",
    "        \n",
    "# Creating an instance of the person class without explicit constructor call\n",
    "\n",
    "person1= Person('Vinay',30)\n",
    "person1.display_info() \n",
    "\n",
    "# Explicitly calling a method to simulate constructor behavior\n",
    "person2=Person('',0)  # creating an instance with empty value\n",
    "person2.initialize('Rajiv',50) \n",
    "person2.display_info()"
   ]
  },
  {
   "cell_type": "markdown",
   "id": "3379d5b3-7e32-454a-b00e-0f475ede4188",
   "metadata": {},
   "source": [
    "7. What is the significance of the 'self' parameter in python constructors? Explain with an example."
   ]
  },
  {
   "cell_type": "markdown",
   "id": "c92dda4e-628d-41ce-8880-37f7e1c6a106",
   "metadata": {},
   "source": [
    "In Python, the 'self' parameter in constructors (like '__init__') plays a crucial role in referencing the instance of the class within its own methods. It represents the instance itself and allows access to the instance's attributes and methods within the class.\n",
    "\n",
    "Here's an example demonstrating the significance of the 'self' parameter in a constructor:"
   ]
  },
  {
   "cell_type": "code",
   "execution_count": 7,
   "id": "3765651f-ceb8-4d96-a0ba-9f8cf802be5d",
   "metadata": {},
   "outputs": [
    {
     "name": "stdout",
     "output_type": "stream",
     "text": [
      "Name: Munna, Age: 20\n"
     ]
    }
   ],
   "source": [
    "class person:\n",
    "    def __init__(self,name,age):\n",
    "        self.name=name\n",
    "        self.age=age\n",
    "        \n",
    "    def display_info(self):\n",
    "        print(f\"Name: {self.name}, Age: {self.age}\")\n",
    "        \n",
    "# creating an instance of the person class using the constructor\n",
    "person1=person('Munna',20)\n",
    "\n",
    "\n",
    "# Accessing attributes and calling a method of the object using self\n",
    "person1.display_info()"
   ]
  },
  {
   "cell_type": "markdown",
   "id": "de4fbe71-8f08-4d55-b6ad-eb2b42fe3f10",
   "metadata": {},
   "source": [
    "Explanation:\n",
    "    \n",
    "* In the '__init__' method, 'self' is the first parameter, referring to the instance of the 'person' class being created.\n",
    "\n",
    "* Inside '__init__', 'self.name' and 'self.age' are instance attributes initialized with the values passed as arguments during object creation ('person('Munna',20)').\n",
    "\n",
    "* When the 'display_info()' method is calling using 'person1.display_info()', 'self' allows access to the instance's attributes ('self.name' and 'self.age') within the method.\n",
    "\n",
    "The 'self' parameter essentially binds the attributes and methods to the specific instance of the class. It allows for the differentiation between attributes of different instances and enables access to those attributes and methods within the instance methods using the 'self' reference."
   ]
  },
  {
   "cell_type": "markdown",
   "id": "aa5a0dbf-334e-4ebc-9518-a40c1f1195a9",
   "metadata": {},
   "source": [
    "8. Discuss the concept of default constructors in Python. When are they used?"
   ]
  },
  {
   "cell_type": "markdown",
   "id": "fc43e56c-9925-4798-9fb7-ec26360f645e",
   "metadata": {},
   "source": [
    "In Python, a default constructor is automatically provided by python itself if you haven't explicitly defined one in your class. This default constructor doesn't take any parameters other than 'self' and doesn't perform any initialization beyond what's done for the 'self' object.\n",
    "\n",
    "When are default constructors used?\n",
    "\n",
    "1. When no explicit constructor is defined: If you haven't defined an '__init__' method in your class, python automatically creates a default constructor for you."
   ]
  },
  {
   "cell_type": "code",
   "execution_count": 1,
   "id": "40005e82-fdd1-43a4-86c9-7fc03213e62f",
   "metadata": {},
   "outputs": [],
   "source": [
    "class myclass:\n",
    "    pass  # No explicit __init__ method defined\n",
    "\n",
    "obj=myclass()  # creating an instance; default constructor is used implicitly"
   ]
  },
  {
   "cell_type": "markdown",
   "id": "51ba504b-e9ec-456d-8646-5033393bb456",
   "metadata": {},
   "source": [
    "2. Inheriting from a superclass: When a class inherits from another class but doesn't define its own constructor, it inherits the default constructor from the parent class."
   ]
  },
  {
   "cell_type": "code",
   "execution_count": 3,
   "id": "2273e633-704f-4b24-bae1-6445e3ad18e6",
   "metadata": {},
   "outputs": [
    {
     "name": "stdout",
     "output_type": "stream",
     "text": [
      "Parent constructor\n"
     ]
    }
   ],
   "source": [
    "class parentclass:\n",
    "    def __init__(self):\n",
    "        print('Parent constructor')\n",
    "        \n",
    "class childclass(parentclass):\n",
    "    pass    # inherits the parentclass constructor\n",
    "\n",
    "obj=childclass()  # creating an instance of childclass: parentclass's constructor is called"
   ]
  },
  {
   "cell_type": "markdown",
   "id": "23a78cfa-f613-487b-8efa-a76904d1b80e",
   "metadata": {},
   "source": [
    "Key points about default constructors:\n",
    "    \n",
    "* Implicit behavior: They are implicitly provided by python if not explicitly defined.\n",
    "\n",
    "* No custom initialization: They don't perform any custom initialization of attributes or instance variables.\n",
    "\n",
    "* Limited functionality: Default constructors might not suit every situation; hence, defining a custom constructor is often necessary to initialize the object's attributes based on specific requirements.\n",
    "\n",
    "* Inheritance: If a class doesn't define its own constructor but inherits from a parent class with a constructor, it inherits the parent's constructor, acting as the default constructor for the child class.\n",
    "\n",
    "\n",
    "While default constructors serve the purpose of initializing instances when no specific constructor is defined, creating a custom constructor ('__init__' method) allows for tailored initialization of objects with specific attributes and values."
   ]
  },
  {
   "cell_type": "markdown",
   "id": "f54de78b-03bd-4b12-af76-16525e9b79d1",
   "metadata": {},
   "source": [
    "9. Create a Python class called 'Rectangle' with a constructor that initializes the 'width' and 'height' attributes. Provide a method to calculate the area of the rectangle."
   ]
  },
  {
   "cell_type": "code",
   "execution_count": 8,
   "id": "88d656e2-89fd-4ab2-8bcf-326e7db4af18",
   "metadata": {},
   "outputs": [
    {
     "name": "stdout",
     "output_type": "stream",
     "text": [
      "Area of Rectangle: 54\n"
     ]
    }
   ],
   "source": [
    "class Rectangle:\n",
    "    def __init__(self,width, height):\n",
    "        self.width=width\n",
    "        self.height=height\n",
    "        \n",
    "    def Cal_Area(self):\n",
    "        return self.width * self.height\n",
    "    \n",
    "\n",
    "# creating an instance(object) of the class with the help of constructor\n",
    "obj=Rectangle(6,9)\n",
    "\n",
    "print('Area of Rectangle:',obj.Cal_Area())"
   ]
  },
  {
   "cell_type": "markdown",
   "id": "beaa734e-e12c-4da4-a85a-b9c76a682fd2",
   "metadata": {},
   "source": [
    "10. How can you have multiple constructors in a Python class? Explain with an example."
   ]
  },
  {
   "cell_type": "markdown",
   "id": "b74abd1f-1943-42e5-bfa4-2c32a72fa70e",
   "metadata": {},
   "source": [
    "In Python, you can't have multiple constructors in the same way you might in some other programming languages like Java or C++. However, you can achieve similar functionality using techniques such as default parameter values, class methods as alternative constructors, or using conditional logic within the '__init__' method.\n",
    "\n",
    "Using Default Parameter Values:\n",
    "    \n",
    "You can define values for parameters in the '__init__' method, allowing the creation of objects with different sets of arguments."
   ]
  },
  {
   "cell_type": "code",
   "execution_count": 9,
   "id": "55b387e2-ef8c-489c-a20e-de4f39b297a8",
   "metadata": {},
   "outputs": [
    {
     "name": "stdout",
     "output_type": "stream",
     "text": [
      "Name: Alice, Age: 30\n",
      "Name: Anonymous, Age: 0\n"
     ]
    }
   ],
   "source": [
    "class Person:\n",
    "    def __init__(self, name=None, age=None):\n",
    "        if name is not None and age is not None:\n",
    "            self.name=name\n",
    "            self.age=age\n",
    "            \n",
    "        else:\n",
    "            # set default values if no arguments provided\n",
    "            self.name='Anonymous'\n",
    "            self.age=0\n",
    "            \n",
    "    def display_info(self):\n",
    "        print(f\"Name: {self.name}, Age: {self.age}\")\n",
    "        \n",
    "# Creating instance using different sets of arguments\n",
    "person1=Person('Alice',30)\n",
    "person2=Person() # using default values\n",
    "\n",
    "person1.display_info()  \n",
    "person2.display_info()"
   ]
  },
  {
   "cell_type": "markdown",
   "id": "ae0bb74a-e8f7-4f7f-9caa-356a8734468d",
   "metadata": {},
   "source": [
    "Using Class Methods as Alternative Constructor:\n",
    "    \n",
    "You can define class methods that act as alternative constructors, allowing for different ways to create objects."
   ]
  },
  {
   "cell_type": "code",
   "execution_count": 10,
   "id": "58d6bc41-a380-4053-861b-3e428e83383c",
   "metadata": {},
   "outputs": [
    {
     "name": "stdout",
     "output_type": "stream",
     "text": [
      "Name: Bob, Age: 28\n"
     ]
    }
   ],
   "source": [
    "class Person:\n",
    "    def __init__(self, name,age):\n",
    "        self.name=name\n",
    "        self.age=age\n",
    "    @classmethod\n",
    "    def from_birth_year(cls, name, birth_year):\n",
    "        current_year=2023  # current year as an example\n",
    "        age=current_year-birth_year\n",
    "        return cls(name,age)\n",
    "    \n",
    "    \n",
    "    def display_info(self):\n",
    "        print(f\"Name: {self.name}, Age: {self.age}\")\n",
    "        \n",
    "# using the alternative constructor to create an object\n",
    "person=Person.from_birth_year('Bob',1995)\n",
    "person.display_info()"
   ]
  },
  {
   "cell_type": "markdown",
   "id": "c7267510-a64d-44df-b90e-02eab9fb851d",
   "metadata": {},
   "source": [
    "In this example, 'from_birth_year' is a class method that acts as an alternative constructor. It takes 'name' and 'birth_year' arguments, calculates, the age, and creates a 'Person' object using this information.\n",
    "\n",
    "These approaches allow you to simulate multiple constructors by providing different ways to create objects with varying sets of arguments or logic."
   ]
  },
  {
   "cell_type": "markdown",
   "id": "60bbc570-f444-4695-ba90-662cacfc2b37",
   "metadata": {},
   "source": [
    "11. What is method overloading, and how is it related to constructors in Python?"
   ]
  },
  {
   "cell_type": "markdown",
   "id": "cefdf282-96a1-49e2-a04c-9454cfb4722e",
   "metadata": {},
   "source": [
    "Method overloading refers to the ability to define multiple methods in a class with the same name but different parameters or argument types. In some programming languages like Java or C++, method overloading allows you to define several methods with the same name but different parameter lists. However, in Python, method overlloading doesn't work in the same way due to its dynamic and flexile nature.\n",
    "\n",
    "Python doesn't support method overloading in the traditional sense because it doesn't consider the number or types of arguments to determine which method to call (unlike in statically typed languages). Instead, the last defined method with a given name within a class will overwrite any previously defined methods with the same name.\n",
    "\n",
    "However, Python provides flexibility through default parameter values and variable arguments ('*args' and '**kwargs') to achieve a similar effect. You can define a single method with default parameters or variable arguments to handle different cases.\n",
    "\n",
    "Regarding constructors in Python, there can only be one '__init__' method in a class. Unlike in some other languages, you can't define multiple constructors with different parameter lists or types in Python. If you define multiple '__init__' methods in the same class, only the last one defined will be considered.\n",
    "\n",
    "\n",
    "Here's an example illustrating how default parameter values can be used in Python to achieve similar behavior:"
   ]
  },
  {
   "cell_type": "code",
   "execution_count": 2,
   "id": "9e4e7acf-bbfe-496f-8915-fac6a46bb3e0",
   "metadata": {},
   "outputs": [
    {
     "name": "stdout",
     "output_type": "stream",
     "text": [
      "Result: 60\n",
      "Result: 5\n",
      "Result: 0\n"
     ]
    }
   ],
   "source": [
    "class Example:\n",
    "    def __init__(self, a=None, b=None):\n",
    "        if a is not None and b is not None:\n",
    "            self.result=a+b\n",
    "        elif a is not None:\n",
    "            self.result=a\n",
    "        else:\n",
    "            self.result=0\n",
    "            \n",
    "    def display_result(self):\n",
    "        print(f\"Result: {self.result}\")\n",
    "        \n",
    "# Creating instances using different argument counts\n",
    "\n",
    "ex1=Example(30,30)  # adding two numbers\n",
    "ex2=Example(5)      # Assigning a single number\n",
    "ex3=Example()       # Default initialization with 0\n",
    "\n",
    "\n",
    "ex1.display_result()\n",
    "ex2.display_result()\n",
    "ex3.display_result()"
   ]
  },
  {
   "cell_type": "markdown",
   "id": "bdf1ffcb-0d13-41c0-87b2-442a07bef26b",
   "metadata": {},
   "source": [
    "12. Explain the use of the 'super()' function in python constructors. Provide an example."
   ]
  },
  {
   "cell_type": "markdown",
   "id": "c861a7a3-3e22-42ab-ae99-361072a4ba55",
   "metadata": {},
   "source": [
    "In Python, 'super()' is used to access methods and properties from a parent class within a child class. It's commonly used in constructors ('__init__'method) to ensure that bothe the parent and child classes are properly initialized.\n",
    "\n",
    "when a child class inherits from a parent class, calling 'super().__init__()' inside the child class constructor allows you to invoke the parent class constructor and initialize the parent class attributes. This helps in maintaining the inheritance hierarchy and ensures that the parent class is appropriately initialized before the child class.\n",
    "\n",
    "Here's an example to illustrate the usage of 'super()' in constructors:"
   ]
  },
  {
   "cell_type": "code",
   "execution_count": 4,
   "id": "c6d99116-28cc-4389-9ab7-6eea3163e8e6",
   "metadata": {},
   "outputs": [
    {
     "name": "stdout",
     "output_type": "stream",
     "text": [
      "Value of x in Parentclass: 40\n",
      "Value or y in childclass: 33\n"
     ]
    }
   ],
   "source": [
    "class parentclass:\n",
    "    def __init__(self,x):\n",
    "        self.x=x\n",
    "        \n",
    "    def display(self):\n",
    "        print(f\"Value of x in Parentclass: {self.x}\")\n",
    "        \n",
    "class childclass(parentclass):\n",
    "    def __init__(self,x,y):\n",
    "        super().__init__(x) # Initializing parentclass attributes\n",
    "        self.y=y\n",
    "        \n",
    "    def display(self):\n",
    "        super().display() # calling parentclass's display method\n",
    "        print(f\"Value or y in childclass: {self.y}\")\n",
    "        \n",
    "# creating an instance of childclass\n",
    "child_obj=childclass(40,33) \n",
    "\n",
    "# Accessing and displaying values\n",
    "child_obj.display()"
   ]
  },
  {
   "cell_type": "markdown",
   "id": "437a7810-2c8a-41cc-9966-fa21e3023821",
   "metadata": {},
   "source": [
    "In this example, 'parentclass' has an '__init__' method that initializes an attribute 'x'. 'childclass' inherits from 'parentclass' and has its own '__init__' method that initializes 'y'. Using 'super().__init__(x)' in 'childclass' ensures that the 'x' attribute from the 'parentclass' is initialized properly before setting the 'y' attribute in the 'childclass'. Additionally, 'super().display()' in the 'display' method of 'childclass' allows accessing the 'display' method of the 'parentclass' within the overridden method of the child class. "
   ]
  },
  {
   "cell_type": "markdown",
   "id": "f53fb9fd-e959-4ccf-80df-8f1676b15202",
   "metadata": {},
   "source": [
    "13. Create a class called 'Book' with a constructor that initializes the 'title', 'author', and 'published_year' attributes. Provide a method to display book details."
   ]
  },
  {
   "cell_type": "code",
   "execution_count": 6,
   "id": "e491312d-8999-4594-9975-fdad61a9003e",
   "metadata": {},
   "outputs": [
    {
     "name": "stdout",
     "output_type": "stream",
     "text": [
      "Title: Master Data Science, Author: Baburao, Published Year: 1999\n"
     ]
    }
   ],
   "source": [
    "class Book:\n",
    "    def __init__(self,title, author, published_year):\n",
    "        self.title=title\n",
    "        self.author=author\n",
    "        self.published_year=published_year\n",
    "        \n",
    "    def display_book_details(self):\n",
    "        print(f\"Title: {self.title}, Author: {self.author}, Published Year: {self.published_year}\")\n",
    "        \n",
    "# creating an instance with the help of instructor\n",
    "\n",
    "obj_book=Book('Master Data Science', 'Baburao', 1999)\n",
    "\n",
    "obj_book.display_book_details()"
   ]
  },
  {
   "cell_type": "markdown",
   "id": "ebecb5e8-cf81-4a6a-8fef-3a2a3e4c01f5",
   "metadata": {},
   "source": [
    "14. Discuss the differences between constructors and regular methods in Python classes."
   ]
  },
  {
   "cell_type": "markdown",
   "id": "ad821bf0-74c5-467d-87e8-b53b7e1e11ca",
   "metadata": {},
   "source": [
    "Constructors and regular methods in Python classes serve different purposes and have distinct characteristics:\n",
    "    \n",
    "Constructors:\n",
    "    \n",
    "1. Initialization: Constructors, denoted by the '__init__' method, are automatically invoked when an object of a class is created. They initialize the object's attributes or perform setup tasks necessary for the object to function correctly.\n",
    "\n",
    "2. Usage: Constructors are used to set up initial values for object attributes. They're typically used to prepare the object for use by assigning initial values to its properties.\n",
    "\n",
    "3. Invocation: Constructors are called implicitly when an object of the class is created. For example:"
   ]
  },
  {
   "cell_type": "code",
   "execution_count": 11,
   "id": "d84b822e-881a-4f34-badb-c1c4fc25ef61",
   "metadata": {},
   "outputs": [],
   "source": [
    "class myclass:\n",
    "    def __init__(self,x):\n",
    "        self.x=x\n",
    "        \n",
    "obj=myclass(5) # constructor called implicitly upon object creation"
   ]
  },
  {
   "cell_type": "markdown",
   "id": "b397230e-c9ba-4b5a-bcdd-70d94865336a",
   "metadata": {},
   "source": [
    "4. Name: In python, the constructor is named '__init__' , and it's the method that initializes the object's state.\n",
    "\n",
    "Regular Methods:\n",
    "    \n",
    "1. Functionality: Regular methods perform specific actions or computations using the object's attributes. They can manipulate object state, perform calculations, or provide functionality associated with the class.\n",
    "\n",
    "2. Usage: These methods operate on the object's attributes, potentially altering their values or performing specific actions based on those attributes.\n",
    "\n",
    "3. Invocation: Regular methods are explicitly called on objects and can be invoked multiple times during the object's lifetime. For example:"
   ]
  },
  {
   "cell_type": "code",
   "execution_count": 2,
   "id": "69683b62-edd7-462c-b77b-0b0f9c1a8f30",
   "metadata": {},
   "outputs": [
    {
     "name": "stdout",
     "output_type": "stream",
     "text": [
      "this x from constructor method: 4\n",
      "this is updated x from regular method: 30\n"
     ]
    }
   ],
   "source": [
    "class myclass:\n",
    "    def __init__(self,x):\n",
    "        self.x=x\n",
    "        print(f\"this x from constructor method: {self.x}\")\n",
    "    def update_x(self,new_x):\n",
    "        self.x=new_x\n",
    "        print(f\"this is updated x from regular method: {self.x}\")\n",
    "        \n",
    "obj=myclass(4)\n",
    "obj.update_x(30)  # regular method called explicitly"
   ]
  },
  {
   "cell_type": "markdown",
   "id": "fb5a4453-43e8-45b1-a51f-dbc1085c5f4a",
   "metadata": {},
   "source": [
    "4. Naming: Regular methods can have any name that adheres to the rules for naming identifiers in python.\n",
    "\n",
    "Key Differences:\n",
    "    \n",
    "* Initialization vs. Functionality: Constructors are specifically for initializing object attributes upon creation, while regular methods perform specific actions or provide functionality during the object's lifetime.\n",
    "\n",
    "* Invocation: Constructors are implicitly called only once during object creation, while regular methods need to be explicitly called whenever their functionality is required.\n",
    "\n",
    "* Name: Constructors have a fixed name ('__init__'), while regular methods can have any valid identifier name.\n",
    "\n",
    "Both constructors and regular methods play vital roles in defining the behavior and functionality of Python classes, but they serve distinct purposes within the object-oriented paradigm."
   ]
  },
  {
   "cell_type": "markdown",
   "id": "f32c52d3-bbc1-48a4-b251-5089d508de74",
   "metadata": {},
   "source": [
    "15. Explain the role of the 'self' parameter in instance variable initialization within a constructor."
   ]
  },
  {
   "cell_type": "markdown",
   "id": "c021be34-49c0-4a93-9b2c-fef5c3b90b08",
   "metadata": {},
   "source": [
    "In Python, 'self' is a convention used to refer to the instance of a class within the class itself. When you define methods within a class, including the constructor ('__init__'), the first parameter of these methods must be 'self'. This parameter is a reference to the instance of the class and allows you to access and manipulate instance variables and methods within that class.\n",
    "\n",
    "In the context of instance variable initialization within a costructor:\n",
    "    \n",
    "1. Reference to the Instance: 'self' represents the specific instance of the class being created or operated on. It allows you to differentiate between the various instances of that class. Each instance maintains its own set of attributes and values.\n",
    "\n",
    "2. Initializing Instance Variables: Within the constructor ('__init__'), 'self' is used to initialize instance variables. When you define instance variables within the constructor using 'self.variable_name=initial_value', you're setting up the initial state of that particular instance.\n",
    "\n",
    "Here's an example to illustrate this:"
   ]
  },
  {
   "cell_type": "code",
   "execution_count": 1,
   "id": "92c7bf4d-0b99-4a6c-bf18-10aad54892e6",
   "metadata": {},
   "outputs": [
    {
     "name": "stdout",
     "output_type": "stream",
     "text": [
      "x: 19, y: 49\n",
      "x: 20, y: 40\n"
     ]
    }
   ],
   "source": [
    "class MyClass:\n",
    "    def __init__(self,x,y):\n",
    "        self.x=x      # initializing instance variable x\n",
    "        self.y=y      # initializing instance variable y\n",
    "        \n",
    "    def display(self):\n",
    "        print(f\"x: {self.x}, y: {self.y}\")\n",
    "        \n",
    "# creating instances of myclass\n",
    "obj1=MyClass(19,49)\n",
    "obj2=MyClass(20,40)\n",
    "\n",
    "\n",
    "# Accessing instance variables using the instances\n",
    "obj1.display()\n",
    "obj2.display()"
   ]
  },
  {
   "cell_type": "markdown",
   "id": "cc362344-24d6-4ee3-ac77-4bd27dea9ab6",
   "metadata": {},
   "source": [
    "16. How do you prevent a class from having multiple instances by using constructors in Python? Provide an example."
   ]
  },
  {
   "cell_type": "markdown",
   "id": "a3969b93-4b34-4215-81e8-8eb4c26eb428",
   "metadata": {},
   "source": [
    "In Python, you can prevent a class from having multiple instances by implementing a design pattern called a Singleton. This pattern ensures that a class has only one instance and provides a global point of access to that instance.\n",
    "\n",
    "One way to implement the Singleton pattern using constructors in Python is by using a class variable to store the instance and controlling its creation through a class method. Here's an example:"
   ]
  },
  {
   "cell_type": "code",
   "execution_count": 2,
   "id": "773c58ec-4b38-453e-94ed-7ead9f9e569f",
   "metadata": {},
   "outputs": [
    {
     "name": "stdout",
     "output_type": "stream",
     "text": [
      "Instance 1 data\n",
      "Instance 2 data\n"
     ]
    }
   ],
   "source": [
    "class Singleton:\n",
    "    _instance = None  # Private class variable to store the instance\n",
    "    \n",
    "    \n",
    "    def __new__(cls, *args, **kwargs):\n",
    "        if not cls._instance:  # create an instance only if it doesn't exist\n",
    "            cls._instance=super().__new__(cls)\n",
    "            \n",
    "        return cls._instance\n",
    "    \n",
    "    def __init__(self, data):\n",
    "        # initialization logic here\n",
    "        self.data=data\n",
    "        \n",
    "        \n",
    "# example usage:\n",
    "singleton_instance_1=Singleton(\"Instance 1 data\")\n",
    "print(singleton_instance_1.data) \n",
    "\n",
    "singleton_instance_2=Singleton(\"Instance 2 data\")\n",
    "print(singleton_instance_2.data)"
   ]
  },
  {
   "cell_type": "markdown",
   "id": "fb3ac171-537b-4306-a4c7-430f092d7f2a",
   "metadata": {},
   "source": [
    "17. Create a Python class called 'Student' with a constructor that takes a list of subjects as a parameter and initializes the 'subjects' attribute."
   ]
  },
  {
   "cell_type": "code",
   "execution_count": 3,
   "id": "dae8fbd1-053e-41f5-9690-b71c7e142d5a",
   "metadata": {},
   "outputs": [
    {
     "name": "stdout",
     "output_type": "stream",
     "text": [
      "Name: Soonak, Age: 23, Grade: A\n",
      "Subjects: Math, Science, History, Geography\n"
     ]
    }
   ],
   "source": [
    "class Student:\n",
    "    def __init__(self, name, age, grade, subjects):\n",
    "        self.name=name\n",
    "        self.age=age\n",
    "        self.grade=grade\n",
    "        self.subjects=subjects\n",
    "        \n",
    "    def display_info(self):\n",
    "        print(f\"Name: {self.name}, Age: {self.age}, Grade: {self.grade}\")\n",
    "        print(\"Subjects:\", ', '.join(self.subjects))\n",
    "        \n",
    "# creating a instance of the student class with a list of subjects\n",
    "subject_list=['Math','Science','History','Geography']\n",
    "student1=Student('Soonak',23,'A',subject_list)\n",
    "student1.display_info()"
   ]
  },
  {
   "cell_type": "markdown",
   "id": "9179d384-c627-4b29-9ac5-6a8a063ff8c2",
   "metadata": {},
   "source": [
    "18. What is the purpose of the '__del__' method in python classes, and how does it relate to constructors?"
   ]
  },
  {
   "cell_type": "markdown",
   "id": "81996166-cfaa-4bce-85fa-fc5d5f13bc85",
   "metadata": {},
   "source": [
    "The '__del__' method in Python classes serves as a destructor. It's invoked when an object is about to be destroyed or garbage collected, freeing up resources associated with that object. However, it's important to note that the '__del__' method isn't guaranteed to be called immediately when an object goes out of scope or when its reference count drops to zero. Python employs automatic garbage collection, so the exact timing of when '__del__' is executed can be unpredictable.\n",
    "\n",
    "On the other hand, constructors in Python, commonly known as '__init__' methods, are used for initializing an object's attributes or performing any setup necessary when an object is created.\n",
    "\n",
    "The relationship between '__init__' (constructor) and '__del__' (destructor) can be summarized as follow:\n",
    "    \n",
    "* '__init__': This method is called when an instance of a class is created. Its purpose is to initialize the object's attributes, set up initial states, and perform any necessary setup during object creation. It's invoked implicitly when an object is created using the class.\n",
    "\n",
    "* '__del__': Contrarily, the '__del__' method is called when the object is about to be destroyed or garbage collected. It's invoked implicitly when an object is being cleaned up and its memory is being reclaimed. This method isn't explicitly called by the programmer.\n",
    "\n",
    "In practice, it's generallly recommended to avoid relying on '__del__' for critical cleanup or resource release tasks due to its unpredictability in execution timing. Instead, it's better to use context managers ('with' statements) or explicit cleanup methods ('close()', 'release()', etc.) to ensure proper resource handling and cleanup when working with objects that require it."
   ]
  },
  {
   "cell_type": "markdown",
   "id": "4382c298-80c5-4b9e-aaad-d6ff79b4093a",
   "metadata": {},
   "source": [
    "19. Explain the use of constructor chaining in Python. Provide a practical example."
   ]
  },
  {
   "cell_type": "markdown",
   "id": "430d7fbe-b138-4bd3-8024-e642ec70285c",
   "metadata": {},
   "source": [
    "Constructor chaining in Python refers to the process of one constructor method calling another constructor method within the same class. This allows for reusing code and initializing attributes through different constructors based on the arguments provided.\n",
    "\n",
    "Here's an example demonstrating constructor chaining in Python."
   ]
  },
  {
   "cell_type": "code",
   "execution_count": 3,
   "id": "b643c94b-d52b-468d-803e-f05fdab9e345",
   "metadata": {},
   "outputs": [
    {
     "name": "stdout",
     "output_type": "stream",
     "text": [
      "Aman 26\n",
      "Bob 33\n",
      "Adam 2\n"
     ]
    }
   ],
   "source": [
    "class Person:\n",
    "    def __init__(self, name,age):\n",
    "        self.name=name\n",
    "        self.age=age\n",
    "        \n",
    "    @classmethod\n",
    "    def from_birth_year(cls, name, birth_year):\n",
    "        current_year=2023 # assume the current year is 2023\n",
    "        age=current_year-birth_year\n",
    "        return cls(name,age) # calls the primary constructor with name and calculated age\n",
    "    \n",
    "    @classmethod\n",
    "    def create_child(cls, name):\n",
    "        # calls the constructor from_birth_year to create a child with default age 0\n",
    "        current_year=2023\n",
    "        return cls.from_birth_year(name, current_year - 2) # assuming the child is 2 year old\n",
    "    \n",
    "# creating instances using different constructors\n",
    "\n",
    "person1=Person('Aman',26) # using the primary constructor\n",
    "print(person1.name, person1.age)\n",
    "\n",
    "person2=Person.from_birth_year('Bob',1990) # Using the alternate constructor\n",
    "print(person2.name,person2.age) \n",
    "\n",
    "child=Person.create_child('Adam')\n",
    "print(child.name,child.age)"
   ]
  },
  {
   "cell_type": "markdown",
   "id": "76ee0a08-620d-4732-9d74-0ae2f65a7eea",
   "metadata": {},
   "source": [
    "20. Create a Python class called 'Car' with a default constructor that initializes the 'make' and 'model' attributes. Provide a method to display car information."
   ]
  },
  {
   "cell_type": "code",
   "execution_count": 5,
   "id": "57e53ad0-ad36-41bb-96be-13d4aac1e75d",
   "metadata": {},
   "outputs": [
    {
     "name": "stdout",
     "output_type": "stream",
     "text": [
      "Make: Toyota, Model: Corolla\n"
     ]
    }
   ],
   "source": [
    "class Car:\n",
    "    def __init__(self,make, model):\n",
    "        self.make=make\n",
    "        self.model=model\n",
    "        \n",
    "    def display_info(self):\n",
    "        print(f\"Make: {self.make}, Model: {self.model}\")\n",
    "        \n",
    "\n",
    "obj_car=Car('Toyota', 'Corolla')\n",
    "\n",
    "obj_car.display_info()"
   ]
  },
  {
   "cell_type": "markdown",
   "id": "8c70a935-a903-4439-8d9a-42069a715049",
   "metadata": {},
   "source": [
    "# Inheritance"
   ]
  },
  {
   "cell_type": "markdown",
   "id": "48ba4803-71dc-49dc-86a6-91a2b5c5a172",
   "metadata": {},
   "source": [
    "1. What is inheritance in Python? Explain its significance in object-oriented programming."
   ]
  },
  {
   "cell_type": "markdown",
   "id": "2d36fe8a-8307-4e2d-aebd-8cf008b34ffa",
   "metadata": {},
   "source": [
    "Inheritance in Python is a mechanism that allows a class to inherit properties and behavior (attributes and methods) from another class. The class that inherits is called a subclass or derived class, and the class that is being inherited from is called a superclass or base class.\n",
    "\n",
    "Here's an example:"
   ]
  },
  {
   "cell_type": "code",
   "execution_count": 6,
   "id": "9ecf31dc-d365-4ea8-9572-b0a259e4527e",
   "metadata": {},
   "outputs": [
    {
     "name": "stdout",
     "output_type": "stream",
     "text": [
      "Vehicle Make: Toyota, Model: Corolla\n",
      "Year: 2023\n"
     ]
    }
   ],
   "source": [
    "class Vehicle:\n",
    "    def __init__(self, make, model):\n",
    "        self.make=make\n",
    "        self.model=model\n",
    "        \n",
    "    def display_info(self):\n",
    "        print(f\"Vehicle Make: {self.make}, Model: {self.model}\")\n",
    "        \n",
    "class Car(Vehicle): # car class inherits from vehicle\n",
    "    def __init__(self, make, model, year):\n",
    "        super().__init__(make, model)\n",
    "        self.year=year\n",
    "        \n",
    "    def display_info(self):\n",
    "        super().display_info() # calls display_info method of vehicle\n",
    "        print(f\"Year: {self.year}\")\n",
    "        \n",
    "my_car=Car('Toyota', 'Corolla', 2023)\n",
    "my_car.display_info()"
   ]
  },
  {
   "cell_type": "markdown",
   "id": "a4ea5981-92bf-40a8-80d0-4bdeb75c0bfe",
   "metadata": {},
   "source": [
    "In this example, 'Vehicle' is the superclass/base class, and 'Car' is the subclass/derived class. The 'Car' class inherits the 'make' and 'model' attributes as well as the 'display_info' method from the 'Vehicle' class. The 'super()' function is used to call the superclass's methods from the subclass.\n",
    "\n",
    "Significance of inheritance in object-oriented programming:\n",
    "    \n",
    "1. Code Reusability: Inheritance promotes reusability by allowing classes to inherit attributes and methods from other classes. Subclasses can extend or modify the behavior of their superclass without duplicating code.\n",
    "\n",
    "2. Hierarchy and Organization: It helps in organizing and structuring classes into a hierarchy. For example, in a vehicle hierarchy, you might have a superclass 'Vehicle' with subclasses like 'Car', 'Truck', 'Motorcycle', each inheriting common properties from 'Vehicle' and adding their unique characteristics.\n",
    "\n",
    "3. Modularity and Extensibility: Inheritance allows for modular and extensible code. New classes can be easily created by extending existing classes, adding new functionality while retaining the features of the base class.\n",
    "\n",
    "4. Polymorphism: Inheritance is closely tied to polymorphism, where objects of different classes can be treated as objects of a common superclass. This enables more flexible and dynamic code.\n",
    "\n",
    "Inheritance is a fundamental concept in object-oriented programming that enables the creation of relationships between classes,fostering code organization, reusability, and extensibility."
   ]
  },
  {
   "cell_type": "markdown",
   "id": "0015152b-2a35-4f14-800e-e4dc6e1ad03c",
   "metadata": {},
   "source": [
    "2. Differentiate between single inheritance and multiple inheritance in Python. Provide examples for each."
   ]
  },
  {
   "cell_type": "markdown",
   "id": "89cf2c69-628d-47bc-a7ad-38a4f1f618af",
   "metadata": {},
   "source": [
    "Single Inheritance:\n",
    "    \n",
    "Single inheritance occurs when a class inherits from only one superclass or base class.\n",
    "\n",
    "Here's an example:"
   ]
  },
  {
   "cell_type": "code",
   "execution_count": 11,
   "id": "b9780ccf-4976-4044-bdd8-19b25ae14a35",
   "metadata": {},
   "outputs": [
    {
     "name": "stdout",
     "output_type": "stream",
     "text": [
      "Vehicle Make: Toyota, Model: Corolla\n",
      "Year: 2023\n"
     ]
    }
   ],
   "source": [
    "class Vehicle:\n",
    "    def __init__(self, make, model):\n",
    "        self.make=make\n",
    "        self.model=model\n",
    "        \n",
    "    def display_info(self):\n",
    "        print(f\"Vehicle Make: {self.make}, Model: {self.model}\")\n",
    "        \n",
    "class Car(Vehicle): # car class inherits from vehicle\n",
    "    def __init__(self, make, model, year):\n",
    "        super().__init__(make, model)\n",
    "        self.year=year\n",
    "            \n",
    "    def display_info(self):\n",
    "        super().display_info() # calls display_info method of vehicle\n",
    "        print(f\"Year: {self.year}\")\n",
    "        \n",
    "my_car=Car('Toyota', 'Corolla',2023)\n",
    "my_car.display_info()"
   ]
  },
  {
   "cell_type": "markdown",
   "id": "84ec0c0b-87bf-4437-a63f-ffa45ef4fb07",
   "metadata": {},
   "source": [
    "In this example, 'Car' is a subclass that inherits from the 'Vehicle' superclass using single inheritance. The 'Car' class inherits the 'make' and 'model' attributes as well as the 'display_info' method from the 'Vehicle' class."
   ]
  },
  {
   "cell_type": "markdown",
   "id": "53e4ae60-118b-47e3-b7e4-3d15ebf4a13a",
   "metadata": {},
   "source": [
    "Multiple Inheritance:\n",
    "    \n",
    "Multiple inheritance occurs when a class inherits from more than one superclass or base class.\n",
    "\n",
    "Example:"
   ]
  },
  {
   "cell_type": "code",
   "execution_count": 12,
   "id": "5d729efd-1925-4eac-acf5-6b23d6adde09",
   "metadata": {},
   "outputs": [
    {
     "name": "stdout",
     "output_type": "stream",
     "text": [
      "Chirp chirp\n",
      "Flying high\n"
     ]
    }
   ],
   "source": [
    "class Animal:\n",
    "    def make_sound(self):\n",
    "        pass\n",
    "    \n",
    "class Flyable:\n",
    "    def fly(self):\n",
    "        pass\n",
    "    \n",
    "class Bird(Animal, Flyable):  # Bird class inherits from Animal and Flyable\n",
    "    def make_sound(self):\n",
    "        print('Chirp chirp')\n",
    "        \n",
    "    def fly(self):\n",
    "        print('Flying high')\n",
    "        \n",
    "my_bird=Bird()\n",
    "my_bird.make_sound()\n",
    "my_bird.fly()"
   ]
  },
  {
   "cell_type": "markdown",
   "id": "98a31451-fd7f-4269-a564-524ebb763307",
   "metadata": {},
   "source": [
    "In this example, the 'Bird' class inherits from both the 'Animal' and 'Flyable' classes using multiple inheritance. As a result, 'Bird' class objects have access to methods 'make_sound' from 'Animal' and 'fly' from 'Flyable'.\n",
    "\n",
    "Difference:\n",
    "    \n",
    "The primary difference between single and multiple inheritance is the number of base classes a subclass can inherit from:\n",
    "    \n",
    "* Single Inheritance: A subclass inherits from only one superclass.\n",
    "\n",
    "* Multiple Inheritance: A subclass inherits from more than one superclass.\n",
    "\n",
    "Multiple inheritance can lead to complex hierarchies and requires careful design to prevent issues like the diamond problem (a problem that arises when two superclasses have a common ancestor). Python supports both forms of inheritance, but multiple inheritance should be used judiciously to maintain code readability and avoid ambiguity in method resolution order."
   ]
  },
  {
   "cell_type": "markdown",
   "id": "222954db-03f2-46d0-acf1-6e4468a63132",
   "metadata": {},
   "source": [
    "3. Create a Python class called 'Vehicle' with attributes 'color' and 'speed'. Then, create a child class called 'Car' that inherits from 'Vehicle' and adds a 'brand' attribute. Provide an example of creating a 'Car' object."
   ]
  },
  {
   "cell_type": "code",
   "execution_count": 20,
   "id": "29e093f1-7c9c-46f9-a3be-2dcbb2841f26",
   "metadata": {},
   "outputs": [
    {
     "name": "stdout",
     "output_type": "stream",
     "text": [
      "Color: Black, Speed: 100\n",
      "Brand: TATA\n"
     ]
    }
   ],
   "source": [
    "class Vehicle:\n",
    "    def __init__(self,color, speed):\n",
    "        self.color=color\n",
    "        self.speed=speed\n",
    "        \n",
    "    def display_info(self):\n",
    "        print(f\"Color: {self.color}, Speed: {self.speed}\")\n",
    "        \n",
    "\n",
    "class Car(Vehicle):\n",
    "    def __init__(self, color, speed, brand):\n",
    "        super().__init__(color, speed)\n",
    "        self.brand=brand\n",
    "        \n",
    "    def display_info(self):\n",
    "        super().display_info() # call display_info method of Vehicle class\n",
    "        print('Brand:',self.brand)\n",
    "        \n",
    "obj_car=Car('Black', 100, 'TATA')\n",
    "obj_car.display_info()"
   ]
  },
  {
   "cell_type": "markdown",
   "id": "2affb566-2bea-4a40-9583-b6fca4f99d4b",
   "metadata": {},
   "source": [
    "4. Explain the concept of method overriding in inheritance. Provide a practical example."
   ]
  },
  {
   "cell_type": "markdown",
   "id": "e0e21983-06b5-4b96-99e8-f0335db4fab6",
   "metadata": {},
   "source": [
    "Method overriding is a fundamental concept in object-oriented programming that allows a subclass to provide a specific implementation of a method that is already defined in its superclass. When a subclass defines a method with the same name, return type, and parameters as a method in its superclass, it overrides the superclass method.\n",
    "\n",
    "Here's practical example in Python:"
   ]
  },
  {
   "cell_type": "code",
   "execution_count": 1,
   "id": "a0616213-3c5a-4d92-94bb-050db72ea726",
   "metadata": {},
   "outputs": [
    {
     "name": "stdout",
     "output_type": "stream",
     "text": [
      "Some generic sound\n",
      "Woof!\n",
      "Meow\n"
     ]
    }
   ],
   "source": [
    "# Parent class\n",
    "\n",
    "class Animal:\n",
    "    def sound(self):\n",
    "        print('Some generic sound')\n",
    "        \n",
    "# child class inheriting from Animal\n",
    "class Dog(Animal):\n",
    "    def sound(self):\n",
    "        print('Woof!')\n",
    "        \n",
    "class Cat(Animal):\n",
    "    def sound(self):\n",
    "        print('Meow')\n",
    "        \n",
    "\n",
    "# Creating instances\n",
    "animal=Animal()\n",
    "dog=Dog()\n",
    "cat=Cat()\n",
    "\n",
    "# Method calls\n",
    "animal.sound()\n",
    "dog.sound()\n",
    "cat.sound()"
   ]
  },
  {
   "cell_type": "markdown",
   "id": "4b5671da-1b97-4cdf-b394-44e506902c17",
   "metadata": {},
   "source": [
    "In this example, the 'Animal' class has a method 'sound()' that prints a generic sound. Both 'Dog' and 'Cat' classes inherit from 'Animal' and override the 'sound()' method with their specific implementations for making sounds. When you call the 'sound()' method on instances of 'Dog' or 'Cat', it executes the overridden method from the respective subclass.\n",
    "\n",
    "This flexibility in method overriding is crucial in allowing different classes to have their own implementations of methods inherited from a common superclass, enabling more specialized behavior in subclasses while maintaining a common interface defined in the superclass."
   ]
  },
  {
   "cell_type": "markdown",
   "id": "e224d7d5-ce74-49b0-b99c-c9aace9b24d3",
   "metadata": {},
   "source": [
    "5. How can you access the methods and attributes of a parent class from a child class in Python? Give an example."
   ]
  },
  {
   "cell_type": "markdown",
   "id": "42064c46-7089-4645-8fa5-5815aa119111",
   "metadata": {},
   "source": [
    "In Python, you can access the methods and attributes of a parent class from a child class using the 'super()' function or by directly referencing the parent class.\n",
    "\n",
    "Here's an example to demonstrate both approaches:"
   ]
  },
  {
   "cell_type": "code",
   "execution_count": 1,
   "id": "9f6c5f3d-244b-45be-b931-f14a01092640",
   "metadata": {},
   "outputs": [
    {
     "name": "stdout",
     "output_type": "stream",
     "text": [
      "Hello, I'm Alice\n",
      "Alice is 20 years old\n",
      "Hello, I'm Alice. Alice is 20 years old\n"
     ]
    }
   ],
   "source": [
    "# Parent class\n",
    "\n",
    "class Parent:\n",
    "    def __init__(self, name):\n",
    "        self.name=name\n",
    "        \n",
    "    def greet(self):\n",
    "        return f\"Hello, I'm {self.name}\"\n",
    "    \n",
    "# Child class inheriting from Parent\n",
    "class Child(Parent):\n",
    "    def __init__(self, name, age):\n",
    "        super().__init__(name)  # using super() to access the parent class constructor\n",
    "        self.age=age\n",
    "        \n",
    "    def describe(self):\n",
    "        return f\"{self.name} is {self.age} years old\"\n",
    "    \n",
    "    def greet_and_describe(self):\n",
    "        parent_greeting=super().greet() # accessing parent class method using super()\n",
    "        return f\"{parent_greeting}. {self.describe()}\"\n",
    "    \n",
    "# Creating an instance of the child class\n",
    "child=Child('Alice', 20)\n",
    "\n",
    "# Accessing methods and attributes\n",
    "print(child.greet()) # accessing parent class method from the child instance\n",
    "print(child.describe()) # accessing child class method\n",
    "print(child.greet_and_describe())  # accessing parent class method within child class method"
   ]
  },
  {
   "cell_type": "markdown",
   "id": "73db3d54-56c1-4669-864f-d0a2d2d0f2ad",
   "metadata": {},
   "source": [
    "In this example, the 'Child' class inherits from the 'Parent' class. The 'super()' function is used to access the parent class constructor and method within the child class. The 'describe()' method is specific to the child class and demonstrates how you can access both parent and child attributes within the child class. "
   ]
  },
  {
   "cell_type": "markdown",
   "id": "4d7277ac-84ce-4611-af76-dd0735a4ee1b",
   "metadata": {},
   "source": [
    "6. Discuss the use of the 'super()' function in Python inheritance. When and why is it used? Provide an example."
   ]
  },
  {
   "cell_type": "markdown",
   "id": "06a6e9da-18c4-4a25-8cd9-d7d0fb290e2a",
   "metadata": {},
   "source": [
    "The 'super()' function in Python is used to access methods and properties from a parent class within a child class that inherits from it. It's particularly useful when working with inheritance hierarchies, allowing you to call methods or access attributes defined in the parent class.\n",
    "\n",
    "The primary advantage of 'super()' over directly referencing the parent class is its ability to handle multiple inheritance scenarios more gracefully. When a class inherits from multiple parent classes (multiple inheritance), 'super()' ensures that methods and attributes are accessed in a consistent and predictable order according to the method resolution order (MRO).\n",
    "\n",
    "Here's an example to illustrate the use of 'super()':"
   ]
  },
  {
   "cell_type": "code",
   "execution_count": 5,
   "id": "4ab2114a-7f88-430d-99b1-be544021a00e",
   "metadata": {},
   "outputs": [
    {
     "name": "stdout",
     "output_type": "stream",
     "text": [
      "Hello, I'm Ajay\n",
      "Ajay is 19 years old\n",
      "Hello, I'm Ajay. Ajay is 19 years old\n"
     ]
    }
   ],
   "source": [
    "# parent class\n",
    "class Parent:\n",
    "    def __init__(self, name):\n",
    "        self.name=name\n",
    "        \n",
    "    def greet(self):\n",
    "        return f\"Hello, I'm {self.name}\"\n",
    "    \n",
    "# child class inheriting from parent\n",
    "class Child(Parent):\n",
    "    def __init__(self, name, age):\n",
    "        super().__init__(name) # using super() to access the prent class constructor\n",
    "        self.age=age\n",
    "        \n",
    "    def describe(self):\n",
    "        return f\"{self.name} is {self.age} years old\"\n",
    "    \n",
    "    def greet_and_describe(self):\n",
    "        parent_greeting =super().greet() # accessing parent class method using super()\n",
    "        return f\"{parent_greeting}. {self.describe()}\"\n",
    "    \n",
    "# Creating an instance of the child class\n",
    "child=Child('Ajay' , 19)\n",
    "\n",
    "# Accessing methods and attributes \n",
    "print(child.greet()) # Accessing parent class method from the child instance\n",
    "print(child.describe()) # Accessing child class method\n",
    "print(child.greet_and_describe()) # Accessing parent class method within child class method"
   ]
  },
  {
   "cell_type": "markdown",
   "id": "6d92dd26-19da-4261-bef0-f49ad58a0dde",
   "metadata": {},
   "source": [
    "This mechanism allows for a more maintainable and flexible codebase, especially when dealing with complex inheritance structures. 'super()' helps maintain consistency in method resulution and promotes code reusability by enabling access to parent class functionality within the child class."
   ]
  },
  {
   "cell_type": "markdown",
   "id": "b54309d3-e309-4d7b-aebf-e09ff58aa055",
   "metadata": {},
   "source": [
    "7. Create a Python class called 'Animal' with a method 'speak()'. Then, create child classes 'Dog' and 'Cat' that inherit from 'Animal' and override the 'speak()' method. Provide an example of using these classes."
   ]
  },
  {
   "cell_type": "code",
   "execution_count": 10,
   "id": "696415dc-5e80-4a1a-834b-b4c317dd4fc6",
   "metadata": {},
   "outputs": [
    {
     "name": "stdout",
     "output_type": "stream",
     "text": [
      "Bhoww bhoww!\n",
      "Maow maow!\n"
     ]
    }
   ],
   "source": [
    "class Animal:\n",
    "    def speak(self):\n",
    "        return \"Coww coww!\"   # this method will be overridden by child classes\n",
    "    \n",
    "class Dog(Animal):\n",
    "    def speak(self):\n",
    "        return 'Bhoww bhoww!'\n",
    "    \n",
    "class Cat(Animal):\n",
    "    def speak(self):\n",
    "        return 'Maow maow!'\n",
    "    \n",
    "# create a instance of Dog and Cat classes\n",
    "\n",
    "dog=Dog()\n",
    "cat=Cat()\n",
    "\n",
    "# accesing the methods\n",
    "\n",
    "print(dog.speak())\n",
    "print(cat.speak())"
   ]
  },
  {
   "cell_type": "markdown",
   "id": "7f68be88-0e44-4d6e-b058-0dc83310876e",
   "metadata": {},
   "source": [
    "8. Explain the role of the 'isinstance()' function in python and how it relates to inheritance."
   ]
  },
  {
   "cell_type": "markdown",
   "id": "2bec7416-00c2-4ba3-9314-63ca013356ce",
   "metadata": {},
   "source": [
    "The 'isinstance()' function in Python is used to check if an object belongs to a particular class or its subclass. It helps in determining whether an object is an instance of a specific class or any of its derived classes in the inheritance hierarchy.\n",
    "\n",
    "Here's how 'isinstance()' works in relation to inheritance:"
   ]
  },
  {
   "cell_type": "markdown",
   "id": "e52ac291-5ea8-4bdb-80e2-a9abe0410477",
   "metadata": {},
   "source": [
    "1. Checking instance type:"
   ]
  },
  {
   "cell_type": "code",
   "execution_count": 16,
   "id": "51f5daa2-d352-4291-b36f-513d4cd1c57d",
   "metadata": {},
   "outputs": [
    {
     "name": "stdout",
     "output_type": "stream",
     "text": [
      "True\n",
      "True\n"
     ]
    }
   ],
   "source": [
    "class Animal:\n",
    "    pass\n",
    "\n",
    "class Dog(Animal):\n",
    "    pass\n",
    "\n",
    "dog=Dog()\n",
    "\n",
    "print(isinstance(dog, Dog))  # returns True\n",
    "print(isinstance(dog, Animal)) # returns True since Dog is a subclass of Animal"
   ]
  },
  {
   "cell_type": "markdown",
   "id": "4809fd73-4cfb-459c-be36-075614402024",
   "metadata": {},
   "source": [
    "The function 'isinstance()' checks whether 'dog' is an instance of the 'Dog' class or any of its parent classes. In this case, both checks return 'True'."
   ]
  },
  {
   "cell_type": "markdown",
   "id": "52dd4f88-4ddb-49d8-b939-fc8151a78729",
   "metadata": {},
   "source": [
    "2. Use in Conditional Statements:"
   ]
  },
  {
   "cell_type": "code",
   "execution_count": 17,
   "id": "6fb58ab3-506e-46c9-884f-10c0d8ad062f",
   "metadata": {},
   "outputs": [
    {
     "name": "stdout",
     "output_type": "stream",
     "text": [
      "It's a Dog!\n"
     ]
    }
   ],
   "source": [
    "if isinstance(dog,Dog):\n",
    "    print(\"It's a Dog!\")\n",
    "elif isinstance(dog, Animal):\n",
    "    print(\"It's an Animal\")"
   ]
  },
  {
   "cell_type": "markdown",
   "id": "a3c6f9c6-89f7-4269-9522-fa14fa132dcc",
   "metadata": {},
   "source": [
    "This allows you to create conditional logic based on the type fo object. It executes specific code blocks depending on the class hierarchy an object belongs to.\n",
    "\n",
    "3. Inheritance and Polymorphism:\n",
    "    \n",
    "'isinstance()' is fundamental in implementing polymorphism, a key feature of object-oriented programming. It enables different classes to be treated uniformlly through a common interface, allowing for flexibility in handling various types of objects derived from a common base class. For example, you can have a method that accepts an 'Animal' object and works with any subclass of 'Animal' because it relies on 'isinstance()' to handle different types appropriately.\n",
    "\n",
    "4. Safety Checks:\n",
    "    \n",
    "It's often used in error handling and validation to ensure that an object passed to a function or method is of an expected type or inherits from a particular class before performing operations on it.\n",
    "\n",
    "In essence, 'isinstance()' is a versatile function that aids in determining the relationship between classes in inheritance hierarchies and allows for flexible handling of objects based on their types."
   ]
  },
  {
   "cell_type": "markdown",
   "id": "46713df7-10d4-410b-bd7a-b54605eb828a",
   "metadata": {},
   "source": [
    "9. What is the purpose of the 'issubclass()' function in Python? Provide an example."
   ]
  },
  {
   "cell_type": "markdown",
   "id": "de2e7e5d-aa8a-4d21-b8d5-4c152eb8af70",
   "metadata": {},
   "source": [
    "The 'issubclass()' function in Python is used to check the inheritance relationship between classes. It determines whether one class is a subclass of another class or whether it is the same class.\n",
    "\n",
    "Here's an example demonstrating the use of 'issubclass()':"
   ]
  },
  {
   "cell_type": "code",
   "execution_count": 2,
   "id": "edb8a5df-420c-400d-861a-1e7f0d96dd94",
   "metadata": {},
   "outputs": [
    {
     "name": "stdout",
     "output_type": "stream",
     "text": [
      "True\n",
      "True\n",
      "True\n"
     ]
    }
   ],
   "source": [
    "class Animal:\n",
    "    pass\n",
    "\n",
    "class Dog(Animal):\n",
    "    pass\n",
    "\n",
    "class Cat(Animal):\n",
    "    pass\n",
    "\n",
    "# Checking if Dog is a subclass of Animal\n",
    "print(issubclass(Dog, Animal)) # return True\n",
    "\n",
    "# checking if Cat is a subclass of Animal\n",
    "\n",
    "print(issubclass(Cat, Animal))  # return True\n",
    "\n",
    "# checking if Animal is a subclass of itself (which is true)\n",
    "\n",
    "print(issubclass(Animal, Animal))  # return True"
   ]
  },
  {
   "cell_type": "markdown",
   "id": "a52feba4-b7a3-4929-8179-82ce3d4b2777",
   "metadata": {},
   "source": [
    "In this example:\n",
    "    \n",
    "* 'Dog' and 'Cat' are subclasses of 'Animal'.\n",
    "\n",
    "* The function 'issubclass()' is used to check these relationships by passing the classes as arguments. It returns 'True' if the first argument is indeed a ssubclass of the second argument, or if they are the same class.\n",
    "\n",
    "* 'issubclass()' is useful when you need to dynamically check class relationships or when you want to validate inheritance relationships in your code."
   ]
  },
  {
   "cell_type": "markdown",
   "id": "a22d5d9e-de2f-41b3-a373-c2652ad381a3",
   "metadata": {},
   "source": [
    "10. Discuss the concept of constructor inheritance in Python. How are constructors inherited in child classes?"
   ]
  },
  {
   "cell_type": "markdown",
   "id": "070eda66-1df8-4904-9757-a8973d444c26",
   "metadata": {},
   "source": [
    "In Python, constructor inheritance refers to how child classes inherit behavior from their parent class constructors. When a child class is created, it can inherit the constructor of its parent class unless a new constructor is explicitly defined in the child class.\n",
    "\n",
    "Here's how constructor inheritance works:\n",
    "\n",
    "1. Inheriting Constructors:\n",
    "    \n",
    "    If a child class doesn't have its own constructor('__init__' method), it automatically inherits the constructor of its parent class. This means that when an instance of the child class is created, the parent class's constructor is called, initializing any attributes or performing actions defined in the parent's constructo.\n",
    "    \n",
    "2. Explicit Constructor Definition in Child Class:\n",
    "    \n",
    "    If a child class defines its own constructor, it doesn't automatically inherit the parent class's constructor. However, the child class constructor can explicitly call the parent class's constructor using 'super()' to include the initialization logic from the parent class in addition to its own logic.\n",
    "    \n",
    "    Here's an example to illustrate constructor inheritance:\n",
    "    \n",
    "    "
   ]
  },
  {
   "cell_type": "code",
   "execution_count": 4,
   "id": "76ebb351-3724-42b0-b587-94cdc993c4e2",
   "metadata": {},
   "outputs": [
    {
     "name": "stdout",
     "output_type": "stream",
     "text": [
      "Parent constructor called\n",
      "Child constructor called\n"
     ]
    }
   ],
   "source": [
    "class Parent:\n",
    "    def __init__(self, parent_attr):\n",
    "        self.parent_attr=parent_attr\n",
    "        print('Parent constructor called')\n",
    "        \n",
    "class Child(Parent):\n",
    "    def __init__(self, parent_attr, child_attr):\n",
    "        super().__init__(parent_attr)  # calling the parent constructor\n",
    "        self.child_attr=child_attr\n",
    "        print('Child constructor called')\n",
    "        \n",
    "# Creating an instance of the child class\n",
    "\n",
    "child_instance=Child('Parent attribute','Child attribute')"
   ]
  },
  {
   "cell_type": "markdown",
   "id": "560de76e-63bd-44f8-bc75-8e323575d30e",
   "metadata": {},
   "source": [
    "This demonstrates how constructors are inherited in Python. Child classes can either inherit the parent's constructor implicitly or explicitly call the parent's constructor using 'super()' to include the parent's initialization logic alongside their own initialization logic."
   ]
  },
  {
   "cell_type": "markdown",
   "id": "73e5cebb-a964-43d7-aecb-3be65d332cd0",
   "metadata": {},
   "source": [
    "11. Create a Python class called 'Shape' with a method 'area()' that calculates the area of a shape. Then, create child classes 'Circle' and 'Rectangle' that inherit from 'Shape' and implement the 'area()' method accordingly. Provide an example."
   ]
  },
  {
   "cell_type": "code",
   "execution_count": 11,
   "id": "0ef0a681-2999-4820-aa4e-da5102a334df",
   "metadata": {},
   "outputs": [
    {
     "name": "stdout",
     "output_type": "stream",
     "text": [
      "Area of Circle:\n",
      "78.5\n",
      "Area of Rectangel:\n"
     ]
    },
    {
     "data": {
      "text/plain": [
       "60"
      ]
     },
     "execution_count": 11,
     "metadata": {},
     "output_type": "execute_result"
    }
   ],
   "source": [
    "# Parent class\n",
    "\n",
    "class Shape:\n",
    "    def area(self):\n",
    "        pass         # this method will be overridden by child classes\n",
    "    \n",
    "# child class\n",
    "class Circle(Shape):\n",
    "    def area(self,radius):\n",
    "        self.radius=radius\n",
    "        print('Area of Circle:')\n",
    "        print( (self.radius**2) * (3.14))\n",
    "    \n",
    "# another child class\n",
    "\n",
    "class Rectangle(Shape):\n",
    "    def area(self, width, length):\n",
    "        self.width=width\n",
    "        self.length=length\n",
    "        print('Area of Rectangel:')\n",
    "        return self.width * self.length\n",
    "    \n",
    "# creating instance of circle and rectangle class\n",
    "\n",
    "obj_circle=Circle()\n",
    "obj_rectangle=Rectangle()\n",
    "\n",
    "# calling the methods\n",
    "obj_circle.area(5)\n",
    "obj_rectangle.area(5,12)"
   ]
  },
  {
   "cell_type": "markdown",
   "id": "4f04d2c5-a968-4a29-bfb4-ba8bc635d75a",
   "metadata": {},
   "source": [
    "12. Explain the use of abstract base classes (ABCs) in Python and how they relate to inheritance. Provide an example using the 'abc' module."
   ]
  },
  {
   "cell_type": "markdown",
   "id": "b6e27fca-af51-413b-8307-5925f50363a2",
   "metadata": {},
   "source": [
    "Abstract Base Classes (ABCs) in Python provide a way to ddefine a common interface for a group of subclasses. They allow you to define abstract methods that must be implemented by thhe subclasses, ensuring a certain structure or behavior across different classes. The 'abc' module in Python is used to work with abstract base classes.\n",
    "\n",
    "Here's an example demonstrating the use of the 'abc' module and abstract base classes:"
   ]
  },
  {
   "cell_type": "code",
   "execution_count": 15,
   "id": "3aeec409-fbce-4525-8433-175dca94881f",
   "metadata": {},
   "outputs": [
    {
     "name": "stdout",
     "output_type": "stream",
     "text": [
      "Can't instantiate abstract class Shape with abstract method area\n",
      "Area of the circle: 78.5\n",
      "Area of the Rectangle: 20\n"
     ]
    }
   ],
   "source": [
    "from abc import ABC, abstractmethod\n",
    "\n",
    "class Shape(ABC):\n",
    "    @ abstractmethod\n",
    "    def area(self):\n",
    "        pass\n",
    "    \n",
    "class Circle(Shape):\n",
    "    def __init__(self, radius):\n",
    "        self.radius=radius\n",
    "    \n",
    "    def area(self):\n",
    "        return 3.14 * self.radius**2\n",
    "    \n",
    "class Rectangle(Shape):\n",
    "    def __init__(self, width, height):\n",
    "        self.width=width\n",
    "        self.height=height\n",
    "        \n",
    "    def area(self):\n",
    "        return self.width * self.height\n",
    "    \n",
    "\n",
    "# attempting to create an instance of Shape (an abstract class) will raise an error\n",
    "\n",
    "try:\n",
    "    shape=Shape()  # Raise TypeError: Can't instantiate abstract class Shape with abstract methods area\n",
    "except TypeError as e:\n",
    "    print(e)\n",
    "    \n",
    "# Creating instances of Circle and Rectangle\n",
    "circle=Circle(5)\n",
    "rectangle=Rectangle(4,5)\n",
    "\n",
    "print('Area of the circle:',circle.area())\n",
    "print('Area of the Rectangle:', rectangle.area())"
   ]
  },
  {
   "cell_type": "markdown",
   "id": "68c1597f-19d3-4b51-aefc-8bb5b1fb61c6",
   "metadata": {},
   "source": [
    "Explanation:\n",
    "    \n",
    "* 'Shape' is an abstract base class defined with the 'ABC' metaclass from the 'abc' module.\n",
    "\n",
    "* It contains an abstract method 'area()' decorated with '@abstractmethod'. This method must be implemented by any subclass inheriting from 'Shape'.\n",
    "\n",
    "* 'Circle' and 'Rectangle' are subclasses of 'Shape' and provide their own implementations of the 'area()' method.\n",
    "\n",
    "* Attempting to create an instance of the 'Shape' class directly raises a 'TypeError' since abstract classes cannot be instantiated.\n",
    "\n",
    "* Instances of 'Circle' and 'Rectangle' are created, and their 'area()' methods are called to calculate and return the area of the shapes.\n",
    "\n",
    "\n",
    "Abstract base classes help in defining a common structure among related claasses while enforcing the implementation of specific methods in those classes. They ensure a consistent interface across subclasses, promoting code clarity and reliability."
   ]
  },
  {
   "cell_type": "markdown",
   "id": "fd02875d-eff5-4e45-b67a-db3388dc1930",
   "metadata": {},
   "source": [
    "13. How can you prevent a child class from modifying certain attributes or methods inherited from a parent class in Python?"
   ]
  },
  {
   "cell_type": "markdown",
   "id": "eed89c2b-4f96-4a3e-a9c5-f59331711800",
   "metadata": {},
   "source": [
    "In Python, you can control attribute and method accessibility in various ways, but complete prevention of modifications to inherited attributes or methods, from a parent class isn't straightforward without leveraging features provided by access control, like encapsulation or inheritance customization.\n",
    "\n",
    "Here are a few techniques to limit or control modifications:\n",
    "    \n",
    "1. Using Private Attributes or Methods:\n",
    "    \n",
    "Prefixing attributes or methods with a double underscore '__' makes them 'private' in Python, leading to name mangling. This doesn't completely prevent access but discourages modification due to name changes.\n"
   ]
  },
  {
   "cell_type": "code",
   "execution_count": 21,
   "id": "43203732-00f9-46d6-8b7b-528a010ccbba",
   "metadata": {},
   "outputs": [],
   "source": [
    "class Parent:\n",
    "    def __init__(self):\n",
    "        self.__attribute= 5 # Private attribute\n",
    "        \n",
    "class Child(Parent):\n",
    "    def __init__(self):\n",
    "        super().__init__()\n",
    "        self.__attribute=10  # appears as a separate attribute from Parent's"
   ]
  },
  {
   "cell_type": "markdown",
   "id": "698f9bd9-1aa8-4404-ab47-ced91c376749",
   "metadata": {},
   "source": [
    "2. Overriding in Child Class with Read-Only Property or Method:\n",
    "    \n",
    "    You can redefine a method or attribute in the child class, making it read-only by raising an error upon modification attempts."
   ]
  },
  {
   "cell_type": "code",
   "execution_count": 22,
   "id": "6711d2d4-6020-49f9-adb6-a3734728967e",
   "metadata": {},
   "outputs": [],
   "source": [
    "class Parent:\n",
    "    def __init__(self):\n",
    "        self.attribute=5\n",
    "        \n",
    "class Child(Parent):\n",
    "    def __init__(self):\n",
    "        super().__init__()\n",
    "        self.attribute=10 # raises an error or doesn't change the value\n",
    "        \n",
    "    @property\n",
    "    def attribute(self):\n",
    "        return super().attribute # Getter method to access the attribute\n",
    "    "
   ]
  },
  {
   "cell_type": "markdown",
   "id": "2f6261e0-8eb2-41fd-8ce6-3278b8fd915d",
   "metadata": {},
   "source": [
    "3. Using Composition instead of Inheritance:\n",
    "    \n",
    "    Instead of using inheritance directly, encapsulate instances of the parent class within the child class. This way, you control access to attributes or methods by exposing only the necessary functionality."
   ]
  },
  {
   "cell_type": "code",
   "execution_count": 23,
   "id": "a4566ce2-703f-4afb-a0ba-995fbac6d34c",
   "metadata": {},
   "outputs": [],
   "source": [
    "class Parent:\n",
    "    def __init__(self):\n",
    "        self.attribute=5\n",
    "        \n",
    "class Child:\n",
    "    def __init__(self):\n",
    "        self.parent=Parent()\n",
    "        \n",
    "    @property\n",
    "    def attribute(self):   \n",
    "        return self.parent.attribute   # Accessing the attribute via composition"
   ]
  },
  {
   "cell_type": "markdown",
   "id": "e7855c88-89d0-42d8-bb3e-c0c081e24ba3",
   "metadata": {},
   "source": [
    "4. Documenting and Using Conventions:\n",
    "    \n",
    "    While not a direct preventive measure, clear documentation and adhering to conventions signal to other developers that certain attributes or methods shouldn't be modified. This isn't a technical solution but can be helpful for code maintainability.\n",
    "    \n",
    "    These techniques provide varying levels of control over inherited attributes or methods, but in Python, they may not completely prevent modifications due to the language's flexibility. Developers often rely on conventions, documentation, and code reviews to maintain expected behaviors.\n"
   ]
  },
  {
   "cell_type": "markdown",
   "id": "479bdd4f-ca77-4aed-abaa-b239d994d670",
   "metadata": {},
   "source": [
    "14. Create a Python class called 'Employee' with attributes 'name' and 'salary'. Then, create a child class 'Manager' that inherits from 'Employee' and adds an attribute 'department'. Provide an example."
   ]
  },
  {
   "cell_type": "code",
   "execution_count": 33,
   "id": "fed7195f-e226-44ba-b975-1b17ab78131f",
   "metadata": {},
   "outputs": [
    {
     "name": "stdout",
     "output_type": "stream",
     "text": [
      "Alam earns 50000\n",
      "Rabiya earns 70000 in Health Care\n"
     ]
    }
   ],
   "source": [
    "class Employee:\n",
    "    def __init__(self,name, salary):\n",
    "        self.name=name\n",
    "        self.salary=salary\n",
    "        \n",
    "class Manager(Employee):\n",
    "    def __init__(self, name, salary, department):\n",
    "        super().__init__(name, salary)\n",
    "        self.department = department\n",
    "        \n",
    "# example usage:\n",
    "\n",
    "employee=Employee('Alam', 50000)\n",
    "manager=Manager('Rabiya',70000,'Health Care')\n",
    "\n",
    "print(f\"{employee.name} earns {employee.salary}\")\n",
    "print(f\"{manager.name} earns {manager.salary} in {manager.department}\")"
   ]
  },
  {
   "cell_type": "markdown",
   "id": "a62ea23f-e01b-46c2-a3af-c4b7e4068afa",
   "metadata": {},
   "source": [
    "15. Discuss the concept of method overloading in Python inheritance. How does it differ from method overriding?"
   ]
  },
  {
   "cell_type": "markdown",
   "id": "67f30c6c-a9a0-4b1f-8876-bffb6fa75398",
   "metadata": {},
   "source": [
    "In python, method overloading and method overriding are two different concepts related to inheritance and polymorphism.\n",
    "\n",
    "Method Overloading:\n",
    "    \n",
    "    \n",
    "    Method overloading refers to defining multiple methods in a class with the same name but different parameters or argument types. In Python, method overloading is not directly supported like in some other programming languages (like Javaa or C++), where you can have methods with the same name but different parameter lists.\n",
    "    \n",
    "    \n",
    "    However, Python does provide a form of overloading through default arguments or by using '*args' and '**kwargs' to handle different numbers or types of arguments in a single method.\n",
    "    \n",
    "    \n",
    "    For Example:"
   ]
  },
  {
   "cell_type": "code",
   "execution_count": 36,
   "id": "61186e45-9233-4e1b-a6ff-d2d1c0d38dbe",
   "metadata": {},
   "outputs": [
    {
     "data": {
      "text/plain": [
       "13"
      ]
     },
     "execution_count": 36,
     "metadata": {},
     "output_type": "execute_result"
    }
   ],
   "source": [
    "class MyClass:\n",
    "    def add(self, a,b):\n",
    "        return a+b\n",
    "    \n",
    "    def add(self, a,b,c):\n",
    "        return a+b+c\n",
    "    \n",
    "# in this case, only the second 'add' method will be recognized by Python, effectively overriding the first one.\n",
    "\n",
    "obj=MyClass()\n",
    "obj.add(4,5,4)"
   ]
  },
  {
   "cell_type": "markdown",
   "id": "0b357764-a68b-4384-8494-1c9a9c0c9acc",
   "metadata": {},
   "source": [
    "Method Overriding:\n",
    "    \n",
    "    Method overriding occurs when a subclass provides a specific implementation for a method that is already defined in its superclass. When a method is called on an object of the subclass, the overridden method in the subclass is executed instead of the method in the superclass."
   ]
  },
  {
   "cell_type": "code",
   "execution_count": 38,
   "id": "270fedf7-458c-48e7-a1cf-f466dfc6dc8e",
   "metadata": {},
   "outputs": [
    {
     "name": "stdout",
     "output_type": "stream",
     "text": [
      "Hello from Parent\n",
      "Hi from Child\n"
     ]
    }
   ],
   "source": [
    "class Parent:\n",
    "    def greet(self):\n",
    "        return \"Hello from Parent\"\n",
    "    \n",
    "class Child(Parent):\n",
    "    def greet(self):\n",
    "        return \"Hi from Child\"\n",
    "    \n",
    "parent=Parent()\n",
    "child=Child()\n",
    "\n",
    "print(parent.greet())\n",
    "print(child.greet())"
   ]
  },
  {
   "cell_type": "markdown",
   "id": "f14ebf70-6ac2-45f1-b569-55be37d7c790",
   "metadata": {},
   "source": [
    "In this example, 'greet()' is overridden in the 'Child' class. When 'greet()' is called on an instance of 'Child', it executes the 'greet()' method from the 'Child' class instead of the one from the 'Parent' class.\n",
    "\n",
    "\n",
    "Difference:\n",
    "    \n",
    "* Method Overloading: In Python, method overloading (as in traditional languages) by defining multiple methods with the same name but different parameters isn't directly supported. However, you can simulate it by using default arguments or variable-length argument list ('*args', '**kwargs'). \n",
    "\n",
    "* Method Overriding: Method overriding occurs when a method in a subclass has the same name and signature (i.e., the same parameters) as a method in its superclass. When this method is called on an object of the subclass, it overrides the implementation in the superclass.\n",
    "\n",
    "\n",
    "In summary, method overloading in the traditional sense is not directly supported in Python, while method overriding is a fundamental feature of inheritance and polymorphism in Python, allowing subclasses to provide their own implementation of methods defined in the superclass."
   ]
  },
  {
   "cell_type": "markdown",
   "id": "ac788e2d-3c79-4171-bf68-44d9f57ad103",
   "metadata": {},
   "source": [
    "16. Explain the purpose of the '__init__()' method in Python inheritance and how it is utilized in child classes."
   ]
  },
  {
   "cell_type": "markdown",
   "id": "827a2ca2-4f4a-47c3-859f-0f02c09a3571",
   "metadata": {},
   "source": [
    "The '__init__()' method in Python is a special method, also known as a constructor, used for initializing newly created objects. In the context of inheritance, the '__init__()' method plays a crucial role in initializing attributes of bothe the parent and child classes when objects of the child class are created.\n",
    "\n",
    "Purpose of '__init__()' in Inheritance:\n",
    "    \n",
    "1. Initialization of Parent Class Attributes:\n",
    "    \n",
    "    when a child class is created, Python calls the '__init__()' method of the child class. If the child class doesn't have its own '__init__()' method, Python walks up the inheritace chain and calls the '__init__()' method of the parent class (superclass).\n",
    "    \n",
    "    \n",
    "2. Passing Arguments to Parent Class:\n",
    "    \n",
    "    Child class '__init__()' methods often call the parent class '__init__()' using 'super()' to initialize attributes inherited from the parent class.\n",
    "    \n",
    "    \n",
    "Utilization in Child Classes:\n",
    "    \n",
    "In a child class, you can define its own '__init__()' method to:\n",
    "    \n",
    "* Initialize attributes specific to the child class.\n",
    "\n",
    "* Call the parent class '__init__()' method using 'super().__init__()' to ensure proper initialization of inherited attributes from the parent class.\n",
    "\n",
    "Example:"
   ]
  },
  {
   "cell_type": "code",
   "execution_count": 41,
   "id": "76d35f9c-ce5c-45dc-ae73-2d0dcee1ee16",
   "metadata": {},
   "outputs": [
    {
     "name": "stdout",
     "output_type": "stream",
     "text": [
      "Hello from parent\n",
      "Hello from child\n"
     ]
    }
   ],
   "source": [
    "class Parent:\n",
    "    def __init__(self, parent_attr):\n",
    "        self.parent_attr=parent_attr\n",
    "        print('Hello from parent')\n",
    "        \n",
    "class Child(Parent):\n",
    "    def __init__(self, parent_attr, child_attr):\n",
    "        super().__init__(parent_attr) # calling the parent class constructor\n",
    "        self.child_attr=child_attr\n",
    "        print('Hello from child')\n",
    "        \n",
    "# creating an instance of the child class\n",
    "\n",
    "child_instance=Child('Parent attribute', 'Child attribute')"
   ]
  },
  {
   "cell_type": "markdown",
   "id": "9680f3e8-2f6e-4582-b98c-8b0aa3dba27c",
   "metadata": {},
   "source": [
    "The '__init__()' method in inheritance ensures proper initialization of attributes in both the parent and child classes and allows child classes to extend the initialization behavior defined in their parent classes."
   ]
  },
  {
   "cell_type": "markdown",
   "id": "ff28103d-d638-4567-a070-078243e9fda5",
   "metadata": {},
   "source": [
    "17. Create a Python class 'Bird' with a method 'fly()'. Then, create child classes 'Eagle' and 'Sparrow' that inherit from 'Bird' and implement the 'fly()' method differently. Provide an example of using these classes."
   ]
  },
  {
   "cell_type": "code",
   "execution_count": 4,
   "id": "b8b6b7b9-57ea-4d6b-8bf0-1e44dad2cb0c",
   "metadata": {},
   "outputs": [
    {
     "name": "stdout",
     "output_type": "stream",
     "text": [
      "Fly very high\n",
      "can fly moderately\n"
     ]
    }
   ],
   "source": [
    "class Bird:\n",
    "\n",
    "    def fly(self):\n",
    "        pass    # this method will be overridden by child classes\n",
    "    \n",
    "class Eagle(Bird):\n",
    "    def fly(self):\n",
    "        return \"Fly very high\"\n",
    "    \n",
    "class Sparrow(Bird):\n",
    "    def fly(self):\n",
    "        return \"can fly moderately\"\n",
    "    \n",
    "\n",
    "# create instance of classes\n",
    "obj_eagle=Eagle()\n",
    "obj_sparrow=Sparrow()\n",
    "\n",
    "print(obj_eagle.fly())\n",
    "print(obj_sparrow.fly())"
   ]
  },
  {
   "cell_type": "markdown",
   "id": "c2e1c5c5-2d37-465b-95fd-d664a5617326",
   "metadata": {},
   "source": [
    "18. What is the 'diamond problem' in multiple inheritance, and how does Python address it?"
   ]
  },
  {
   "cell_type": "markdown",
   "id": "61ee16cf-14f4-4acb-a929-7207f080a65c",
   "metadata": {},
   "source": [
    "The 'diamond problem' is a scenario that arises in programming languages that support multiple inheritance, where a particular class inherits from two distinct classes, both of which eventually inherit from a common base class. This creates a diamond-shaped inheritance hierarchy, leading to ambiguity and conflicts in method resolution.\n",
    "\n",
    "Consider the following inheritance structure:"
   ]
  },
  {
   "cell_type": "markdown",
   "id": "2c0d3443-f474-4315-b4d8-de896b7c7e41",
   "metadata": {},
   "source": [
    "A\n",
    "\n",
    "BC\n",
    "\n",
    "D"
   ]
  },
  {
   "cell_type": "markdown",
   "id": "6afcb0d9-df38-42c7-b1b1-95d379314c4c",
   "metadata": {},
   "source": [
    "In this structure, classes 'B' and 'C' both inherit from 'A', and class 'D' inherits from both 'B' and 'C'. When a method or attribute is accessed through 'D', there might be ambiguity as to which implementation to use if 'B' and 'C' both override the same method from 'A'. This ambiguity results in the diamond problem.\n",
    "\n",
    "How Python Addresses the Diamond Problem:\n",
    "    \n",
    "Python uses a method resolution order (MRO) algorithm to address the diamond problem. The MRO determines the order in which methods are resolved in a class hierarchy during method lookup.\n",
    "\n",
    "\n",
    "Python uses the C3 linearization algorithm (C3 MRO) to calculate the MRO for classes. It looks for a consistent and predictable order of method resolution while preserving the inheritance hierarchy.\n",
    "\n",
    "\n",
    "When multiple inheritance is used, Python:\n",
    "    \n",
    "* Resolves the order in which methods and attributes are searched for in the class hierarchy based on the C3 linearization algorithm.\n",
    "\n",
    "* Ensures that the method resolution order follows a predictable pattern, considering both breadth-first and depth-first search.\n",
    "\n",
    "\n",
    "By using the C3 linearization algorithm, Python provides a deterministic and unambiguos method resolution order, mitigating the issues associated with the diamond problem. This helps in avoiding conflicts and ambiguity when inheriting from multiple classes and ensures a consistent behavior during method lookup in complex inheritance hierarchies."
   ]
  },
  {
   "cell_type": "markdown",
   "id": "c1f253d0-6630-4dcb-b4f3-08b3ba00199b",
   "metadata": {},
   "source": [
    "19. Discuss the concept of 'is-a' and 'has-a' relationships in inheritance, and provide examples of each."
   ]
  },
  {
   "cell_type": "markdown",
   "id": "af9dbae9-e164-4dde-9e36-b8bc30e96eef",
   "metadata": {},
   "source": [
    "The concepts of 'is-a' and 'has-a' relationships are fundamental in object-oriented programming and describe the relationships between classes and objects in terms of inheritance and composition.\n",
    "\n",
    "'Is-a' Relationship (Inheritance):\n",
    "    \n",
    "* 'Is-a' relationship represents inheritance, where a subclass is said to be a type its superclass. It signifies that an object of the subclass can be treated as an object of its superclass. This relationship emphasizes the specialization or categorization of objects.\n",
    "\n",
    "* It's expressed using inheritance when one class extends another to share its ehavior and attributes.\n",
    "\n",
    "Example of 'is-a' relationship:"
   ]
  },
  {
   "cell_type": "code",
   "execution_count": 2,
   "id": "c9377902-4ed8-4aec-9498-c969f15d47c7",
   "metadata": {},
   "outputs": [],
   "source": [
    "# 'is-a' relationship using inheritance\n",
    "\n",
    "class Animal:\n",
    "    def sound(self):\n",
    "        pass\n",
    "    \n",
    "class Dog(Animal): # Dog is a type of Animal\n",
    "    \n",
    "    def sound(self):\n",
    "        return 'Woof!'\n",
    "    \n",
    "class Cat(Animal): # Cat is a type of Animal\n",
    "    \n",
    "    def sound(self):\n",
    "        return 'Meow!'"
   ]
  },
  {
   "cell_type": "markdown",
   "id": "e35be86d-4b6b-4e61-96bb-395e51fad14c",
   "metadata": {},
   "source": [
    "'Has-a' Relationship (Composition):\n",
    "    \n",
    "* 'Has-a' relationship represents composition, where a class has references to one or more objects of another class as attributes. It signifies that a class has components or parts that it uses to perform its actions.\n",
    "\n",
    "* It's expressed by creating instances of one class within another class and using these instances to provide functionality.\n",
    "\n",
    "Example of 'has-a' relationship:"
   ]
  },
  {
   "cell_type": "code",
   "execution_count": 3,
   "id": "e459c73b-8877-45e5-9048-d50db0eeef82",
   "metadata": {},
   "outputs": [],
   "source": [
    "# 'has-a' relationship using composition\n",
    "\n",
    "class Engine:\n",
    "    def start(self):\n",
    "        return 'Engine started'\n",
    "    \n",
    "class Car:\n",
    "    def __init__(self):\n",
    "        self.engine=Engine() # Car has an Engine\n",
    "        \n",
    "    def start_car(self):\n",
    "        return self.engine.start()"
   ]
  },
  {
   "cell_type": "markdown",
   "id": "f0f81573-fcbb-4320-9e18-5f47511d53fa",
   "metadata": {},
   "source": [
    "Summary:\n",
    "    \n",
    "* 'Is-a' relationship focuses on inheritance, where a subclass is a specific type of its superclass, inheriting its behavior and attributes.\n",
    "\n",
    "* 'Has-a' relationship emphasizes composition, where a class contains instances of other classes as attributes, allowing it to use the functionality provided by these instances.\n",
    "\n",
    "Both relationships are essential in object-oriented design, allowing for code reuse, modularization, and building complex systems by forming hierarchies or aggregations of object/classes."
   ]
  },
  {
   "cell_type": "markdown",
   "id": "1ad3213b-c141-4d16-8a16-cff45035b67e",
   "metadata": {},
   "source": [
    "20. Create a Python class hierarchy for a university system. Start with a base class 'Person' and create child classes 'Student' and 'Professor', each with their own attriutes and methods. Provide an example of using these classes in a university context. "
   ]
  },
  {
   "cell_type": "code",
   "execution_count": 5,
   "id": "f932a0ba-c447-4441-86d2-844bcd1fe128",
   "metadata": {},
   "outputs": [
    {
     "name": "stdout",
     "output_type": "stream",
     "text": [
      "Alice has enrolled in Introduction to Python\n",
      "Alice has enrolled in Data Structures\n",
      "Dr. Smith will teach Introduction to Python\n",
      "Dr. Smith will teach Data Structures\n",
      "Alice is taking: Introduction to Python,Data Structures\n",
      "Dr. Smith is teaching: Introduction to Python, Data Structures\n"
     ]
    }
   ],
   "source": [
    "class Person:\n",
    "    def __init__(self, name, age, gender):\n",
    "        self.name=name\n",
    "        self.age=age\n",
    "        self.gender=gender\n",
    "        \n",
    "    def __str__(self):\n",
    "        return f\"{self.name}, {self.age} years llod, {self.gender}\"\n",
    "    \n",
    "class Student(Person):\n",
    "    def __init__(self, name, age, gender, student_id, major):\n",
    "        super().__init__(name, age, gender)\n",
    "        self.student_id=student_id\n",
    "        self.major=major\n",
    "        self.courses_taken=[]\n",
    "        \n",
    "    def enroll_course(self, course):\n",
    "        self.courses_taken.append(course)\n",
    "        print(f\"{self.name} has enrolled in {course}\")\n",
    "        \n",
    "    def list_courses(self):\n",
    "        print(f\"{self.name} is taking: {','.join(self.courses_taken)}\")\n",
    "        \n",
    "class Professor(Person):\n",
    "    def __init__(self, name, age, gender, employee_id, department):\n",
    "        super().__init__(name, age, gender)\n",
    "        self.employee_id=employee_id\n",
    "        self.department=department\n",
    "        self.courses_taught=[]\n",
    "        \n",
    "    def assign_course(self, course):\n",
    "        self.courses_taught.append(course)\n",
    "        print(f\"{self.name} will teach {course}\")\n",
    "        \n",
    "    def list_courses_taught(self):\n",
    "        print(f\"{self.name} is teaching: {', '.join(self.courses_taught)}\")\n",
    "\n",
    "\n",
    "# Creating instances of student and professor classes\n",
    "student1=Student('Alice',20, 'Female', 'S001', 'Computer Science')\n",
    "professor1=Professor('Dr. Smith', 45, 'Male', 'P001', 'Computer Science')\n",
    "\n",
    "\n",
    "# Enrolling students in courses and assigning courses to professors\n",
    "\n",
    "student1.enroll_course('Introduction to Python')\n",
    "student1.enroll_course('Data Structures')\n",
    "\n",
    "professor1.assign_course('Introduction to Python')\n",
    "professor1.assign_course('Data Structures')\n",
    "\n",
    "# Listing courses taken by a student and courses taught by a professor\n",
    "\n",
    "student1.list_courses()\n",
    "professor1.list_courses_taught()"
   ]
  },
  {
   "cell_type": "markdown",
   "id": "857f26e3-8aa2-47a2-a62d-6295ff574c20",
   "metadata": {},
   "source": [
    "# Encapsulation:"
   ]
  },
  {
   "cell_type": "markdown",
   "id": "25d360de-5bbf-40a9-a3e3-dfde98fcf5cb",
   "metadata": {},
   "source": [
    "1. Explain the concept of encapsulation in Python. What is its role in object-oriented programming?"
   ]
  },
  {
   "cell_type": "markdown",
   "id": "29f27ba8-dd56-4d83-a518-e0794d165fba",
   "metadata": {},
   "source": [
    "Encapsulation is one of the fundamental concepts in object-oriented programming (OOP) that focuses on bundling the data (attriutes) and the methods (functions) that operate on the data within a single unit, i.e., a class. It restricts direct access to some of the object's components and allows controlled access through methods.\n",
    "\n",
    "In Python, encapsulation in implemented using access modifiers:\n",
    "    \n",
    "1. Public: By default, all attributes and methods in a class are public, which means they can be accessed from outside the class. They're accessible using the dot operator."
   ]
  },
  {
   "cell_type": "code",
   "execution_count": 6,
   "id": "36e32ada-bf4a-48f2-83be-6a4534a2d664",
   "metadata": {},
   "outputs": [
    {
     "name": "stdout",
     "output_type": "stream",
     "text": [
      "10\n",
      "This is a public method\n"
     ]
    }
   ],
   "source": [
    "class MyClass:\n",
    "    def __init__(self):\n",
    "        self.public_var=10\n",
    "        \n",
    "    def public_method(self):\n",
    "        return \"This is a public method\"\n",
    "    \n",
    "obj=MyClass()\n",
    "print(obj.public_var) # Accessing a public attribute\n",
    "print(obj.public_method())   # Accessing a public method"
   ]
  },
  {
   "cell_type": "markdown",
   "id": "d8b1b69c-248a-4179-9e2a-e4fd2711900c",
   "metadata": {},
   "source": [
    "2. Private: Python uses double underscore ('__') as a prefix to make an attribute or method private. It prevents direct access from outside the class. However, Python name-mangling still allows access through a modified name from outside the class."
   ]
  },
  {
   "cell_type": "code",
   "execution_count": 8,
   "id": "7708adff-7e49-4cd7-9278-f59170fe5aad",
   "metadata": {},
   "outputs": [
    {
     "name": "stdout",
     "output_type": "stream",
     "text": [
      "20\n",
      "This is a private method\n"
     ]
    }
   ],
   "source": [
    "class MyClass:\n",
    "    def __init__(self):\n",
    "        self.__private_var=20\n",
    "        \n",
    "    def __Private_method(self):\n",
    "        return \"This is a private method\"\n",
    "    \n",
    "obj=MyClass()\n",
    "# Accessing private attribute will result in an attributeErroe\n",
    "# print(obj.__private_var)\n",
    "\n",
    "# Accessing private attribute using name-mangling\n",
    "print(obj._MyClass__private_var)  # Name-mangling for private attribute\n",
    "\n",
    "# Accessing private method will result in an AttributeError\n",
    "# print(obj.__private_method())\n",
    "\n",
    "#Accessing private method using name-mangling\n",
    "\n",
    "print(obj._MyClass__Private_method()) # Name-mangling for private method"
   ]
  },
  {
   "cell_type": "markdown",
   "id": "697d1c45-6cc1-495a-8aaa-f58cc12eabde",
   "metadata": {},
   "source": [
    "Encapsulation is crucial in OOP for several reasons:\n",
    "    \n",
    "    \n",
    "1. Data Hiding: It hides the internal state of objects from the outside world, preventing direct access and modification of the data, ensuring data integrity and security.\n",
    "\n",
    "2. Abstractor: Encapsulation allows you to expose only necessary details to the outside world while hiding complex implementation details, promoting a clearer interface for interacting with objects.\n",
    "\n",
    "3. Modularity: By bundling data and related behaviors within a class, encapsulation facilitates modular design, allowing changes within the class without affecting other parts of the program.\n",
    "\n",
    "Overall, encapsulation promotes better code maintenace, reusability, and security by controlling access to the components of an object."
   ]
  },
  {
   "cell_type": "markdown",
   "id": "66f38f30-6b6f-4965-9eff-e0036cc1d692",
   "metadata": {},
   "source": [
    "2. Describe the key principles of encapsulation, including access control and data hiding."
   ]
  },
  {
   "cell_type": "markdown",
   "id": "20fd4f76-b09a-44f3-8bcd-53da229c4840",
   "metadata": {},
   "source": [
    "Encapsulation in object-oriented programming revolves around two key principles: access control and data hiding.\n",
    "\n",
    "1. Access Control:\n",
    "    \n",
    "* Public: Attributes and methods are accessible from outside the class."
   ]
  },
  {
   "cell_type": "code",
   "execution_count": 4,
   "id": "2699da4c-0753-436c-b603-2b3c7db71178",
   "metadata": {},
   "outputs": [
    {
     "name": "stdout",
     "output_type": "stream",
     "text": [
      "10\n",
      "This is a public method\n"
     ]
    }
   ],
   "source": [
    "class MyClass:\n",
    "    def __init__(self):\n",
    "        self.public_var=10\n",
    "        \n",
    "    def public_method(self):\n",
    "        return \"This is a public method\"\n",
    "    \n",
    "obj=MyClass()\n",
    "print((obj.public_var))\n",
    "print(obj.public_method())"
   ]
  },
  {
   "cell_type": "markdown",
   "id": "4a505a3c-45a0-4f38-a8bf-cd50bdce0abb",
   "metadata": {},
   "source": [
    "* Private: Attributes and methods are accessible only within the class itself."
   ]
  },
  {
   "cell_type": "code",
   "execution_count": 13,
   "id": "e8d21dd1-3c63-41e9-869b-5ab5f0972092",
   "metadata": {},
   "outputs": [],
   "source": [
    "class MyClass:\n",
    "    def __init__(self):\n",
    "        self.__private_var=20\n",
    "        \n",
    "    def __private_method(self):\n",
    "        return 'This is a private method'"
   ]
  },
  {
   "cell_type": "markdown",
   "id": "cb715908-d12f-4c57-8a3d-36878fea3113",
   "metadata": {},
   "source": [
    "* Protected(Convention): Attributes and methods are accessible within the class and its subclasses."
   ]
  },
  {
   "cell_type": "code",
   "execution_count": 14,
   "id": "938fdf82-9684-4b2a-8f2a-7e617a95c75a",
   "metadata": {},
   "outputs": [],
   "source": [
    "class MyClass:\n",
    "    def __init__(self):\n",
    "        self._protected_var=20\n",
    "        \n",
    "    def _protected_method(self):\n",
    "        return \"This is a protected method\"\n",
    "    "
   ]
  },
  {
   "cell_type": "markdown",
   "id": "62599e48-414b-4e7e-8f2d-9f3db914d2a0",
   "metadata": {},
   "source": [
    "2. Data Hiding:\n",
    "    \n",
    "* Prevents Direct Access: Encapsulation prevent direct modification of internal state (attributes) from outside the class.\n",
    "\n",
    "* Controlled Access via Methods: Access to the internal data is provided through controlled methods, allowing validation, manipulation, or computation before data is modified or retrieved."
   ]
  },
  {
   "cell_type": "code",
   "execution_count": 30,
   "id": "0f22df53-5cb0-46b4-b6dc-4de0ae55ffc4",
   "metadata": {},
   "outputs": [
    {
     "name": "stdout",
     "output_type": "stream",
     "text": [
      "Deposit: 10000\n",
      "remaining balace: 9500\n"
     ]
    }
   ],
   "source": [
    "class BankAccount:\n",
    "    def __init__(self):\n",
    "        self.__balance=0\n",
    "        \n",
    "    def deposit(self, amount):\n",
    "        \n",
    "        # some validation or logic before updating the balance\n",
    "        self.__balance+=amount\n",
    "        \n",
    "    def withdraw(self, amount):\n",
    "        # Some validation or logic before updating the balance\n",
    "        self.amount=amount\n",
    "        if self.__balance>=amount:\n",
    "            self.__balance-=amount\n",
    "        else:\n",
    "            print('Insufficient funds')\n",
    "            \n",
    "    def get_balance(self):\n",
    "        return self.__balance\n",
    "    \n",
    "    \n",
    "obj=BankAccount()\n",
    "obj.deposit(10000)\n",
    "print('Deposit:',obj.get_balance())\n",
    "obj.withdraw(500)\n",
    "print('remaining balace:',obj.get_balance())"
   ]
  },
  {
   "cell_type": "markdown",
   "id": "f1ff3704-9181-4339-820c-86b928906a96",
   "metadata": {},
   "source": [
    "Benefits of Encapsulation:\n",
    "    \n",
    "* Security: Hiding sensitive information prevents direct access and manipulation, enhancing security.\n",
    "\n",
    "* Flexibility: Controlled access allows modifications in the implementation without affecting the external interface.\n",
    "\n",
    "* Code Maintainability: Encapsulation helps maintain a clear separation between internal implementation and external usage, easing maintenance and updates.\n",
    "\n",
    "* Reduced Complexity: By exposing only necessary functionality, encapsulation simplifies the usage of objects, abstracting away complex implementation details.\n",
    "\n",
    "In summary, encapsulation combines access control and data hiding to create self-contained units (classes) that manage their internal state and expose a well-defined interface for interaction, promoting secure, flexible, and maintainable code."
   ]
  },
  {
   "cell_type": "markdown",
   "id": "a862296d-8729-45d4-89f7-d45177f3d60a",
   "metadata": {},
   "source": [
    "3. How can you achieve encapsulation in Python classes? Provide an example."
   ]
  },
  {
   "cell_type": "markdown",
   "id": "383d78d2-8f84-4522-af01-74f4b504a5eb",
   "metadata": {},
   "source": [
    "Encapsulation in Python can be achieved using access modifiers such as public, private, and protected attributes/methods. Although Python doesn't have true access control like some other languages (e.g., Java), it uses conventions to indicate the level of accessibility.\n",
    "\n",
    "Public, Private, and Protected Attributes:\n",
    "    \n",
    "* Public Attributes: These are accessible from outside the class. By default, all attributes are considered public.\n",
    "\n",
    "* Private Attributes: Attributes with a double underscore ('__') prefix are considered private. Though they aren't truly inaccessible, Python uses name-mangling to make them harder to access from outside the class.\n",
    "\n",
    "* Protected Attributes: Attributes with a single underscore('_') prefix are conventionally cosidered protected, indicating they shouldn't be accessed from outside the class, but it's not strictly enforce.\n",
    "\n",
    "Example:"
   ]
  },
  {
   "cell_type": "code",
   "execution_count": 2,
   "id": "5b0bb68f-35e7-40ad-bf6f-26aaec5fd200",
   "metadata": {},
   "outputs": [
    {
     "name": "stdout",
     "output_type": "stream",
     "text": [
      "10\n",
      "20\n",
      "30\n"
     ]
    }
   ],
   "source": [
    "class MyClass:\n",
    "    def __init__(self):\n",
    "        self.public_var=10 # public attribute\n",
    "        \n",
    "        self.__private_var=20 # private attribute\n",
    "        \n",
    "        self._protected_var=30  # protected attribute\n",
    "        \n",
    "    def get_private_var(self):\n",
    "        return self.__private_var\n",
    "    \n",
    "obj=MyClass()\n",
    "\n",
    "# Accessing public attribute\n",
    "print(obj.public_var) \n",
    "\n",
    "# Accessing private attribute using a getter method\n",
    "print(obj.get_private_var())\n",
    "\n",
    "# Attempting to access private attribute directly (name-mangling applied)\n",
    "# This would raise an AttributeError\n",
    "# print(obj.__private_var)\n",
    "\n",
    "# Accessing protected attribute (not strictly enforce)\n",
    "\n",
    "print(obj._protected_var)"
   ]
  },
  {
   "cell_type": "markdown",
   "id": "6cffcc43-ead7-49a0-b4f8-12b00e3fea71",
   "metadata": {},
   "source": [
    "In the example:\n",
    "    \n",
    "    \n",
    "* 'public_var' is a public attriute and can be accessed directly.\n",
    "\n",
    "* '__private_var' is a private attribute, but Python applies name-mangling to it (making it '_MyClass__private_var' internally). Accessing it ddirectly outside the class would raise an attributeError.\n",
    "\n",
    "* '_protected_var' is a protected attribute, but it's accessible from outside the class, although it's a convention to avoid direct access.\n",
    "\n",
    "However, it's important to note that in Python, the enforcement of encapsulation mainly relies on conventions and developer discipline rather than strict language-enforced access control. The convention of using single or double underscores denotes the intended accessibility level, but these can still be accessed or modified from outside the class."
   ]
  },
  {
   "cell_type": "markdown",
   "id": "0e1fc168-9394-4f35-9f06-8bf5a936eea1",
   "metadata": {},
   "source": [
    "4. Discuss the difference between public, private, and protected access modifiers in Python."
   ]
  },
  {
   "cell_type": "markdown",
   "id": "df839720-380a-43f5-a24e-d3517c94691b",
   "metadata": {},
   "source": [
    "In Python, access modifiers indicate the intended accessibility of class members (attributes and methods) from within and outside the class. While Python doesn't have strict access control like some other languages, it uses conventions to signify the intended level of accessibility.\n",
    "\n",
    "Public Access Modifier:\n",
    "    \n",
    "* Symbol: No symbol or prefix is used.\n",
    "\n",
    "* Description: Public members are accessible from anywhere, both within the class and from outside.\n",
    "\n",
    "Example:"
   ]
  },
  {
   "cell_type": "code",
   "execution_count": 5,
   "id": "60e9fd2a-ff5b-44b0-8728-ef1600444663",
   "metadata": {},
   "outputs": [
    {
     "data": {
      "text/plain": [
       "'This is a public method'"
      ]
     },
     "execution_count": 5,
     "metadata": {},
     "output_type": "execute_result"
    }
   ],
   "source": [
    "class MyClass:\n",
    "    def __init__(self):\n",
    "        self.public_var=20  # public attribute\n",
    "        \n",
    "    def public_method(self):\n",
    "        return 'This is a public method'\n",
    "    \n",
    "obj=MyClass()\n",
    "obj.public_method()"
   ]
  },
  {
   "cell_type": "markdown",
   "id": "bb32f599-1705-4de2-b8b2-f3af5e965818",
   "metadata": {},
   "source": [
    "* Usage: Public attributes and methods can be freely accessed from anywhere."
   ]
  },
  {
   "cell_type": "markdown",
   "id": "687941c3-e04d-4399-917d-efbcd257b198",
   "metadata": {},
   "source": [
    "Private Access Modifier:\n",
    "    \n",
    "* Symbol: Double underscore('__') prefix.\n",
    "\n",
    "* Description: Private members are not accessible directly from outside the class. Python uses name-mangling to make them less accessible by modifying their names internally.\n",
    "\n",
    "Example:"
   ]
  },
  {
   "cell_type": "code",
   "execution_count": 7,
   "id": "05d67981-b5d5-45cb-a2a8-369e49a7d5c9",
   "metadata": {},
   "outputs": [
    {
     "data": {
      "text/plain": [
       "'This is a private method'"
      ]
     },
     "execution_count": 7,
     "metadata": {},
     "output_type": "execute_result"
    }
   ],
   "source": [
    "class MyClass:\n",
    "    def __init__(self):\n",
    "        self.__private_var=20  # private attribute\n",
    "        \n",
    "    def __private_method(self):\n",
    "        return 'This is a private method'\n",
    "    \n",
    "obj=MyClass()\n",
    "obj._MyClass__private_method()   # name-mangling"
   ]
  },
  {
   "cell_type": "markdown",
   "id": "af6ba3d2-52cd-4941-a916-653f6528eb31",
   "metadata": {},
   "source": [
    "* Usage: Accessing private members from outside the class directly results in an AttributeError. However, Python's name-mangling can still be used to access them indirectly."
   ]
  },
  {
   "cell_type": "markdown",
   "id": "0dddd39a-ee61-47b9-afb0-f7b192ffb42c",
   "metadata": {},
   "source": [
    "Protected Access Modifier:\n",
    "    \n",
    "* Symbol: Single underscore ('_') prefix (conventionally used).\n",
    "\n",
    "* Description: Protected members aren't intended to be accessed from outside tha class. It's a convention, not strictly enforced by the language.\n",
    "\n",
    "Example:"
   ]
  },
  {
   "cell_type": "code",
   "execution_count": 14,
   "id": "67a4da35-6717-4b54-85d6-7d789d4902ae",
   "metadata": {},
   "outputs": [
    {
     "data": {
      "text/plain": [
       "'This is a protected method'"
      ]
     },
     "execution_count": 14,
     "metadata": {},
     "output_type": "execute_result"
    }
   ],
   "source": [
    "class MyClass:\n",
    "    def __init__(self):\n",
    "        self._protected_var=30  # protected attribute\n",
    "        \n",
    "    def _protected_method(self):\n",
    "        return 'This is a protected method'\n",
    "    \n",
    "obj=MyClass()\n",
    "obj._protected_method()"
   ]
  },
  {
   "cell_type": "markdown",
   "id": "5deb0562-adf3-48d1-8ac3-e8dc561affa9",
   "metadata": {},
   "source": [
    "* Usage: Accessing protected members from outside the class in possible, but it's a convention to treat them as non-public and not directly access them.\n",
    "\n",
    "Key Differences:\n",
    "    \n",
    "* Accessibility: \n",
    "    \n",
    "    * Public: Accessible from anywhere (inside and outside the class).\n",
    "    \n",
    "    * Private: Not directly accessible from ouutside the class; name-mangling used internally.\n",
    "    \n",
    "    * Protected: Conventionally not intended for direct access from outside the class, but not strictly enforced.\n",
    "    \n",
    "* Name Modification:\n",
    "    \n",
    "    * Public: No modification in the name.\n",
    "    \n",
    "    * Private: Modified internally using name-mangling to make them less accessible outside the class.\n",
    "    \n",
    "    * Protected: Conventionally marked with a single underscore but not enforced.\n",
    "    \n",
    "* Usage and Convention:\n",
    "    \n",
    "    * Public: Freely accessed from anywhere.\n",
    "    \n",
    "    * Private: Encourages encapsulation by limiting direct access from ouutside the class.\n",
    "    \n",
    "    * Protected: Conventionally treated as non-public but accessible; used to indicate that these members are not intended for external use.\n",
    "    \n",
    "    \n",
    "Python's access modifiers rely on conventions and guidance rather than strict enforcement by the llanguage, emphasizing the importance of encapsulation and responsible use of class members."
   ]
  },
  {
   "cell_type": "markdown",
   "id": "faab96e4-7e10-439e-9d3e-e7f070256c58",
   "metadata": {},
   "source": [
    "5. Create a Python class called 'Person' with a private attribute '__name'. Provide methods to get and set the name attribute."
   ]
  },
  {
   "cell_type": "code",
   "execution_count": 16,
   "id": "9b519d93-5b30-4336-b4e9-0fd3e9b8395c",
   "metadata": {},
   "outputs": [
    {
     "name": "stdout",
     "output_type": "stream",
     "text": [
      "Current name: Alice\n",
      "Updated name: Bob\n"
     ]
    }
   ],
   "source": [
    "class Person:\n",
    "    def __init__(self, name):\n",
    "        self.__name=name  # Private attribute\n",
    "        \n",
    "    def get_name(self):\n",
    "        return self.__name # getter method to retrieve the private attribute\n",
    "    \n",
    "    def set_name(self,new_name):\n",
    "        self.__name=new_name  # Setter method to modify the private attribute\n",
    "        \n",
    "# example usage:\n",
    "person=Person('Alice')\n",
    "\n",
    "# Getting the name using the getter method\n",
    "current_name=person.get_name()\n",
    "print('Current name:', current_name) \n",
    "\n",
    "# Setting a new name using the setter method\n",
    "person.set_name('Bob')\n",
    "\n",
    "# Getting the updated name\n",
    "updated_name=person.get_name()\n",
    "print('Updated name:', updated_name)"
   ]
  },
  {
   "cell_type": "markdown",
   "id": "65d6c27e-c8de-4298-907a-0f961ec6dd3a",
   "metadata": {},
   "source": [
    "6. Explain the purpose of getter and setter methods in encapsulation. Provide examples."
   ]
  },
  {
   "cell_type": "markdown",
   "id": "4601fa78-3643-46be-82e3-2754a582cc4d",
   "metadata": {},
   "source": [
    "Getter and setter methods play a crucial role in encapsulation by providing controlled access to private attributes within a class. They allow external code to interact with and modify private attributes indirectly, enabling validation, manipulation, or additional logic before accessing or altering the data.\n",
    "\n",
    "Purpose of Getter Methods:\n",
    "    \n",
    "* Getter methods are used to retrieve thhe values of private attributes.\n",
    "\n",
    "* They provide controlled access to retrieve the values, allowing validation or additional processing if needed.\n",
    "\n",
    "* Getter methods help maintain encapsulation by keeping the internal representation of data hidden from the outside world.\n",
    "\n",
    "Example - Getter Method:"
   ]
  },
  {
   "cell_type": "code",
   "execution_count": 4,
   "id": "c2e90d91-d8a5-46f0-b77b-4869ff3809e7",
   "metadata": {},
   "outputs": [
    {
     "data": {
      "text/plain": [
       "'Tonny'"
      ]
     },
     "execution_count": 4,
     "metadata": {},
     "output_type": "execute_result"
    }
   ],
   "source": [
    "class Person:\n",
    "    def __init__(self,name):\n",
    "        self.__name=name  # private attribute\n",
    "        \n",
    "    def get_name(self):\n",
    "        return self.__name  # getter method to retrieve the private attribute\n",
    "    \n",
    "    \n",
    "obj=Person('Tonny')\n",
    "obj.get_name()"
   ]
  },
  {
   "cell_type": "markdown",
   "id": "77d0eea7-daee-401c-b8d2-91680b7ffa63",
   "metadata": {},
   "source": [
    "Purpose of Setter Methods:\n",
    "    \n",
    "* Setter methods are used to modify or update the values of private attributes.\n",
    "\n",
    "* They provide controlled access, allowing validation, constraints, or additional logic before modifying the attribute.\n",
    "\n",
    "* Setter methods help ensure that the integrity and consistency of the data are maintained.\n",
    "\n",
    "Example - Setter method:"
   ]
  },
  {
   "cell_type": "code",
   "execution_count": 7,
   "id": "d4f8da31-53ab-4c4d-907f-7352dae0961b",
   "metadata": {},
   "outputs": [],
   "source": [
    "class Person:\n",
    "    def __init__(self, name):\n",
    "        self.__name=name # Private attribute\n",
    "        \n",
    "    def set_name(self, new_name):\n",
    "        \n",
    "        # Additional validation or logic can be added here\n",
    "        self.__name=new_name  # Setter method to modify the private attribute\n"
   ]
  },
  {
   "cell_type": "markdown",
   "id": "cb31b718-bb71-4e5b-8d45-b68573766f0f",
   "metadata": {},
   "source": [
    "Example with Getter and Setter Methods:"
   ]
  },
  {
   "cell_type": "code",
   "execution_count": 11,
   "id": "425d585c-f547-49ee-ab6e-48622be57cc3",
   "metadata": {},
   "outputs": [
    {
     "name": "stdout",
     "output_type": "stream",
     "text": [
      "Current Name: Alice\n",
      "Updated Name: Baburao\n"
     ]
    }
   ],
   "source": [
    "class Person:\n",
    "    def __init__(self,name):\n",
    "        self.__name=name  # Private attribute\n",
    "        \n",
    "    def get_name(self):\n",
    "        return self.__name # Getter method to retrieve the private attribute\n",
    "    \n",
    "    def set_name(self, new_name):\n",
    "        # Additional validation or logic can be added here\n",
    "        self.__name=new_name  # Setter method to modify the private attribute\n",
    "        \n",
    "        \n",
    "# Example usage:\n",
    "person=Person('Alice')\n",
    "\n",
    "# Getting the name using the getter method\n",
    "current_name=person.get_name()\n",
    "print('Current Name:',current_name)\n",
    "\n",
    "# Setting a new name using the setter method\n",
    "person.set_name('Baburao')\n",
    "\n",
    "# Getting the updated name\n",
    "updated_name=person.get_name()\n",
    "print('Updated Name:', updated_name)"
   ]
  },
  {
   "cell_type": "markdown",
   "id": "ef9f2c1b-3a74-4c13-bfa7-3378acf9291f",
   "metadata": {},
   "source": [
    "In this example, 'get_name()' and 'set_name()' methods control access to the private '__name' attribute, allowing external code to retrieve or modify the attribute in a controlled manner, ensuring data integrity and encapsulation."
   ]
  },
  {
   "cell_type": "markdown",
   "id": "282a9802-13a4-4b88-b7b7-2d76cf77864e",
   "metadata": {},
   "source": [
    "7. What is name mangling in Python, and how does it affect encapsulation?"
   ]
  },
  {
   "cell_type": "markdown",
   "id": "e90f0d56-2a7e-4a37-bf2a-2d57b5bb6395",
   "metadata": {},
   "source": [
    "Name mangling in Python is a mechanism that alters the names of certain class members to make them more unique and less accessible from outside the class. It's primarily used to avoid name clashes in subclasses and to pseudo-privatize attributes or methods by prefixing their names with the class name.\n",
    "\n",
    "How Name Mangling Works:\n",
    "    \n",
    "* Python interpreter modifies the name of an attribute or method that begins with at least two underscores ('__') but does not end with more than one underscore.\n",
    "\n",
    "* The interpreter changes the name by adding the '_ClassName' prefix to it, where 'ClassName' is the name of the current class.\n",
    "\n",
    "* This process ensures that the name becomes more unique and harder to access directly from outside the class.\n",
    "\n",
    "Effect on Encapsulation:\n",
    "    \n",
    "* Increased Accessibility Control: Name mangling provides a way to pseudo-privatize attributes or methods by changing their names internally. This makes them less accessible from outside the class, reducing the chance of accidental modification or access.\n",
    "\n",
    "* Protection Against Name Clashes: It helps prevent accidental overridding of attributes or methods in subclasses by adding the class name as a prefix, making the names more distinct.\n",
    "\n",
    "Example Illustrating Name Mangling:"
   ]
  },
  {
   "cell_type": "code",
   "execution_count": 12,
   "id": "6c409412-4b96-4474-bc86-ad11057394fc",
   "metadata": {},
   "outputs": [
    {
     "name": "stdout",
     "output_type": "stream",
     "text": [
      "20\n",
      "This is a private method\n"
     ]
    }
   ],
   "source": [
    "class MyClass:\n",
    "    def __init__(self):\n",
    "        self.__private_var=20  # Private attribute\n",
    "        \n",
    "    def __private_method(self):\n",
    "        return 'This is a private method'\n",
    "    \n",
    "obj=MyClass()\n",
    "\n",
    "# Accessing private attribute using name-mangling\n",
    "print(obj._MyClass__private_var)\n",
    "\n",
    "# Accessing private method using name-mangling\n",
    "print(obj._MyClass__private_method())"
   ]
  },
  {
   "cell_type": "markdown",
   "id": "1c41df67-3d0e-4ab6-9838-912a121bc82e",
   "metadata": {},
   "source": [
    "In this example:\n",
    "    \n",
    "* '__private_var' and '__private_method' are pseudo-privatized by name-mangling. \n",
    "\n",
    "* Accessing these pseudo-private attributes/methods from outside the class requires using the modified name, which includes the '_ClassName' prefix.\n",
    "\n",
    "\n",
    "Name mangling aids encapsulation by making certain attributes or methods more difficult to access from outside the class, although it doesn't provide true private access control. It's a mechanism that helps avoid accidental interference with class internals and supports the idea of data hiding and controlled access."
   ]
  },
  {
   "cell_type": "markdown",
   "id": "9e629e81-ede0-4d51-a49f-2cc8ae9c0e64",
   "metadata": {},
   "source": [
    "8. Create a Python class called 'BankAccount' with private attributes for the account balance ('__balance') and accouunt number ('__account_number'). Provide methods for depositing and withdrawing money."
   ]
  },
  {
   "cell_type": "code",
   "execution_count": 19,
   "id": "36cb22db-1a07-4ff3-832e-9966156f9c46",
   "metadata": {},
   "outputs": [
    {
     "name": "stdout",
     "output_type": "stream",
     "text": [
      "Initial balance: 50000\n",
      "Account number: 3451237\n",
      "Deposited amount: 5000 and updated balance: 55000\n",
      "Withdrawn amount: 20000 and updated balance: 35000\n"
     ]
    }
   ],
   "source": [
    "class BankAccount:\n",
    "    def __init__(self, balance, account_number):\n",
    "        self.__balance=balance   # private attribute\n",
    "        self.__account_number=account_number  # private attribute\n",
    "        \n",
    "    def get_balance(self):\n",
    "        return self.__balance\n",
    "    \n",
    "    def deposite(self,amount):\n",
    "        if 0 < amount :\n",
    "            self.__balance+=amount\n",
    "            print(f\"Deposited amount: {amount} and updated balance: {self.__balance}\")\n",
    "            \n",
    "        else:\n",
    "            print('Invalid amount, please enter positive amount')\n",
    "            \n",
    "        \n",
    "    def withdraw(self, amount):\n",
    "        if amount <= self.__balance:\n",
    "            self.__balance-=amount\n",
    "            print(f\"Withdrawn amount: {amount} and updated balance: {self.__balance}\")\n",
    "        else:\n",
    "            print('Insufficient Balance')\n",
    "            \n",
    "        \n",
    "# create istance of class\n",
    "obj=BankAccount(50000, 3451237)\n",
    "\n",
    "# accessing private attributes\n",
    "print('Initial balance:',obj._BankAccount__balance)\n",
    "print('Account number:',obj._BankAccount__account_number)\n",
    "\n",
    "# accessing methods\n",
    "obj.deposite(5000)\n",
    "obj.withdraw(20000)"
   ]
  },
  {
   "cell_type": "markdown",
   "id": "3f7468b2-7c13-4cbb-b580-cec170d04eb2",
   "metadata": {},
   "source": [
    "9. Discuss the advantages of encapsulation in terms of code maintainability and security."
   ]
  },
  {
   "cell_type": "markdown",
   "id": "9f1990f1-6a07-44ce-8ea4-b604cbf7502c",
   "metadata": {},
   "source": [
    "Encapsulation, a core principle of object-oriented programming (OOP), offers several advantages in terms of code maintainability and security:\n",
    "    \n",
    "    \n",
    "Code Maintainability:\n",
    "    \n",
    "1. Modularity: Encapsulation promotes modular design by bundling data (attributes) and behaviors (methods) within a class. This modular structure makes code more organized and easier to manage.\n",
    "\n",
    "2. Abstraction: By hiding internal complexities and exposing only necessary functionalities through well-defined interfaces, encapsulation allows developers to work with higher-level abstractions. This abstraction simplifies the usage of objects, making code more understandable and maintainable.\n",
    "\n",
    "3. Reduced Impact of Changes: Encapsulation limits direct access to class internals. When modifications are made within the class (e.g., changing attribute names or updating methods), the external code that interacts with the class doesn't need to be altered. This separation reduces the impact of changes, improving maintainability.\n",
    "\n",
    "\n",
    "Security:\n",
    "    \n",
    "1. Data Hiding: Encapsulation hides the internal state of objects by making attributes private or protected. This prevents direct access and manipulation from external sources, enhancing data security and integrity.\n",
    "\n",
    "2. Controlled Access: Encapsulation allows controlled access to data through methods (getters and setters). By using getter methods to retrieve data and setter methods to modify data, validation and constraints can be applied, preventing invalid data modifications and enhancing security.\n",
    "\n",
    "3. Prevention of Unintended Interference: Encapsulation helps prevent unintended interference or modification of class internals from external code. It restricts access to only those parts of the object that are intended for interaction, reducing the chances of unintended errors.\n",
    "\n",
    "\n",
    "Overall Advantages:\n",
    "    \n",
    "* Ease of Collaboration: Encapsulation facilitates collaboration among developers by providing well-defined interfaces and reducing dependencies between differenct parts of the codebase. \n",
    "\n",
    "* Code Reusability: Encapsulation promotes reusable components. Classes with encapsulated functionalities can be easily reused in different parts of the code or in other projects without affecting their internal implementation.\n",
    "\n",
    "* Maintainable and Secure Design: By encapsulating data and behaviors within a class and exposing only necessary interfaces, code becomes easier to maintain, extend, and secure against unintended access or modification.\n",
    "\n",
    "In summary, encapsulation in OOP enhances code maintainability by promoting modularity, abstraction, and reduced impact of changes. Additionally, it improves security by hiding data and controlling access, preventing unauthorized modifications and ensuring data integrity."
   ]
  },
  {
   "cell_type": "markdown",
   "id": "85e4f2a1-dbe4-40fb-ba0c-55466a30a0a3",
   "metadata": {},
   "source": [
    "10. How can you access private attributes in Python? Provide an example demonstrating the use of name mangling."
   ]
  },
  {
   "cell_type": "markdown",
   "id": "db061b15-5c35-445d-a681-79e654fa23d8",
   "metadata": {},
   "source": [
    "In Python, private attributes are conventionally denoted by prefixing them with a single underscore ('_'). However, they aren't entirely private in the sense that they can't be accessed from outside the class. Python uses a concept called 'name mangling' to partially obscure these attributes gy prefixing their names with '_ClassName' when defined as '__attribute' within a class.\n",
    "\n",
    "\n",
    "Here's an example demonstrating name mangling:"
   ]
  },
  {
   "cell_type": "code",
   "execution_count": 1,
   "id": "a4ccc220-3ca0-4d27-bd52-352e6704c431",
   "metadata": {},
   "outputs": [
    {
     "name": "stdout",
     "output_type": "stream",
     "text": [
      "10\n",
      "20\n",
      "20\n"
     ]
    }
   ],
   "source": [
    "class MyClass:\n",
    "    def __init__(self):\n",
    "        self._private_var=10\n",
    "        self.__mangled_var=20  # rivate attribute with name mangling\n",
    "        \n",
    "    def get_private_var(self):\n",
    "        return self._private_var\n",
    "    \n",
    "    def get_mangled_var(self):\n",
    "        return self.__mangled_var\n",
    "    \n",
    "\n",
    "obj=MyClass()\n",
    "\n",
    "# Accessing the public method to get the private variable\n",
    "print(obj.get_private_var())  \n",
    "\n",
    "\n",
    "# Trying to access private attribute directly\n",
    "# This will result in an attributeError\n",
    "# print(obj._private_var)\n",
    "\n",
    "\n",
    "# Accessing the mangled private attriute directly (through name mangling)\n",
    "# Note that the name gets mangled to _MyClass_mangled_var\n",
    "print(obj._MyClass__mangled_var)\n",
    "\n",
    "# Accessing the mangled private attribute using a method\n",
    "print(obj.get_mangled_var())"
   ]
  },
  {
   "cell_type": "markdown",
   "id": "ec041f21-907e-4425-81bc-ee8362159753",
   "metadata": {},
   "source": [
    "Remember, name mangling is a mechanism for discouraging access, not for security. It's possible to access these attributes by their mangled names, but it's not recommended because it breaks encapsulation and the expected behavior of the class."
   ]
  },
  {
   "cell_type": "markdown",
   "id": "1277026a-f869-4930-b123-78c81edfe558",
   "metadata": {},
   "source": [
    "11. Create a Python class hierarchy for a school system, including classes for stuents, teachers, and courses, and implemet encapsulation principles to protect sensitive information."
   ]
  },
  {
   "cell_type": "code",
   "execution_count": 6,
   "id": "3c3e1d3a-2144-4aef-87e5-eadc8629ad7f",
   "metadata": {},
   "outputs": [
    {
     "name": "stdout",
     "output_type": "stream",
     "text": [
      "Teacher John Doe, Age: 35, ID: T001\n",
      "Student Alice, Age: 16, ID: S001\n",
      "Student Bob, Age: 17, ID: S002\n",
      "\n",
      "Courses taught by the teacher:\n",
      "Course: Mathematics (MATH101)\n",
      "Course: Physics (PHYS101)\n",
      "\n",
      "Courses enrolled by students:\n",
      "Student Alice, Age: 16, ID: S001 is enrolled in:\n",
      "Course: Mathematics (MATH101)\n",
      "\n",
      "Student Bob, Age: 17, ID: S002 is enrolled in:\n",
      "Course: Physics (PHYS101)\n"
     ]
    }
   ],
   "source": [
    "class Student:\n",
    "    def __init__(self, name, age, student_id):\n",
    "        self._name = name  # Protected attribute\n",
    "        self._age = age    # Protected attribute\n",
    "        self._student_id = student_id  # Protected attribute\n",
    "        self._courses = []  # Protected attribute to store enrolled courses\n",
    "\n",
    "    def enroll(self, course):\n",
    "        self._courses.append(course)\n",
    "\n",
    "    def display_courses(self):\n",
    "        return self._courses\n",
    "\n",
    "    def __str__(self):\n",
    "        return f\"Student {self._name}, Age: {self._age}, ID: {self._student_id}\"\n",
    "\n",
    "\n",
    "class Teacher:\n",
    "    def __init__(self, name, age, teacher_id):\n",
    "        self._name = name  # Protected attribute\n",
    "        self._age = age    # Protected attribute\n",
    "        self._teacher_id = teacher_id  # Protected attribute\n",
    "        self._courses_taught = []  # Protected attribute to store courses taught\n",
    "\n",
    "    def assign_teaching(self, course):\n",
    "        self._courses_taught.append(course)\n",
    "\n",
    "    def display_courses_taught(self):\n",
    "        return self._courses_taught\n",
    "\n",
    "    def __str__(self):\n",
    "        return f\"Teacher {self._name}, Age: {self._age}, ID: {self._teacher_id}\"\n",
    "\n",
    "\n",
    "class Course:\n",
    "    def __init__(self, course_name, course_code, teacher):\n",
    "        self._course_name = course_name  # Protected attribute\n",
    "        self._course_code = course_code  # Protected attribute\n",
    "        self._teacher = teacher  # Protected attribute to store teacher object\n",
    "\n",
    "    def __str__(self):\n",
    "        return f\"Course: {self._course_name} ({self._course_code})\"\n",
    "\n",
    "\n",
    "# Example usage:\n",
    "\n",
    "teacher = Teacher(\"John Doe\", 35, \"T001\")\n",
    "student1 = Student(\"Alice\", 16, \"S001\")\n",
    "student2 = Student(\"Bob\", 17, \"S002\")\n",
    "\n",
    "course_math = Course(\"Mathematics\", \"MATH101\", teacher)\n",
    "course_physics = Course(\"Physics\", \"PHYS101\", teacher)\n",
    "\n",
    "teacher.assign_teaching(course_math)\n",
    "teacher.assign_teaching(course_physics)\n",
    "\n",
    "student1.enroll(course_math)\n",
    "student2.enroll(course_physics)\n",
    "\n",
    "print(teacher)\n",
    "print(student1)\n",
    "print(student2)\n",
    "\n",
    "print(\"\\nCourses taught by the teacher:\")\n",
    "for course in teacher.display_courses_taught():\n",
    "    print(course)\n",
    "\n",
    "print(\"\\nCourses enrolled by students:\")\n",
    "print(f\"{student1} is enrolled in:\")\n",
    "for course in student1.display_courses():\n",
    "    print(course)\n",
    "print(f\"\\n{student2} is enrolled in:\")\n",
    "for course in student2.display_courses():\n",
    "    print(course)\n"
   ]
  },
  {
   "cell_type": "markdown",
   "id": "feeece30-5287-4ba1-aec5-8d214c1bba67",
   "metadata": {},
   "source": [
    "12. Explain the concept of property decorators in Python and how they relate to encapsulation."
   ]
  },
  {
   "cell_type": "markdown",
   "id": "23e051d9-1e6e-4e9c-aa52-d272aaadf4a5",
   "metadata": {},
   "source": [
    "In Python, property decorators ('@property', '@<property_name>.setter', '@<property_name>.deleter') are used to define properties within a class. They allow for the implementation of getter, setter, and deleter methods, providing controlled access to class attributes while maintaining encapsulation.\n",
    "\n",
    "Here's how they relate to encapsulation:\n",
    "\n",
    "Encapsulation\n",
    "\n",
    "Encapsulation is the principle of bundling data (attributes) and methods that operate on he data within a single unit (class). It hides the internal state of an object and rstricts direct access to certain attributes, promoting a controlled way of accessing and modifying the data.\n",
    "\n",
    "Property Decorators\n",
    "\n",
    "\n",
    "Property decorators in Python allow you to define special methods ('getter', 'setter', 'deleter') for class attributes, providing controlled access to these attributes externally.\n",
    "\n",
    "* '@property: Defines a getter method for a property. It allows accessing an attribute like an ordinary attribute, but behind the scenes, it invokes a method to get its value. This enables you to perform actions or validations upon access.\n",
    "\n",
    "* '@<property_name>.setter: Defines a setter method for a property. It enables controlled modification of the attribute's value, allowing you to perform checks or actions before assigning a new value.\n",
    "\n",
    "* @<property_name>.deleter: Defines a deleter method for a property. It allows controlled deletion or cleanup operations associated with an attribute.\n",
    "\n",
    "\n",
    "Relation to Encapsulation\n",
    "\n",
    "Property decorators facilitate encapsulation by providing a controlled interface for accessing and modifying class attributes. They allow you to define custome bahaviors when getting, setting, or deleting attributes, which can involve validations, calculations, or other actions, ensuring the integrity of the data.\n",
    "\n",
    "\n",
    "By using property decorators, you can maintain encapsulation by controlling access to the internal state of an object, allowing controlled interactions with the attributes through defined getter, setter, and deleter methods.\n",
    "\n",
    "Here's a simple example:"
   ]
  },
  {
   "cell_type": "code",
   "execution_count": 3,
   "id": "ab630584-3136-4fb9-b080-791c6767a9d4",
   "metadata": {},
   "outputs": [
    {
     "name": "stdout",
     "output_type": "stream",
     "text": [
      "0\n",
      "10\n",
      "Value cannot be negative.\n"
     ]
    }
   ],
   "source": [
    "class MyClass:\n",
    "    def __init__(self):\n",
    "        self._value=0  # Protected attribute\n",
    "        \n",
    "    @property\n",
    "    def value(self):\n",
    "        return self._value\n",
    "    \n",
    "    @value.setter\n",
    "    def value(self, new_value):\n",
    "        if new_value>=0:\n",
    "            self._value=new_value\n",
    "        else:\n",
    "            print('Value cannot be negative.')\n",
    "            \n",
    "    @value.deleter\n",
    "    def value(self):\n",
    "        del self._value\n",
    "        \n",
    "        \n",
    "obj=MyClass()\n",
    "print(obj.value)  # Accessing the property\n",
    "\n",
    "obj.value=10 # using the setter method\n",
    "print(obj.value)\n",
    "\n",
    "\n",
    "obj.value=-5 # using the setter method with a negative value\n",
    "\n",
    "del obj.value   # Deleting the property\n",
    "\n",
    "# print(obj.value)   # Accessing after deletion  , it will give error"
   ]
  },
  {
   "cell_type": "markdown",
   "id": "c39d03ea-6005-456b-bfa6-bb6de126fb49",
   "metadata": {},
   "source": [
    "13. What is data hiding, and why is it important in encapsulation? provide examples."
   ]
  },
  {
   "cell_type": "markdown",
   "id": "faf17ca1-6985-439b-8d82-2779513f830e",
   "metadata": {},
   "source": [
    "Data hiding is a principle in object-oriented programming that refers to the concept of hiding the internal state (data) of an object and preventing direct access to it from outside the class. It is an essential aspect of encapsulation, where the implementation details of a class are hidden and only accessible through well-defined interfaces (methods).\n",
    "\n",
    "\n",
    "Importance of Data Hiding in Encapsulation:\n",
    "    \n",
    "1. Controlled Access: By hiding internal data, you control how it can be accessed and modified, reducing the risk of unintended changes or misuse of the data.\n",
    "\n",
    "2. Maintaining Consistency: Encapsulation ensures that the data within an object remains consistent by allowing access only through defined methods. This enables validation, error checking, and ensuring data integrity.\n",
    "\n",
    "3. Ease of Maintenance: Encapsulation and data hiding make it easier to maintain and update code. If the internal representation of data change, only the methods accessing that data need to be modified, keeping the rest of the code intact.\n",
    "\n",
    "4. Enhanced Security: By restricting direct access to sensitive data, encapsulation helps in enhancing security and preventing unauthorized manipulation.\n",
    "\n",
    "\n",
    "Example of Data Hiding in Encapsulation:\n",
    "    \n",
    "Example 1: Private Attributes"
   ]
  },
  {
   "cell_type": "code",
   "execution_count": 12,
   "id": "19c3595d-5934-40b0-8d6c-f9265a4d93df",
   "metadata": {},
   "outputs": [
    {
     "name": "stdout",
     "output_type": "stream",
     "text": [
      "deposited amount: 5000\n",
      "balace: 55000\n",
      "withdrawn amount: 3000\n",
      "balance: 52000\n"
     ]
    }
   ],
   "source": [
    "class BankAccount:\n",
    "    def __init__(self, account_number, initial_balance):\n",
    "        self.__account_number=account_number   # private attribute\n",
    "        self.__balance=initial_balance   # private attribute\n",
    "        \n",
    "    def deposit(self, amount):\n",
    "        # logic for depositing amount\n",
    "        self.__balance+=amount\n",
    "        return amount\n",
    "        \n",
    "    def withdraw(self, amount):\n",
    "        # logic for withdrawing amount if balace allows\n",
    "        if self.__balance>=amount:\n",
    "            self.__balance-=amount\n",
    "            return amount\n",
    "        else:\n",
    "            print('Insufficient balance')\n",
    "            \n",
    "    def get_balance(self):\n",
    "        return self.__balance  # Accessing balance through a method\n",
    "    \n",
    "obj=BankAccount(45632657,50000)\n",
    "deposit=obj.deposit(5000)\n",
    "print('deposited amount:',deposit)\n",
    "print('balace:',obj._BankAccount__balance)\n",
    "withdraw=obj.withdraw(3000)\n",
    "print('withdrawn amount:',withdraw)\n",
    "print('balance:',obj._BankAccount__balance)"
   ]
  },
  {
   "cell_type": "markdown",
   "id": "abd9966f-b5db-47ad-a21b-0f51db19b1ac",
   "metadata": {},
   "source": [
    "Example 2: Property Decorators for Controlled Access"
   ]
  },
  {
   "cell_type": "code",
   "execution_count": 14,
   "id": "0f422506-a5b7-4456-8b51-b37db294238e",
   "metadata": {},
   "outputs": [
    {
     "name": "stdout",
     "output_type": "stream",
     "text": [
      "Alice\n",
      "New name: Bob\n",
      "Invalid age\n"
     ]
    }
   ],
   "source": [
    "class Person:\n",
    "    def __init__(self, name, age):\n",
    "        self.name=name  # protected attribute\n",
    "        self._age=age   # protected attribute\n",
    "        \n",
    "    @property\n",
    "    def name(self):\n",
    "        return self._name  # Getter method for name\n",
    "    \n",
    "    @name.setter\n",
    "    def name(self, new_name):\n",
    "        self._name=new_name   # Setter method for name\n",
    "        \n",
    "    @property\n",
    "    def age(self):\n",
    "        return self._age  # Getter method for age\n",
    "    \n",
    "    @age.setter\n",
    "    def age(self, new_age):\n",
    "        if new_age>0:\n",
    "            self._age=new_age  # Setter method for age\n",
    "        else:\n",
    "            print(\"Invalid age\")\n",
    "            \n",
    "# Usage \n",
    "person=Person(\"Alice\", 30)\n",
    "print(person.name)   # Accessing name using the getter method\n",
    "person.name=\"Bob\"  # Modifying name using the setter method\n",
    "print('New name:',person.name)\n",
    "person.age=-5  # Trying to set an invalid age"
   ]
  },
  {
   "cell_type": "markdown",
   "id": "c01a7380-652f-41e5-b574-44411a01fca9",
   "metadata": {},
   "source": [
    "These examples demonstrate how data hiding through encapsulation ensures controlled access to internal data and facilitates better code organization, maintenance, and security in object-oriented programming."
   ]
  },
  {
   "cell_type": "markdown",
   "id": "4a10f561-87f5-441d-8857-04cc481231c3",
   "metadata": {},
   "source": [
    "14. Create a Python class called 'Employee' with private attributes for salary ('__salary') and employee ID ('__em;ployee_id'). Provide a method to calculate yearly bonuses."
   ]
  },
  {
   "cell_type": "code",
   "execution_count": 15,
   "id": "d74780ae-b0f3-473b-9b16-d2f5745cdcb0",
   "metadata": {},
   "outputs": [
    {
     "name": "stdout",
     "output_type": "stream",
     "text": [
      "Employee ID: E001\n",
      "Employee Salary: 50000\n",
      "Yearly Bonus: 5000.0\n"
     ]
    }
   ],
   "source": [
    "class Employee:\n",
    "    def __init__(self, employee_id, salary):\n",
    "        self.__employee_id = employee_id  # Private attribute for employee ID \n",
    "        self.__salary = salary   # Private attriute for salary\n",
    "        \n",
    "    def calculate_yearly_bonus(self, bonus_percentage):\n",
    "        yearly_bonus = (bonus_percentage / 100) * self.__salary\n",
    "        return yearly_bonus\n",
    "    \n",
    "    # Getter methods to access private attributes\n",
    "    def get_employee_id(self):\n",
    "        return self.__employee_id\n",
    "    \n",
    "    def get_salary(self):\n",
    "        return self.__salary\n",
    "    \n",
    "    \n",
    "    \n",
    "# Usage \n",
    "emp = Employee('E001', 50000)  # Creating an Employee instance with ID and salary\n",
    "\n",
    "bonus_percentage = 10 # Example bonus percentage\n",
    "yearly_bonus = emp.calculate_yearly_bonus(bonus_percentage) #Calculating yearly bonus\n",
    "\n",
    "print(f\"Employee ID: {emp.get_employee_id()}\")\n",
    "print(f\"Employee Salary: {emp.get_salary()}\")\n",
    "print(f\"Yearly Bonus: {yearly_bonus}\")"
   ]
  },
  {
   "cell_type": "markdown",
   "id": "2b4f4c82-c06e-42d6-bafc-f5330cb15f6b",
   "metadata": {},
   "source": [
    "15. Discuss the use of accessors and mutators in encapsulation. How do they help maintain control over attribute access?"
   ]
  },
  {
   "cell_type": "markdown",
   "id": "a64e89ff-d384-4a62-a9b3-81649be076e4",
   "metadata": {},
   "source": [
    "Accessors and mutators are essential components of encapsulation in object-oriented programming, serving to control access to class attributes by providing methods for retrieving (accessors) and modifying (mutators) attribute values. They play a significant role in maintaining control over attribute access by enforcing encapsulation principles:\n",
    "    \n",
    "    \n",
    "Accessors (Getters):\n",
    "    \n",
    "* What They Do: Accessors, also known as getter methods, provide controlled access to the internal state (attributes) of an object.\n",
    "\n",
    "* Purpose: They retrieve the values of attributes, allowing external code to read (get) the vallues without directly accessing the attributes themselves.\n",
    "\n",
    "* Example:"
   ]
  },
  {
   "cell_type": "code",
   "execution_count": 16,
   "id": "28da1339-07fd-463e-8e3b-579f771d1a49",
   "metadata": {},
   "outputs": [
    {
     "name": "stdout",
     "output_type": "stream",
     "text": [
      "Ram\n"
     ]
    }
   ],
   "source": [
    "class Person:\n",
    "    def __init__(self, name):\n",
    "        self._name = name\n",
    "        \n",
    "    def get_name(self):\n",
    "        return self._name\n",
    "    \n",
    "obj=Person('Ram')\n",
    "print(obj.get_name())"
   ]
  },
  {
   "cell_type": "markdown",
   "id": "f4bc54e5-db8d-49c5-80f0-5325b5c2ade8",
   "metadata": {},
   "source": [
    "* Benefits:\n",
    "    \n",
    "    * Encapsulates the attribute within a method, controlling access to it.\n",
    "    \n",
    "    * Enables validation or computations before returning the attribute value.\n",
    "    \n",
    "    * Shields the internal representation of data from external modification.\n",
    "    \n",
    "    \n",
    "* Mutators (Setters):\n",
    "    \n",
    "    * What They Do: Mutators, also known as setter methods, provide controlled modification of the internal state (attributes) of an object.\n",
    "    \n",
    "    * Purpose: They modify the values of attributes based on specified rules or conditions.\n",
    "    \n",
    "    * Example:"
   ]
  },
  {
   "cell_type": "code",
   "execution_count": 27,
   "id": "b0b6808f-cd20-438f-9cae-f7486735a30c",
   "metadata": {},
   "outputs": [
    {
     "name": "stdout",
     "output_type": "stream",
     "text": [
      "Name: Shamlal\n",
      "New name: Vasu\n"
     ]
    }
   ],
   "source": [
    "class Person:\n",
    "    def __init__(self, name):\n",
    "        self._name = name\n",
    "        \n",
    "    def set_name(self, new_name):\n",
    "        if new_name:\n",
    "            self._name = new_name\n",
    "            return self._name\n",
    "        \n",
    "    def get_name(self):\n",
    "        return self._name\n",
    "        \n",
    "    \n",
    "\n",
    "obj=Person('Shamlal')\n",
    "print(\"Name:\",obj.get_name())\n",
    "print('New name:',obj.set_name('Vasu'))"
   ]
  },
  {
   "cell_type": "markdown",
   "id": "eb4f8269-21ac-4044-a7be-29ac5f9f387e",
   "metadata": {},
   "source": [
    "* Benefits:\n",
    "    \n",
    "    * Encapsulates attribute modification within a method, enabling controlled updates.\n",
    "    \n",
    "    * Allows validation or checks before applying changes to attributes.\n",
    "    \n",
    "    * Helps enforce constraints or business rules on attribute values.\n",
    "    \n",
    "    \n",
    "How They Maintain Control Over Attribute Access:\n",
    "    \n",
    "1. Encapsulation: Accessors and mutators encapsulate attributes within methods, hiding the internal representation of data. This ensures that the attributes can't be directly accessed or modified from outside the class.\n",
    "\n",
    "\n",
    "2. Controlled Access: Accessors and mutators provide a controlled interface for interacting with attributes, enabling validation, computations, or applying rules before accessing or modifying the data.\n",
    "\n",
    "3. Abstraction: They abstract the implementation details of attribute access, allowing the class to change its internal representation without affecting the external code that uses the accessor and mutator methods.\n",
    "\n",
    "4. Enhanced Security and Integrity: By controlling attribute access, they help maintain data integrity and security, preventing unauthorized or invalid changes to the object's state.\n",
    "\n",
    "\n",
    "Overall, accessors and mutators in encapsulation provide a clear and controlled way to interact with class attributes, ensuring better code organization, maintenance, and security in object-oriented programming."
   ]
  },
  {
   "cell_type": "markdown",
   "id": "3a345bc5-1ced-466d-9d60-54664c230a85",
   "metadata": {},
   "source": [
    "16. What are the potential drawbacks or disadvantages of using encapsulation in Python?"
   ]
  },
  {
   "cell_type": "markdown",
   "id": "eaf26cc7-e3a3-45b1-b4ac-80f654e5e911",
   "metadata": {},
   "source": [
    "While encapsulation in Python offers numerous benefits in terms of code organization, security, and maintenance, there are also potential drawbacks or disadvantages to consider:\n",
    "    \n",
    "    \n",
    "1. Complexity and Overhead: Implementing encapsulation can lead to increased code complexity, especially when defining numerous getter/setter methods or using property decorators. This complexity might not be warranted for simple classes or scenarios.\n",
    "\n",
    "2. Access Overhead: Accessing attributes through getter and setter methods or property decorators might introduce a slight performance overhead compared to direct attribbute access. In performance-sensitive applications, this overhead could be a concern.\n",
    "\n",
    "3. Verbose Code: Encapsulation can sometimes lead to verbose code, especially when dealing with a large number of attributes requiring getter/setter methods. This verbosity might reduce code readability and maintainability.\n",
    "\n",
    "4. Potential Misuse: Developers might misuse encapsulation by overusing accessors and mutators excessively, defeating the purpose of simplicity and direct access to attributes where it's appropriate.\n",
    "\n",
    "5. Difficulty in Debugging: When encapsulation heavily restricts direct access to attributes, debugging and troubleshooting might become more challenging, as the internal state of objects is hidden.\n",
    "\n",
    "6. Flexibility Limitation: Over-encapsulation can limit flexibility, making it harder to extend or modify the class later if encapsulation is overly strict, leading to extensive changes in the codebase.\n",
    "\n",
    "7. Learning Curve: For newcomers to the codebase or language, understanding the encapsulation mechanisms and the reasons behind using getter/setter methods or property decorators might pose a learning curve.\n",
    "\n",
    "8. Python's Philosophy: Python's philosophy emphasizes simplicity and readability. Over-encapsulation might sometimes conflict with the Pythonic approach of favoring simplicity over overly strict encapsulation.\n",
    "\n",
    "\n",
    "It's essential to strike a balance when applying encapsulation, considering factors such as the project's complexity, performance requirements, maintainability, and the trade-offs between encapsulation and ease of use. Encapsulation should be used judiciously where it adds value and clarity to the codebase without unnecessarily complicating it."
   ]
  },
  {
   "cell_type": "markdown",
   "id": "570cff54-a639-410b-a555-fcd253292809",
   "metadata": {},
   "source": [
    "17. Create a Python class for a library system that encapsulates book information, including titles, authors, and availability status."
   ]
  },
  {
   "cell_type": "code",
   "execution_count": 3,
   "id": "c33ab8d4-ea76-4cf8-97fa-5d877a47404d",
   "metadata": {},
   "outputs": [
    {
     "name": "stdout",
     "output_type": "stream",
     "text": [
      "The Great Gatsby\n",
      "F. Scott Fitzgerald\n",
      "True\n",
      "Book 'The Great Gatsby' by F. Scott Fitzgerald has been borrowed.\n",
      "False\n",
      "Book 'The Great Gatsby' by F. Scott Fitzgerald is currently not available.\n",
      "Book The Great Gatsby' by F. Scott Fitzgerald has been returned.\n",
      "True\n"
     ]
    }
   ],
   "source": [
    "class Book:\n",
    "    def __init__(self, title, author):\n",
    "        self._title = title  # Protected attribute for book title\n",
    "        self._author = author   # Protected attribute for book author\n",
    "        self._available = True  # Protected attribute for availability status\n",
    "        \n",
    "    def get_title(self):\n",
    "        return self._title\n",
    "    \n",
    "    def get_author(self):\n",
    "        return self._author\n",
    "    \n",
    "    def is_available(self):\n",
    "        return self._available\n",
    "    \n",
    "    def borrow_book(self):\n",
    "        if self._available:\n",
    "            self._available = False\n",
    "            print(f\"Book '{self._title}' by {self._author} has been borrowed.\")\n",
    "            \n",
    "        else:\n",
    "            print(f\"Book '{self._title}' by {self._author} is currently not available.\")\n",
    "            \n",
    "    def return_book(self):\n",
    "        if not self._available:\n",
    "            self._available = True\n",
    "            print(f\"Book {self._title}' by {self._author} has been returned.\")\n",
    "        else:\n",
    "            print(f\"Book '{self._title}' by {self._author} is already available.\")\n",
    "\n",
    "\n",
    "# Example usage:\n",
    "\n",
    "book1 = Book(\"The Great Gatsby\", \"F. Scott Fitzgerald\")\n",
    "book2 = Book(\"To Kill a Mockingbird\", \"Harper Lee\")\n",
    "\n",
    "print(book1.get_title())   # Accessing book title using accessor method\n",
    "print(book1.get_author())  # Accessing book author using accessor method\n",
    "print(book1.is_available())  # Checking book availability using accessor method\n",
    "\n",
    "book1.borrow_book()   # Borrowing the book\n",
    "print(book1.is_available())   # Checking availability after borrowing\n",
    "\n",
    "book1.borrow_book()   # Trying to borrow the book again\n",
    "\n",
    "book1.return_book()  # Returning the book\n",
    "print(book1.is_available())  # Checking availability after returning"
   ]
  },
  {
   "cell_type": "markdown",
   "id": "dc962595-a917-4157-8210-d57ceaf338df",
   "metadata": {},
   "source": [
    "This structure maintains encapsulation by hiding the internal attributes of the 'Book' class and controlling access and modification through well-defined methods."
   ]
  },
  {
   "cell_type": "markdown",
   "id": "c61be623-28e8-4532-a749-bc8b8d1fb006",
   "metadata": {},
   "source": [
    "18. Explain how encapsulation enhances code reusability and modularity in Python programs."
   ]
  },
  {
   "cell_type": "markdown",
   "id": "89d14a0f-fb6a-482f-b041-32f24bc86c30",
   "metadata": {},
   "source": [
    "Encapsulation plays a crucial role in enhancing code reusability and modularity in Python programs by promoting a clear separation of concerns and reducing interdependencies between different parts of the code. Here's how encapsulation contributes to hese aspects:\n",
    "\n",
    "\n",
    "Code Reusability:\n",
    "    \n",
    "1. Abstraction of Implementation Details: Encapsulation hides the internal workings and data representation of an object behind well-defined interfaces (methods). This abstraction allows users to interact with the object's functionality without needing to understand its internal complexities.\n",
    "\n",
    "2. Defined Interfaces: Encapsulation offers well-defined interfaces through methods, enabling users to interact with objects in a standardized way. This consistency promotes reusability is other parts of the code can use these innterfaces without concerning themselves with the internal details of the encapsulated objects.\n",
    "\n",
    "3. Encapsulation in Classes: By encapsulating functionality within classes, youu can reuse those classes across different parts of the code or even in entirely separate projects. Classes act as reusable components that provide a specific set of functionalities while hiding their internal mechanisms.\n",
    "\n",
    "\n",
    "Modularity:\n",
    "    \n",
    "1. Promoting Separation of Concerns: Encapsulation helps in breaking down a program into smaller, manageable parts (modules or classes) with distinct functionalities. Each module or class encapsulates a specific set of functionalities, promoting modularity and making it easier to maintain and update specific parts of the codebase without affacting others.\n",
    "\n",
    "2. Ease of Maintenance: Encapsulated modules or classes are self-contained units, making it easier to debug, maintain, and enhance the code. Changes made within an encapsulated unit are less likely to cause ripple effects throughout the entire codebase, as long as the public interface remains consistent.\n",
    "\n",
    "3. Code Flexibility and Scalability: Encapsulation allows for more flexible and scalable code. By hiding the implementation details, you can modify or replace encapsulated components without affecting the overall functionality as long as the public interface remains intact.\n",
    "\n",
    "4. Encapsulation as Building Blocks: Encapsulated classes or modules serve as building blocks that can be easily integrated into larger systems. They act as standalone units that contribute to the overall functionality of the system, enhancing its modularity and allowing for easier integration and maintenance.\n",
    "\n",
    "\n",
    "In summary, encapsulation promotes code reusability by providing well-defined interfaces and abstraction, while fostering modularity by facilitating the division of code into manageable, self-contained units. These principles help in creating more maintainable, flexible, and scalable Python programs."
   ]
  },
  {
   "cell_type": "markdown",
   "id": "83d6543f-8d56-4233-b2fc-b71de2cb5ede",
   "metadata": {},
   "source": [
    "19. Describe the concept of information hiding in encapsulation. Why is it essential in software development?"
   ]
  },
  {
   "cell_type": "markdown",
   "id": "6e916318-8749-49ef-81cc-fba69833ecc8",
   "metadata": {},
   "source": [
    "Information hiding is a fundamental concept within encapsulation that involves concealing the implementation details and internal state oa an object or module from the outside world. It restricts acess to certain parts of the code or data, allowing only necessary information to be visible or accessible, while hiding the rest.\n",
    "\n",
    "\n",
    "Key Aspects of Information Hiding within Encapsulation:\n",
    "    \n",
    "1. Private Access Control: Encapsulation allows certain attributes or methods to be marked as private, meaning they are only accessible within the same class or module. This prevents direct access from outside, hiding the internal implementaation details.\n",
    "\n",
    "2. Abstraction and Interface: Information hiding presents a clear and well-defined interface to the outside world. It abstracts away the complexities and internal workings of an object or module, providing a set of methods or functionalities that define its interaction.\n",
    "\n",
    "3. Data Integrity and Security: By hiding sensitive or internal data, information hiding ensures data integrity and security. It prevents unauthorized modifications or access to critical parts of the code, reducing the risk of accidental misuse or manipulation.\n",
    "\n",
    "\n",
    "Importance is Software Development:\n",
    "    \n",
    "1. Enhanced Maintainability: Information hiding simplifies the understanding and maintenance of code. By concealing the implementation details, developers can focus on using the provided interfaces without worrying about the internal complexities.\n",
    "\n",
    "2. Reduced Complexity: It helps manage the complexity of larger systems by breaking them down into smaller, manageable units. Modules or classes with hidden details provide a simpler and more predictable interface for interaction.\n",
    "\n",
    "3. Improved Reusability: Information hiding promotes code reusability. Modules or classes encapsulated with hidden implementation details can be reused across different parts of the code or in other projects, as long as the interface remains consistent.\n",
    "\n",
    "4. Flexibility and Evolution: Hiding implementation details allows for easier modifications or updates. It gives developers the freedom to change internal mechanisms without affacting external code that relies on the provided interface.\n",
    "\n",
    "5. Enhanced Security: By hiding sensitive data or critical parts of the code, information hiding contributes to improving security. It reduces the risk of vulnerabilities or unintended access to crucial information.\n",
    "\n",
    "\n",
    "In essence, information hiding within encapsulation is crucial in software development as it promotes better code organization, simplifies maintenance, improves code reusability, and enhances  security. It allows developers to build robust, scalable, and maintainable systems by abstracting awa unnecessary complexities and exposing onlly what's necessary for external interaction."
   ]
  },
  {
   "cell_type": "markdown",
   "id": "bf9e17cd-dbfd-4061-a384-32165490aaf0",
   "metadata": {},
   "source": [
    "20. Create a Python class called 'Customer' with private attributes for customer details like name, address, and contact information. Implement encapsulation to ensure data integrity and security."
   ]
  },
  {
   "cell_type": "code",
   "execution_count": 5,
   "id": "72f5c3dc-9d60-4ca2-832b-b36ddde468d1",
   "metadata": {},
   "outputs": [
    {
     "name": "stdout",
     "output_type": "stream",
     "text": [
      "John Doe\n",
      "123 Main St, City\n",
      "John@example.com\n",
      "Contact information updated.\n",
      "newemail@example.com\n"
     ]
    }
   ],
   "source": [
    "class Customer:\n",
    "    def __init__(self, name, address, contact):\n",
    "        self.__name = name   # Private attribute \n",
    "        self.__address = address  # Private attribute\n",
    "        self.__contact = contact  # private attribute\n",
    "        \n",
    "    def get_name(self):\n",
    "        return self.__name\n",
    "    \n",
    "    def get_address(self):\n",
    "        return self.__address\n",
    "    \n",
    "    def get_contact(self):\n",
    "        return self.__contact\n",
    "    \n",
    "    def update_contact(self, new_contact):\n",
    "        self.__contact = new_contact\n",
    "        print(\"Contact information updated.\")\n",
    "        \n",
    "\n",
    "# Driver code\n",
    "\n",
    "customer1 = Customer(\"John Doe\", \"123 Main St, City\", \"John@example.com\")\n",
    "print(customer1.get_name())  \n",
    "print(customer1.get_address()) \n",
    "print(customer1.get_contact()) \n",
    "\n",
    "# Trying to directly access private attributes (will result in an AttributeError)\n",
    "# print(customer1.__name)\n",
    "# print(customer1.__address)\n",
    "# print(customer1.__contact)\n",
    "\n",
    "customer1.update_contact(\"newemail@example.com\") \n",
    "print(customer1.get_contact())"
   ]
  },
  {
   "cell_type": "markdown",
   "id": "1aa0c7f9-bfd3-472d-99ad-465ad5e4c022",
   "metadata": {},
   "source": [
    "Encapsulation ensures that the customer details are accessible only through well-defined methods, maintaining data integrity and security by preventing direct access or modification of private attributes from outside the class."
   ]
  },
  {
   "cell_type": "markdown",
   "id": "89a1e2ea-7d5b-409a-8c5c-3706ac71b20c",
   "metadata": {},
   "source": [
    "# Polymorphism:"
   ]
  },
  {
   "cell_type": "markdown",
   "id": "ba6b0169-1c0f-4fd1-bac2-5f4d0a37884d",
   "metadata": {},
   "source": [
    "1. What is polymorphism in Python? Explain how it is related to object-oriented programming."
   ]
  },
  {
   "cell_type": "markdown",
   "id": "5644a734-ad34-4c56-80b8-7545bef3518b",
   "metadata": {},
   "source": [
    "Polymorphism, a key concept in object-oriented programming (OOP),  refers to the ability of different classes or objects to be treated as instances of the same class through a common interface. It allows objects of different types to be handled using a uniform interface, providing flexibility and extensibility in code desing.\n",
    "\n",
    "Types of Polymorphism in Python:\n",
    "    \n",
    "1. Compile-Time Polymorphism (Static Binding):\n",
    "    \n",
    "    * Achieved through method overloading and operator overloading.\n",
    "    \n",
    "    * Method overloading involves defining multiple methods with the same name but different parameters within the same class. Python does not directly support method overloading by default, but it can be achieved using default parameter values or variable arguments ('*args' and '**kwargs').\n",
    "    \n",
    "    * Operator overloading involves defining custome behavior for built-in operators like '+', '-', '*', '/', etc., for user-defined classes by implementing special methods (e.g., '__add__', '__sub__').\n",
    "    \n",
    "2. Run-Time Polymorphism (Dynamic Binding):\n",
    "    \n",
    "    * Achieved through method overriding and inheritance.\n",
    "    \n",
    "    * Method overriding occurs when a subclass provides a specific implementation of a method that is already defined in its superclass. The subclass method overrides the behavior of the superclass method while maintaining the same method signature.\n",
    "    \n",
    "    * Inheritance allows objects of a derived class to be treated as objects of their base class. This enables substitutability, where a base class reference can point to objects of its derived classes.\n",
    "    \n",
    "\n",
    "RElationship with Object-Oriented Programming (OOP):\n",
    "    \n",
    "Polymorphism is one of the core principles of OOP and is closely related to other principles like inheritance, encapsulation, and abstraction:\n",
    "    \n",
    "1. Abstraction: Polymorphism allows objecs to be treated at a higher level of abstraction, focusing on their common interface rather than their specific implementations.\n",
    "\n",
    "2. Inheritance: Polymorphism in closely tied to inheritance, as it enables objects of derived classes to be used in place of objects of their base classes. This facilitates code reuse and promotes the use of generic interfaces.\n",
    "\n",
    "3. Encapsulation: Polymorphism helps encapsulate different implementations behind a common interface. It hides the specific details of different object types while exposing a unified way to interact with them.\n",
    "\n",
    "\n",
    "Polymorphism in Python promotes code reusability, extensibility, and flexibility by allowing different objects to be manipulated in a uniform manner. It facilitates more modular and maintainable code by enabling the use of generic interfaces to interact with diverse types of objects."
   ]
  },
  {
   "cell_type": "markdown",
   "id": "04fb8970-3fb4-4619-8c8f-74fc3516c692",
   "metadata": {},
   "source": [
    "2. Describe the difference between compile-time polymorphism and runtime polymorphism in Python."
   ]
  },
  {
   "cell_type": "markdown",
   "id": "0bb48d5a-01ca-41fb-b263-898fe9bfd2fd",
   "metadata": {},
   "source": [
    "In Python, the concepts of compile-time polymorphism and runtime polymorphism relate to different mechanisms used to achieve polymorphic behavior in object-oriented programming.\n",
    "\n",
    "\n",
    "Compile-Time Polymorphism (Static Binding):\n",
    "    \n",
    "1. Method Overloading:\n",
    "    \n",
    "    * In languages like Java or C++, method overloading allows defining multiple methods in a class with the same name but different paramets.\n",
    "    \n",
    "    * Python doesn't directly support method overloading based on different parameter types, as it allows only one method definition per name. However, default parameter values or variable arguments ('*args', '**kwargs') can be used to simulate method overloading behavior.\n",
    "    \n",
    "2. Operator Overloading:\n",
    "    \n",
    "    * Python supports operator overloading, allowing user-defined classes to define custom behavior for built-in operators by implementing special methods (e.g., '__add__', '__sub__', etc.).\n",
    "    \n",
    "    * Compile-time polymorphism using operator overloading allows objects of different classes to interact with operators in a polymorphic manner.\n",
    "    \n",
    "Run-Time Polymorphism (Dynamic Binding):\n",
    "    \n",
    "1. Method Overriding:\n",
    "    \n",
    "    * Method overriding occurs when a subclass provides a specific implementation of a method that is already defined in its superclass.\n",
    "    \n",
    "    * In Python, run-time polymorphism is achieved through method overriding, where a subclass can override a method defined in its superclass, altering the behavior of the method while keeping the method signature unchange.\n",
    "    \n",
    "2. Inheritance and Substitutability:\n",
    "    \n",
    "    * Inheritance allows objects of a derived class to be treated as objects of their base class, enabling substitutability. A base class reference can point to objects of its derived classes. \n",
    "    \n",
    "    * Python supports run-time polymorphism through inheritance, allowing for dynamic method resolution based on the actual object type during runtim.\n",
    "    \n",
    "    \n",
    "Differences:\n",
    "    \n",
    "* Timing of Binding:\n",
    "    \n",
    "    * Compile-time polymorphism (method overloading, operator overloading) is resolved at compile time, where the compiler determines the appropriate method or operation based on the context and types.\n",
    "    \n",
    "    * Run-time polymorphism (method overriding, inheritance) is resolved at runtime, where the method to be executed is determined based on the actual object type during program execution.\n",
    "    \n",
    "* Use Cases:\n",
    "    \n",
    "    * Compile-time polymorphism is more about handling different parameter types or operators using a single method name or operator symbol.\n",
    "    \n",
    "    * Run-time polymorphism focuses on defining specific behavior for methods in subclasses, allowing different implementations to be used based on the obbject's type.\n",
    "    \n",
    "Both compile-time and run-time polymorphism are essential in Python to achieve a flexible and extensible code structure, allowing different objects to be treated uniformly through a common interface while enabling different behaviors based on their actual types or contexts."
   ]
  },
  {
   "cell_type": "markdown",
   "id": "d6565874-1162-46e9-8a1d-54f1dc16e1a9",
   "metadata": {},
   "source": [
    "3. Create a Python class hierarchy for shapes (e.g., circle, square, triangle) and demonstrate polymorphism through a common method, such as 'calculate_area()'."
   ]
  },
  {
   "cell_type": "code",
   "execution_count": 9,
   "id": "8a1e24b1-17a8-4da1-8b5b-2f43dc28993f",
   "metadata": {},
   "outputs": [
    {
     "name": "stdout",
     "output_type": "stream",
     "text": [
      "Area of Circle: 78.53981633974483\n",
      "Area of Square: 16\n",
      "Area of Triangle: 9.0\n"
     ]
    }
   ],
   "source": [
    "import math\n",
    "\n",
    "class Shape:\n",
    "    def calculate_area(self):\n",
    "        pass    # Placeholder method to be overridden by subclasses\n",
    "    \n",
    "class Circle(Shape):\n",
    "    def __init__(self, radius):\n",
    "        self.radius = radius\n",
    "        \n",
    "    def calculate_area(self):\n",
    "        return math.pi * self.radius ** 2\n",
    "    \n",
    "class Square (Shape):\n",
    "    def __init__(self, side):\n",
    "        self.side = side\n",
    "        \n",
    "    def calculate_area(self):\n",
    "        return self.side **2\n",
    "    \n",
    "class Triangle (Shape):\n",
    "    def __init__(self, base, height):\n",
    "        self.base = base\n",
    "        self.height = height\n",
    "        \n",
    "    def calculate_area(self):\n",
    "        return 0.5 * self.base * self.height\n",
    "    \n",
    "# Usage demonstrating polymorphism:\n",
    "\n",
    "circle = Circle(5)\n",
    "square = Square(4)\n",
    "triangle = Triangle(3,6)\n",
    "\n",
    "shapes = [circle, square, triangle]\n",
    "\n",
    "for shape in shapes:\n",
    "    print(f\"Area of {type(shape).__name__}: {shape.calculate_area()}\")"
   ]
  },
  {
   "cell_type": "markdown",
   "id": "489102a5-233c-42e0-adae-749c816163ed",
   "metadata": {},
   "source": [
    "4. Explain the concept of method overriding in polymorphism. Provide an example."
   ]
  },
  {
   "cell_type": "markdown",
   "id": "ac34360c-bb4e-42c7-9acf-3fca54febb77",
   "metadata": {},
   "source": [
    "Method overriding is a concept in object-oriented programming where a subclass provides a specific implementation of a method that is already defined in its superclass. This allows the subclass to override the behavior of the superclass method while keeping the method signature (name and parameters) unchanged. Method overriding enables polymorphic behavior, allowing obbjects of different classes to be treated uniformaly through a common interface.\n",
    "\n",
    "Key Aspects of Method Overriding:\n",
    "    \n",
    "1. Inheritance: Method overriding occurs in the context of inheritance, where a subclass inherits a method from its superclass and provides its own implementation of that method\n",
    "\n",
    "2. Same Method Signature: The overriding method in the subclass must have the same method signature (name and parameters) as the method in the superclass that it intendes to override. \n",
    "\n",
    "3. Dynamic Binding: During runtime, the appropriate method to be executed is determined based on the actual object type rather than the reference type, allowing for dynamic polymorphic behavior.\n",
    "\n",
    "\n",
    "Example of Method Overriding:"
   ]
  },
  {
   "cell_type": "code",
   "execution_count": 10,
   "id": "8cdcf906-e10f-48bf-839e-1a3f4dce2302",
   "metadata": {},
   "outputs": [
    {
     "name": "stdout",
     "output_type": "stream",
     "text": [
      "Dog says: Woof!\n",
      "Cat says: Meow!\n",
      "Cow says: Moo!\n"
     ]
    }
   ],
   "source": [
    "class Animal:\n",
    "    def make_sound(self):\n",
    "        return \"Generic animal sound\"\n",
    "    \n",
    "class Dog(Animal):\n",
    "    def make_sound(self):\n",
    "        return \"Woof!\"\n",
    "    \n",
    "class Cat(Animal):\n",
    "    def make_sound(self):\n",
    "        return \"Meow!\"\n",
    "    \n",
    "class Cow(Animal):\n",
    "    def make_sound(self):\n",
    "        return \"Moo!\"\n",
    "    \n",
    "\n",
    "# Usage demonstrating method overriding and polymorphism:\n",
    "\n",
    "dog = Dog()\n",
    "cat = Cat()\n",
    "cow = Cow()\n",
    "\n",
    "animals = [dog, cat, cow]\n",
    "\n",
    "for animal in animals:\n",
    "    print(f\"{type(animal).__name__} says: {animal.make_sound()}\")"
   ]
  },
  {
   "cell_type": "markdown",
   "id": "6a5e8d2b-b2f0-4889-922d-e89e77a6d0a8",
   "metadata": {},
   "source": [
    "This example illustrates how method overriding allows subclasses to provide their own implementation of a method inherited from a superclass, enabling polymorphism and dynamic behavior based on the actual object type during runtime."
   ]
  },
  {
   "cell_type": "markdown",
   "id": "977b0eaa-5326-46f7-bed6-9a07025b1112",
   "metadata": {},
   "source": [
    "5. How is polymorphism different from method overloading in Python? Provide example for both."
   ]
  },
  {
   "cell_type": "markdown",
   "id": "9b436df5-8726-4666-b229-98f03fd5759c",
   "metadata": {},
   "source": [
    "In Python, polymorphism and method overloading are related concepts, but they differ in their implementation and usage.\n",
    "\n",
    "Polymorphism:\n",
    "    \n",
    "Polymorphism refers to the ability of different classes or objects to be treated as instances of the same class through a common interface. In Python, polymorphism is mainly achieved throuugh method overriding, where a subclass provides a specific implementation of a method that is already defined in its superclass.\n",
    "\n",
    "Example of Polymorphism (Method Overriding):"
   ]
  },
  {
   "cell_type": "code",
   "execution_count": 1,
   "id": "1c49eb08-3246-4680-8e49-d097314adbab",
   "metadata": {},
   "outputs": [
    {
     "name": "stdout",
     "output_type": "stream",
     "text": [
      "Dog says: Woof!\n",
      "Cat says: Meow!\n",
      "Cow says: Moo!\n"
     ]
    }
   ],
   "source": [
    "class Animal:\n",
    "    def make_sound(self):\n",
    "        return \"Generic animal sound\"\n",
    "    \n",
    "class Dog(Animal):\n",
    "    def make_sound(self):\n",
    "        return \"Woof!\"\n",
    "    \n",
    "class Cat(Animal):\n",
    "    def make_sound(self):\n",
    "        return \"Meow!\"\n",
    "    \n",
    "class Cow(Animal):\n",
    "    def make_sound(self):\n",
    "        return \"Moo!\"\n",
    "    \n",
    "dog = Dog()\n",
    "cat = Cat()\n",
    "cow = Cow()\n",
    "\n",
    "animals = [dog, cat, cow]\n",
    "\n",
    "for animal in animals:\n",
    "    print(f\"{type(animal).__name__} says: {animal.make_sound()}\")"
   ]
  },
  {
   "cell_type": "markdown",
   "id": "638d026e-c665-4a0d-9805-8babf141627b",
   "metadata": {},
   "source": [
    "Method Overloading:\n",
    "    \n",
    "Method overloading refers to the ability to define multiple methods with the same name within the same class, but with different parameters. In languages like Java or C++, method overloading allows using the same method name with different argument lists.\n",
    "\n",
    "In Python, method overloading based on different parameter types isn't directly supported as it is in languages like Java or C++. Python allows only one method definition per name within a class. However, it provides flexibility through default parameter values or variable arguments ('*args', '**kwargs') to achieve similar behaviors.\n",
    "\n",
    "Example of Method Overloading in Python (using default parameter):"
   ]
  },
  {
   "cell_type": "code",
   "execution_count": 2,
   "id": "528d62ff-919e-4272-a541-d2426aeffcd2",
   "metadata": {},
   "outputs": [
    {
     "name": "stdout",
     "output_type": "stream",
     "text": [
      "5\n",
      "6\n"
     ]
    }
   ],
   "source": [
    "class Calculator:\n",
    "    def add(self, a, b=None):\n",
    "        if b is None:\n",
    "            return a\n",
    "        else:\n",
    "            return a+b\n",
    "        \n",
    "calc = Calculator()\n",
    "\n",
    "print(calc.add(5))\n",
    "print(calc.add(3,3))"
   ]
  },
  {
   "cell_type": "markdown",
   "id": "f130e5c2-3393-4d63-8dd8-f295eeb71484",
   "metadata": {},
   "source": [
    "In the example above, the 'add()' method in the 'Calculator' class is defined with a default parameter ('b=None'). Depending on whether the 'b' parameter is provided or not, the method behaves differently, mimicking method overloading by changing its behavior based on the number of arguments passed.\n",
    "\n",
    "Differences:\n",
    "    \n",
    "* Polymorphism is about providing different implementations of the same method across different classes (usually subclasses), allowing for dynamic behavior based on the actual object type during runtime.\n",
    "\n",
    "* Method Overloading involves defining multiple methods with the same name but different parameters within the same class or using default parameters/variable arguments to simulate different method behaviors based on the parameters passed.\n",
    "\n",
    "\n",
    "While method overloading isn't directly supported in Python in the same way as in some other languages, Python provides flexibility in method definition to achieve similar behaviors based on parameter handling or default values. Polymorphism, on the other hand, is inherent in Python's object-oriented paradigm and is achieved through method overriding and inheritance."
   ]
  },
  {
   "cell_type": "markdown",
   "id": "e73df7e6-06ec-4a44-9f48-ebd12a99085e",
   "metadata": {},
   "source": [
    "6. Create a Python class called 'Animal' with a method 'speak()'. Then, create child classes like 'Dog', 'Cat', and 'Bird', each with their own 'speak()' method. Demonstrate polymorphism by calling the 'speak()' method on objects of different subclasses."
   ]
  },
  {
   "cell_type": "code",
   "execution_count": 3,
   "id": "109607c0-f175-40fd-a8f3-382454ca5a42",
   "metadata": {},
   "outputs": [
    {
     "name": "stdout",
     "output_type": "stream",
     "text": [
      "Dog says: Woof!\n",
      "Cat says: Meow!\n",
      "Bird says: Chirp!\n"
     ]
    }
   ],
   "source": [
    "class Animal:\n",
    "    def speak(self):\n",
    "        return \"Generic animal sound\"\n",
    "    \n",
    "class Dog(Animal):\n",
    "    def speak(self):\n",
    "        return \"Woof!\"\n",
    "\n",
    "class Cat(Animal):\n",
    "    def speak(self):\n",
    "        return \"Meow!\"\n",
    "\n",
    "class Bird(Animal):\n",
    "    def speak(self):\n",
    "        return \"Chirp!\"\n",
    "        \n",
    "\n",
    "\n",
    "# Demonstrating polymorphism\n",
    "\n",
    "dog = Dog()\n",
    "cat = Cat()\n",
    "bird = Bird()\n",
    "\n",
    "animals = [dog, cat, bird]\n",
    "\n",
    "for animal in animals:\n",
    "    print(f\"{type(animal).__name__} says: {animal.speak()}\")"
   ]
  },
  {
   "cell_type": "markdown",
   "id": "f3a49f3e-7bd4-494b-adf0-49974a77cbae",
   "metadata": {},
   "source": [
    "Explanation:\n",
    "    \n",
    "* The 'Animal\" class has a generic 'speak()' method, while its subclasses ('Dog', 'Cat', 'Bird') override this method with their specific implementations.\n",
    "\n",
    "* Instances of 'Dog', 'Cat', and 'Bird' are created, each having their own 'speak()' method specific to their class.\n",
    "\n",
    "* A list 'animals' is created, containing objects of different subclasses.\n",
    "\n",
    "* The 'speak()' method is called for each animal object in the loop. Despite calling the same method ('speak()'), the specific implementation defined in each subclass is executed, demonstrating polymorphic behavior. The output showcases each animal making its distinct sound based on its class."
   ]
  },
  {
   "cell_type": "markdown",
   "id": "fc9f15c7-0805-417b-89b9-5f0f5e5350ff",
   "metadata": {},
   "source": [
    "7. Discuss the use of abstract methods and classes in achieving polymorphism in Python. Provide an example using the 'abc' module."
   ]
  },
  {
   "cell_type": "markdown",
   "id": "e50a9c27-5ecc-42bb-98a3-7cc6dfac67f1",
   "metadata": {},
   "source": [
    "Abstract classes and methods in Python, facilitated by the 'abc' (Abstract Base Classes) module, provide a way to define a blueprint for a class and enforce certain methods to be implemented by its subclasses. They contribute to achieving polymorphism by ensuring a common interface that subclasses must adhere to, allowing for polymorphic behavior while maintaining consistency across different classes.\n",
    "\n",
    "Use of 'abc' Module for Abstract Classes and Methods:\n",
    "    \n",
    "The 'abc' module provides the 'ABC' (Abstract Base Class) and 'absstractmethod' decorator to create abstract classes and methods, respectively.\n",
    "\n",
    "Example demonstrating abstract classes and methods using 'abc' module:"
   ]
  },
  {
   "cell_type": "code",
   "execution_count": 4,
   "id": "05a363b0-7d3b-44bb-bdfb-255d32978db8",
   "metadata": {},
   "outputs": [
    {
     "name": "stdout",
     "output_type": "stream",
     "text": [
      "Dog says: Woof!\n",
      "Cat says: Meow!\n",
      "Bird says: Chirp!\n"
     ]
    }
   ],
   "source": [
    "from abc import ABC, abstractmethod\n",
    "\n",
    "class Animal(ABC):\n",
    "    @abstractmethod\n",
    "    def speak(self):\n",
    "        pass\n",
    "    \n",
    "class Dog(Animal):\n",
    "    def speak(self):\n",
    "        return \"Woof!\"\n",
    "\n",
    "class Cat(Animal):\n",
    "    def speak(self):\n",
    "        return \"Meow!\"\n",
    "\n",
    "class Bird(Animal):\n",
    "    def speak(self):\n",
    "        return \"Chirp!\"\n",
    "    \n",
    "# Usage demonstrating polymorphism\n",
    "\n",
    "dog = Dog()\n",
    "cat = Cat()\n",
    "bird = Bird()\n",
    "\n",
    "animals =[dog, cat, bird]\n",
    "\n",
    "for animal in animals:\n",
    "    print(f\"{type(animal).__name__} says: {animal.speak()}\")"
   ]
  },
  {
   "cell_type": "markdown",
   "id": "34a4b6f4-2d16-4c9c-9aad-b4041c5473b4",
   "metadata": {},
   "source": [
    "Using abstract classes and methods with the 'abc' module enforces a consistent interface across subclasses, ensuring that specific methods are implemented in each subclass. This practice promotes code clarity, maintenance, and ensures adherence to a common structure, which is crucial for achieving polymorphism while maintaining a unified interface."
   ]
  },
  {
   "cell_type": "markdown",
   "id": "ea8c0edd-b069-4f34-a498-0c5d4ca25737",
   "metadata": {},
   "source": [
    "8. Create a Python class hierarchy for a vehicle system (e.g., car, bicycle, boat) and implement a polymorphic 'start()' method that prints a message specific to each vehicle type."
   ]
  },
  {
   "cell_type": "code",
   "execution_count": 1,
   "id": "e419fe08-2b61-40d8-9e8e-b419629c995a",
   "metadata": {},
   "outputs": [
    {
     "name": "stdout",
     "output_type": "stream",
     "text": [
      "Car started. Vroom!\n",
      "Bicycle started. Pedal away!\n",
      "Boat started. Set sail!\n"
     ]
    }
   ],
   "source": [
    "class Vehicle:\n",
    "    def start(self):\n",
    "        pass  # Placeholder method to be overridden by subclasses\n",
    "    \n",
    "class Car(Vehicle):\n",
    "    def start(self):\n",
    "        return \"Car started. Vroom!\"\n",
    "    \n",
    "class Bicycle(Vehicle):\n",
    "    def start(self):\n",
    "        return \"Bicycle started. Pedal away!\"\n",
    "    \n",
    "class Boat(Vehicle):\n",
    "    def start(self):\n",
    "        return \"Boat started. Set sail!\"\n",
    "    \n",
    "# Usage demonstrating polymorphic start method:\n",
    "\n",
    "car = Car()\n",
    "bicycle = Bicycle()\n",
    "boat = Boat()\n",
    "\n",
    "vehicles = [car, bicycle, boat]\n",
    "\n",
    "for vehicle in vehicles:\n",
    "    print(vehicle.start())"
   ]
  },
  {
   "cell_type": "markdown",
   "id": "24a5ea39-73bc-4998-9459-9077e5612ee0",
   "metadata": {},
   "source": [
    "9. Explain the significance of the 'isinstance()' and 'issubclass()' functions in Python polymorphism."
   ]
  },
  {
   "cell_type": "markdown",
   "id": "75602e8c-5f5c-4fd2-8fca-b0a964136579",
   "metadata": {},
   "source": [
    "The 'isinstance()' and 'issubclass()' functions in Python play significant roles in implementing and working with polymorphism by enabling type and class checks. They provide mechanisms to determine relationships between objects and classes, aiding in achieving polymorphic behavior.\n",
    "\n",
    "'isinstance()' Function:\n",
    "    \n",
    "* Significance in Polymorphism:\n",
    "    \n",
    "    * 'isinstance()' checks whether an object is an instance of a particular class or any of its derived classes.\n",
    "    \n",
    "    * It's crucial for determining if an object can exhibit polymorphic behavior by confirming its relationship to a specific class or its subclasses.\n",
    "    \n",
    "* Usage:\n",
    "    \n",
    "    * 'isinstance(obj, class)' returns 'True' if 'obj' is an instance of 'class' or any of its subclasses, otherwise 'False'.\n",
    "    \n",
    "    * It helps ensure that an object adheres to the expected type or class structure before performing operations or invoking methods, contributing to polymorphic behavior.\n",
    "    \n",
    "* Example:"
   ]
  },
  {
   "cell_type": "code",
   "execution_count": 2,
   "id": "c52772c7-2c1f-4423-b019-f0b6c1384086",
   "metadata": {},
   "outputs": [
    {
     "name": "stdout",
     "output_type": "stream",
     "text": [
      "True\n",
      "True\n",
      "True\n"
     ]
    }
   ],
   "source": [
    "class Animal:\n",
    "    pass\n",
    "\n",
    "class Dog(Animal):\n",
    "    pass\n",
    "\n",
    "dog = Dog()\n",
    "\n",
    "print(isinstance(dog, Dog))\n",
    "print(isinstance(dog, Animal))\n",
    "print(isinstance(dog, object))"
   ]
  },
  {
   "cell_type": "markdown",
   "id": "33854611-a338-4f8f-a8da-be40e28c1a16",
   "metadata": {},
   "source": [
    "'issubclass()' Function:\n",
    "    \n",
    "* Significance in Polymorphism:\n",
    "    \n",
    "    * 'issubclass()' checks whether a class is a subclass of another class.\n",
    "    \n",
    "    * it's useful for confirming class hierarchies and relationships, ensuring that subclasses can exhibit polymorphic behavior.\n",
    "    \n",
    "* Usage:\n",
    "    \n",
    "    * 'issubclass(subclass, superclass)' returns 'True' if 'subclass' is a subclass of 'superclass', otherwise 'False'.\n",
    "    \n",
    "    * It helps verify inheritance relationships between classes, which is essential for implementing polymorphic behavior.\n",
    "    \n",
    "* Example:"
   ]
  },
  {
   "cell_type": "code",
   "execution_count": 3,
   "id": "b077ca23-b8c7-4ebe-bb3b-5fed3b115dfb",
   "metadata": {},
   "outputs": [
    {
     "name": "stdout",
     "output_type": "stream",
     "text": [
      "True\n",
      "True\n",
      "False\n"
     ]
    }
   ],
   "source": [
    "class Animal:\n",
    "    pass\n",
    "\n",
    "class Dog(Animal):\n",
    "    pass\n",
    "\n",
    "print(issubclass(Dog, Animal)) \n",
    "print(issubclass(Animal, object))\n",
    "print(issubclass(Animal, Dog))"
   ]
  },
  {
   "cell_type": "markdown",
   "id": "8c424314-31e3-4ec9-b09d-ab05ed6e1690",
   "metadata": {},
   "source": [
    "Significance in Polymorphism:\n",
    "    \n",
    "* Ensuring Compatibility:\n",
    "    \n",
    "    * These functions allow checking if an object or class hierarchy aligns with the expected structure required for polymorphic behavior.\n",
    "    \n",
    "* Facilitating Conditionals:\n",
    "    \n",
    "    * They enable conditional statements in code to handle different types or classes appropriately, contributing to polymorphism in various scenarios.\n",
    "    \n",
    "* Runtime Type Checking:\n",
    "    \n",
    "    * During runtime, these functions aid in dynamically determining relationships between objects and classes, allowing for flexible polymorphic behavior.\n",
    "    \n",
    "    \n",
    "'isinstance()' and 'issubclass()' functions are fundamental tools for implementing and verifying polymorphism in Python, enabling runtime type checks and ensuring objects and classes adhere to the expected structure for exhibiting polymorphic behavior."
   ]
  },
  {
   "cell_type": "markdown",
   "id": "5e399504-38b6-4cc4-af9f-e006000db119",
   "metadata": {},
   "source": [
    "10. What is the role of the '@abstractmethod' decorator in achieving polymorphism in Python? Provide an example."
   ]
  },
  {
   "cell_type": "markdown",
   "id": "8312435a-bc97-490b-8b4c-cc99a715c238",
   "metadata": {},
   "source": [
    "The '@abstractmethod' decorator, provided by the 'abc' (Abstract Base Classes) module, plays a crucial role in achieving polymorphism by allowing the creation of abstract methods within abstract base classes. Abstract methods are method declarations without implementations, and they must be overridden by concrete subclasses. This mechanism enforces a consistent interface across different subclasses, ensuring that specific methods are implemented in each subclass, contributing to polymorphic behavior.\n",
    "\n",
    "\n",
    "Role of '@abstractmethod':\n",
    "    \n",
    "1. Defining Abstract Methods:\n",
    "    \n",
    "    * The '@abstractmethod' decorator is used to mark a method as abstract within an abstract base class.\n",
    "    \n",
    "    * Abstract methods do not contain any implementation in the base class; they only provide method signatures that must be implemented by subclasses.\n",
    "    \n",
    "2. Enforcing Method Implementation:\n",
    "    \n",
    "    * Subclasses that inherit from an abstract base class containing abstract methods must provide concrete implementations for these abstract methods. This enforces consistency in the class hierarchy and ensures adherence to a common interface.\n",
    "    \n",
    "Example Using '@abstractmethod':"
   ]
  },
  {
   "cell_type": "code",
   "execution_count": 7,
   "id": "3279712b-5a00-4845-8ab3-f773268b9b95",
   "metadata": {},
   "outputs": [
    {
     "name": "stdout",
     "output_type": "stream",
     "text": [
      "Area of Circle: 78.5\n",
      "Area of Rectangle: 24\n"
     ]
    }
   ],
   "source": [
    "from abc import ABC, abstractmethod\n",
    "\n",
    "class Shape(ABC):\n",
    "    @abstractmethod\n",
    "    def calculate_area(self):\n",
    "        pass\n",
    "\n",
    "class Circle(Shape):\n",
    "    def __init__(self, radius):\n",
    "        self.radius = radius\n",
    "\n",
    "    def calculate_area(self):\n",
    "        return 3.14 * self.radius ** 2\n",
    "\n",
    "class Rectangle(Shape):\n",
    "    def __init__(self, length, width):\n",
    "        self.length = length\n",
    "        self.width = width\n",
    "\n",
    "    def calculate_area(self):\n",
    "        return self.length * self.width\n",
    "\n",
    "# Usage demonstrating polymorphic behavior:\n",
    "\n",
    "circle = Circle(5)\n",
    "rectangle = Rectangle(4, 6)\n",
    "\n",
    "shapes = [circle, rectangle]\n",
    "\n",
    "for shape in shapes:\n",
    "    print(f\"Area of {type(shape).__name__}: {shape.calculate_area()}\")\n"
   ]
  },
  {
   "cell_type": "markdown",
   "id": "1c6c6b25-79a3-407d-ad83-0b21c47a4803",
   "metadata": {},
   "source": [
    "11. Create a Python class called 'Shape' with a polymorphic method 'area()' that calculates the area of different shapes (e.g., circle, rectangle, triangle)."
   ]
  },
  {
   "cell_type": "code",
   "execution_count": 3,
   "id": "50ed6d69-a3af-4643-9d85-f1b7d278041a",
   "metadata": {},
   "outputs": [
    {
     "name": "stdout",
     "output_type": "stream",
     "text": [
      "Area of Circle : 201.06192982974676\n",
      "Area of Rectangle : 40\n",
      "Area of Triangle : 24.0\n"
     ]
    }
   ],
   "source": [
    "import math\n",
    "\n",
    "class Shape:\n",
    "    def area(self):\n",
    "        pass\n",
    "    \n",
    "class Circle(Shape):\n",
    "    def __init__(self, radius):\n",
    "        self.radius = radius\n",
    "        \n",
    "    def area(self):\n",
    "        return math.pi * self.radius ** 2\n",
    "    \n",
    "class Rectangle(Shape):\n",
    "    def __init__(self, length, width):\n",
    "        self.length = length\n",
    "        self.width = width\n",
    "        \n",
    "    def area(self):\n",
    "        return self.length * self.width\n",
    "    \n",
    "class Triangle(Shape):\n",
    "    def __init__(self, base, height):\n",
    "        self.base = base\n",
    "        self.height = height\n",
    "        \n",
    "    def area(self):\n",
    "        return 0.5 * self.base * self.height\n",
    "    \n",
    "\n",
    "# Example Usage\n",
    "\n",
    "circle = Circle(8)\n",
    "rectangle = Rectangle(8,5)\n",
    "triangle = Triangle(6,8)\n",
    "\n",
    "shapes = [circle, rectangle, triangle]\n",
    "\n",
    "for shape in shapes:\n",
    "    print(f\"Area of {type(shape).__name__} : {shape.area()}\")"
   ]
  },
  {
   "cell_type": "markdown",
   "id": "b823677e-7074-4ecb-bec0-4ed99bf616c2",
   "metadata": {},
   "source": [
    "12. Discuss the benefits of polymorphism in terms of code reusability and flexibility in Python programs."
   ]
  },
  {
   "cell_type": "markdown",
   "id": "8ea04ebe-f7e2-4105-a7d1-beedfaede94d",
   "metadata": {},
   "source": [
    "Polymorphism in Python offers several significant benefits, primarily in terms of code reusability and flexibility, which are instrumental in creating efficient and maintainable programs:\n",
    "    \n",
    "\n",
    "1. Code Reusability:\n",
    "    \n",
    "    * Interface Standardization: Polymorphism allows mutiple classes to be treated uniformly through a common interface. This enables the use of objects of different classes interchangeably, promoting code reuse by leveraging shared behaviors among disparate classes.\n",
    "    \n",
    "    * Inheritance and Substitutability: By utilizing inheritance and interface, polymorphism allows objects of derived classes to be substituted for objects of their base classes. This facilitates reusing code written for a base class with its derived classes.\n",
    "    \n",
    "2. Flexibility and Extensibility:\n",
    "    \n",
    "    * Dynamic Behavior: Polymorphism enables dynamic behavior during runtime, where the appropriate method or operation is chosen based on the object's actual type. This dynamic binding adds flexibility to the code, allowing it to adapt to different scenarios without altering the existing code structure.\n",
    "    \n",
    "    * Ease of Modifications and Extensions: With polymorphism, new classes can be easily added or existing classes modified without affecting the overall program structure. Subclasses can provide their unique implementations while adhering to a common interface, making the codebase more flexible and extensible.\n",
    "    \n",
    "3. Simplified Implementation:\n",
    "    \n",
    "    * Reduced Complexity: Polymorphism abstracts away complex implementations, allowing developers to interact with objects through a standardized interface. This abstraction simplifies the code, making it more readable and understandable by encapsulating complexities within individual classes.\n",
    "    \n",
    "    * Modularity and Maintenance: Code utilizing polymorphism tends to be more modular, as it encourages breaking down functionalities into smaller, interchangeable complonents. This modularity facilitates easier maintenance and debugging, enhancing the overall maintainability of the codebase.\n",
    "    \n",
    "Example Scenario:\n",
    "    \n",
    "Consider a scenario where different types of vehicles (cars, bicycles, boats) are required to calculate their respective travel times. By implementing a polymorphic 'calculate_travel_time()' method in each vehicle class, one can reuse the same logic to compute travel time for different types of vehicles, enhancing code reusability and flexibility.\n",
    "\n",
    "Summary:\n",
    "    \n",
    "Polymorphism in Python promotes code reusability by allowing different classes to be treated uniformly through a common interface. It brings flexibility to the codebase by enabling dynamic behavior, facilitating ease of modifications, extensions, and simplifying implementations. Ultimately, polymorphism plays a vital role in creating maintainable, modular, and adaptable Python programs by emphasizing standardization and interoperability among diverse classes and objects."
   ]
  },
  {
   "cell_type": "markdown",
   "id": "b7702b03-e2fb-45ef-a656-5fbefeb029b6",
   "metadata": {},
   "source": [
    "13. Explain the use of the 'super()' function in Python polymorphism. How does it help call methods of parent classes?"
   ]
  },
  {
   "cell_type": "markdown",
   "id": "596c3608-afbf-4cb3-901b-474a1f9237a0",
   "metadata": {},
   "source": [
    "The 'super()' function in Python is used to access methods and properties from a superclass (parent class) within a subclass (child class). It provides a way to invoke methods and access attributes of the superclass, enabling better code organization, readability, and maintaining the class hierarchy.\n",
    "\n",
    "Role of 'super()' in Python Polymorphism:\n",
    "    \n",
    "1. Accessing Superclass Methods:\n",
    "    \n",
    "    * 'super()' allows a subclass to call methods of its superclass.\n",
    "    \n",
    "    * It facilitates method overriding and helps avoid hardcoding the superclass name when calling methods from the parent class.\n",
    "    \n",
    "2. Method Resolution Order (MRO):\n",
    "    \n",
    "    * 'super()' utilizes the Method Resolution Order (MRO) to determine the next class in the inhertance hierarchy to search for the method or attribute.\n",
    "    \n",
    "    * It ensures that methods are called in a consistent and predictable order, following the class hierarchy.\n",
    "    \n",
    "\n",
    "Usage of 'super()' for Method Calls:"
   ]
  },
  {
   "cell_type": "code",
   "execution_count": 4,
   "id": "3d5e077c-ffc5-413b-8878-d8f817836022",
   "metadata": {},
   "outputs": [
    {
     "name": "stdout",
     "output_type": "stream",
     "text": [
      "Parent method\n",
      "Child method\n"
     ]
    }
   ],
   "source": [
    "class Parent:\n",
    "    def show(self):\n",
    "        print('Parent method')\n",
    "        \n",
    "class Child(Parent):\n",
    "    def show(self):\n",
    "        super().show()  # Call Parent's show() method using super()\n",
    "        print('Child method')\n",
    "        \n",
    "child_obj = Child()\n",
    "child_obj.show()"
   ]
  },
  {
   "cell_type": "markdown",
   "id": "16518a5e-41ee-4cff-9718-c7e06b74b9a0",
   "metadata": {},
   "source": [
    "14. Create a Python class hierarchy for a banking system with various account types (e.g., savings, checking, credit card) and demonstrate polymorphism by implementing a common 'withdraw()' method."
   ]
  },
  {
   "cell_type": "code",
   "execution_count": 3,
   "id": "9080908d-4b84-4956-ba74-e8a545642e84",
   "metadata": {},
   "outputs": [
    {
     "name": "stdout",
     "output_type": "stream",
     "text": [
      "Account Number: SA001\n",
      "Balance: 1000\n",
      "Withdraw 200 units. Current balance: 800\n",
      "\n",
      "\n",
      "Account Number: CA001\n",
      "Balance: 500\n",
      "Withdrew 200 units. Current balance: 300\n",
      "\n",
      "\n",
      "Account Number: CC001\n",
      "Balance: 200\n",
      "Withdrew 200 units. Current balance: 0\n",
      "\n",
      "\n"
     ]
    }
   ],
   "source": [
    "class Account:\n",
    "    def __init__(self, account_number, balance=0):\n",
    "        self.account_number = account_number\n",
    "        self.balance = balance\n",
    "        \n",
    "    def deposit(self, amount):\n",
    "        self.balance += amount\n",
    "        print(f\"Deposited {amount} units. Current balance: {self.balance}\")\n",
    "        \n",
    "    def withdraw(self, amount):\n",
    "        pass   # This method will be overridden in the subclasses\n",
    "    \n",
    "    def __str__(self):\n",
    "        return f\"Account Number: {self.account_number}\\nBalance: {self.balance}\"\n",
    "    \n",
    "class SavingsAccount(Account):\n",
    "    def __init__(self, account_number, balance=0, interest_rate=0.02):\n",
    "        super().__init__(account_number, balance)\n",
    "        self.interest_rate = interest_rate\n",
    "        \n",
    "    def add_interest(self):\n",
    "        interest_amount = self.balance * self.interest_rate\n",
    "        self.balance += interest_amount\n",
    "        print(f\"Added interest of {interest_amount} units. Current balance: {self.balance}\")\n",
    "        \n",
    "    def withdraw(self, amount):\n",
    "        if self.balance >= amount:\n",
    "            self.balance -= amount\n",
    "            print(f\"Withdraw {amount} units. Current balance: {self.balance}\")\n",
    "            \n",
    "        else:\n",
    "            print(\"Insufficient funds for withdrawal\")\n",
    "            \n",
    "class CheckingAccount(Account):\n",
    "    def __init__(self, account_number, balance=0, overdraft_limit=100):\n",
    "        super().__init__(account_number, balance)\n",
    "        self.overdraft_limit = overdraft_limit\n",
    "\n",
    "    def withdraw(self, amount):\n",
    "        if self.balance + self.overdraft_limit >= amount:\n",
    "            self.balance -= amount\n",
    "            print(f\"Withdrew {amount} units. Current balance: {self.balance}\")\n",
    "\n",
    "        else:\n",
    "            print(\"Exceeds overdraft limit. Withdrawal denied.\")\n",
    "\n",
    "class CreditCardAccount(Account):\n",
    "    def __init__(self, account_number, balance = 0, credit_limit = 1000):\n",
    "        super().__init__(account_number, balance)\n",
    "        self.credit_limit = credit_limit\n",
    "\n",
    "    def withdraw(self, amount):\n",
    "        if self.balance + self.credit_limit >= amount:\n",
    "            self.balance -= amount\n",
    "            print(f\"Withdrew {amount} units. Current balance: {self.balance}\")\n",
    "        else:\n",
    "            print(\"Exceeds credit limit. Withdrawal denied.\")\n",
    "            \n",
    "        \n",
    "# Example usage demonstrating polymorphism\n",
    "\n",
    "savings = SavingsAccount(\"SA001\", 1000, 0.03)\n",
    "checking = CheckingAccount(\"CA001\", 500, 200)\n",
    "credit_card = CreditCardAccount(\"CC001\", 200, 1000)\n",
    "\n",
    "accounts = [savings, checking, credit_card]\n",
    "\n",
    "for account in accounts:\n",
    "    print(account)\n",
    "    account.withdraw(200)\n",
    "    print(\"\\n\")"
   ]
  },
  {
   "cell_type": "markdown",
   "id": "1d6647b7-8cb6-4bf8-a71f-685216f966c9",
   "metadata": {},
   "source": [
    "This code snippet creates instances of different account types and then iterates through a list of these accounts, demonstrating polymorphism by invoking the 'withdraw()' method on each account type. Each account type executes its specific implementation of the 'withdraw()' method based on its defined behavior."
   ]
  },
  {
   "cell_type": "markdown",
   "id": "64b250c2-dba3-4c7a-9ee4-e8be89fc5742",
   "metadata": {},
   "source": [
    "15. Describe the concept of operator overloading in Python and how it relates to polymorphism. Provide examples using operators like '+' and '*'."
   ]
  },
  {
   "cell_type": "markdown",
   "id": "97416f2b-ad96-4579-9309-8c9f50052e09",
   "metadata": {},
   "source": [
    "Operator overloading in Python refers to the ability to define and redefine how operators behave for custome classes. In Python, operators such as '_', '+', '*', '/', '==', etc., have predefined behaviors for built-in types (integers, strings, lists, etc.). However, with operator overloading, you can define these operators' behavior for your custom classes by implementing certain special methods.\n",
    "\n",
    "Polymorphism, on the other hand, is the ability for different classes to be treated as instances of the same class through a common interface. It allows objects of different classes to be used interchangeably if they have a common method or attribute.\n",
    "\n",
    "Operator overloading enables polymorphism by allowing different classes to define the behavior of common operators according to their context and purpose.\n",
    "\n",
    "Let's illustrate this with examples using the '+' and '*' operators:\n",
    "\n",
    "Example using '+' operator:"
   ]
  },
  {
   "cell_type": "code",
   "execution_count": 2,
   "id": "a0e405ff-4988-417a-ae61-36972c5edbe6",
   "metadata": {},
   "outputs": [
    {
     "name": "stdout",
     "output_type": "stream",
     "text": [
      "(7, 9)\n"
     ]
    }
   ],
   "source": [
    "class Vector:\n",
    "    def __init__(self, x, y):\n",
    "        self.x = x\n",
    "        self.y = y\n",
    "        \n",
    "    # Overloading the addition operator '+'\n",
    "    def __add__(self, other):\n",
    "        return Vector(self.x + other.x, self.y + other.y)\n",
    "    \n",
    "    def __str__(self):\n",
    "        return f\"({self.x}, {self.y})\"\n",
    "    \n",
    "# Creating instance of the Vector class\n",
    "v1 = Vector(2,3)\n",
    "v2 = Vector(5,6)\n",
    "\n",
    "# Using the overloaded '+' operator for Vector class\n",
    "result = v1 + v2\n",
    "print(result)"
   ]
  },
  {
   "cell_type": "markdown",
   "id": "b99aed79-a5bd-4fdc-9488-2ff8b2b599ee",
   "metadata": {},
   "source": [
    "In this example, the 'Vector' class overloads the '+' operator by defining the '__add__' method. When 'v1 + v2' is called, it invokes the '__add__' method, allowing us to perform vector addition.\n",
    "\n",
    "Example using '*' operator:"
   ]
  },
  {
   "cell_type": "code",
   "execution_count": 3,
   "id": "28562eb7-6e1e-4da9-acbc-2c16759e97c5",
   "metadata": {},
   "outputs": [
    {
     "name": "stdout",
     "output_type": "stream",
     "text": [
      "[3, 69, 12, 15]\n"
     ]
    }
   ],
   "source": [
    "class CustomList:\n",
    "    def __init__(self, elements):\n",
    "        self.elements = elements\n",
    "        \n",
    "    # Overloading the multiplication operator '*'\n",
    "    \n",
    "    def __mul__(self, factor):\n",
    "        return CustomList([element * factor for element in self.elements])\n",
    "    \n",
    "    def __str__(self):\n",
    "        return str(self.elements)\n",
    "    \n",
    "# Creating an instance of the CustomList class\n",
    "list_obj = CustomList([1,23,4,5])\n",
    "\n",
    "# Using the overloaded '*' operator for CustomList class\n",
    "result_list = list_obj * 3\n",
    "print(result_list) "
   ]
  },
  {
   "cell_type": "markdown",
   "id": "e0105cf8-f0ab-4c7c-a88e-6112ccb2d6f1",
   "metadata": {},
   "source": [
    "In this case, the 'CustomList' class overloads the '*' operator by defining the '__mul__' method. When 'list_obj * 3' is called, it invokes the '__mul__' method, allowing us to multply each element of the list by the specified factor.\n",
    "\n",
    "\n",
    "These examples demonstrate how operator overloading allows custom classes to define their behavior for operators such as '+' and '*', enabling polymorphism by providing a common interface fr different classes to interfact with these operators based on their specific context and requirements."
   ]
  },
  {
   "cell_type": "markdown",
   "id": "dc37e1b5-abc6-40d5-ab86-608cdb86f2e5",
   "metadata": {},
   "source": [
    "16. What is dynamic polymorphism, and how is it achieved in Python?"
   ]
  },
  {
   "cell_type": "markdown",
   "id": "8234bae9-1a0a-45bc-bfd2-770df504966c",
   "metadata": {},
   "source": [
    "Dynamic polymorphism, also known as runtime polymorphism, is a concept in object-oriented programming where a function or method can behave differently based on the object it is operating on. This allows different classes to be treated as instances of the same class through a common interface.\n",
    "\n",
    "In Python, dynamic polymorphism is achieved through method overriding and method overloading.\n",
    "\n",
    "Method Overriding:\n",
    "    \n",
    "Method overriding occurs when a subclass provides a specific implementation of method that is already defined in its superclass. When a method is invoked on an object of the subclass, Python looks for the method in the subclass first; it it's not found, it traverses up the class hierarchy until it finds the method."
   ]
  },
  {
   "cell_type": "code",
   "execution_count": 5,
   "id": "56c97041-ff39-4eb2-9dd0-31be741a093f",
   "metadata": {},
   "outputs": [
    {
     "name": "stdout",
     "output_type": "stream",
     "text": [
      "Bark!\n",
      "Meow!\n"
     ]
    }
   ],
   "source": [
    "class Animal:\n",
    "    def make_sound(self):\n",
    "        print(\"Sme generic sund\")\n",
    "        \n",
    "class Dog(Animal):\n",
    "    def make_sound(self):\n",
    "        print(\"Bark!\")\n",
    "        \n",
    "class Cat(Animal):\n",
    "    def make_sound(self):\n",
    "        print(\"Meow!\")\n",
    "        \n",
    "# Using dynamic polymorphism\n",
    "dog = Dog()\n",
    "cat = Cat()\n",
    "\n",
    "dog.make_sound()\n",
    "cat.make_sound()"
   ]
  },
  {
   "cell_type": "markdown",
   "id": "498038aa-2a07-4783-982e-77c4b51a8866",
   "metadata": {},
   "source": [
    "In this example, 'make_sound()' is overridden in the 'Dog' and 'Cat' subclasses, providing specific implementations. When 'make_sound()' is called on a 'Dog' or 'Cat' object, the respective overridden method is executed.\n"
   ]
  },
  {
   "cell_type": "markdown",
   "id": "b9e93688-e937-444d-a212-6f87ecc35ce5",
   "metadata": {},
   "source": [
    "Method Overloading:\n",
    "    \n",
    "Python does not support method overloading by default (as in some other programming languages like Java or C__), where multple methods with the same name but different parameters can exist within a class. However, Python achieves a form of method overloading through default arguments and variable-length arguments ('*args' and '**kwargs')."
   ]
  },
  {
   "cell_type": "code",
   "execution_count": 7,
   "id": "d21c77d1-07c6-46fa-a9ba-260abfd330e3",
   "metadata": {},
   "outputs": [
    {
     "name": "stdout",
     "output_type": "stream",
     "text": [
      "6\n",
      "5\n"
     ]
    }
   ],
   "source": [
    "class MathOperations:\n",
    "    def add(self, a, b=0):\n",
    "        return a + b\n",
    "    \n",
    "# Using dynamic polymorphism with method overloading\n",
    "math = MathOperations()\n",
    "\n",
    "print(math.add(2,4))\n",
    "print(math.add(5))"
   ]
  },
  {
   "cell_type": "markdown",
   "id": "31ab211e-ad47-443c-8cd3-f1a6b23f5f3c",
   "metadata": {},
   "source": [
    "In this example, the 'add()' method in the 'MathOperations' class demonstrates a form of method overloading using a default argument. It allows the method to be called with one or two arguments, providing different behaviors based on the number of arguments passed.\n",
    "\n",
    "\n",
    "Dynamic polymorphism in Python enables flexibility in method execution, allowing different implementations f methods based on the specific context of the objects involved, enhancing code reusability and flexibility."
   ]
  },
  {
   "cell_type": "markdown",
   "id": "12d0af21-ae47-43d5-9258-c397a982c5fa",
   "metadata": {},
   "source": [
    "17. Create a Python class hierarchy for employees in a company (e.g., manager, developer, designer) and implement polymorphism throuugh a common 'calculate_salary()' method."
   ]
  },
  {
   "cell_type": "code",
   "execution_count": 13,
   "id": "3ef2e0ab-7877-4854-a0de-fe0f7a669e7b",
   "metadata": {},
   "outputs": [
    {
     "name": "stdout",
     "output_type": "stream",
     "text": [
      "Manager: Alice - Salary: 80000\n",
      "Developer: Bob - Salary: 8000\n",
      "Designer: Charlie - Salary: 7000\n"
     ]
    }
   ],
   "source": [
    "class Employee:\n",
    "    def __init__(self, name, role):\n",
    "        self.name = name\n",
    "        self.role = role\n",
    "        \n",
    "    def calculate_salary(self):\n",
    "        pass     # This method will be overridden in the subclasses\n",
    "    \n",
    "    def __str__(self):\n",
    "        return f\"{self.role}: {self.name}\"\n",
    "    \n",
    "    \n",
    "class Manager(Employee):\n",
    "    def __init__(self, name, salary):\n",
    "        super().__init__(name, \"Manager\")\n",
    "        self.salary = salary\n",
    "        \n",
    "    def calculate_salary(self):\n",
    "        return self.salary\n",
    "    \n",
    "class Developer(Employee):\n",
    "    def __init__(self, name, hourly_rate, hours_worked):\n",
    "        super().__init__(name, \"Developer\")\n",
    "        self.hourly_rate = hourly_rate\n",
    "        self.hours_worked = hours_worked\n",
    "        \n",
    "    def calculate_salary(self):\n",
    "        return self.hourly_rate * self.hours_worked\n",
    "    \n",
    "class Designer(Employee):\n",
    "    def __init__(self, name, monthly_salary, bonus):\n",
    "        super().__init__(name, \"Designer\")\n",
    "        self.monthly_salary = monthly_salary\n",
    "        self.bonus = bonus\n",
    "        \n",
    "    def calculate_salary(self):\n",
    "        return self.monthly_salary + self.bonus\n",
    "    \n",
    "# Creating instances of different employee types\n",
    "manager = Manager('Alice', 80000)\n",
    "developer = Developer('Bob', 50, 160)\n",
    "designer = Designer('Charlie', 6000, 1000)\n",
    "\n",
    "# Using the calculate_salary() method for each employee type \n",
    "employees = [manager, developer, designer]\n",
    "\n",
    "for emp in employees:\n",
    "    print(f\"{emp} - Salary: {emp.calculate_salary()}\")"
   ]
  },
  {
   "cell_type": "markdown",
   "id": "a36a3bba-b871-4993-b533-aeab592d77fe",
   "metadata": {},
   "source": [
    "When you run this code, it will iterate throuugh the list of employees, calling the 'calculate_salary()' method on each employee object. Each subclass's specific implementation of 'calculate_salary()' will be invoked based on the type of employee, demonstrating polymonrphism by providing different salary calculations for managers, developers, and designers."
   ]
  },
  {
   "cell_type": "markdown",
   "id": "6364b40c-5677-4160-966e-fab9bb6adb5a",
   "metadata": {},
   "source": [
    "18. Discuss the concept of function pointers and how they can be used to achieve polymorphism in Python."
   ]
  },
  {
   "cell_type": "markdown",
   "id": "765e4a90-a9d9-479c-90af-7f4542131e44",
   "metadata": {},
   "source": [
    "In Python, the concept of function pointers is not explicitly available as it is in some other programming languages like C or C++. However, Python does have first-class functions, which can be used to achieve similar functionality and facilitate polymorphism.\n",
    "\n",
    "\n",
    "First-Class Functions in Python:\n",
    "    \n",
    "In Python, functions are treated as first-class citizens, meaning they can be:\n",
    "    \n",
    "1. Assigned to variables\n",
    "2. Passed as arguments to other functions\n",
    "3. Returned from other functions\n",
    "4. Stored in data structures\n",
    "\n",
    "\n",
    "This flexibility enables the use of functions as arguments to achieve polymorphic behavior.\n",
    "\n",
    "Achieving Polymorphism using First-Class Functions:\n",
    "    \n",
    "Polymorphism in Python can be accomplished by accepting functions as arguments and invoking them within another function. By passing different functions to a common function, you can achieve different behaviors based on the function passed.\n",
    "\n",
    "For example, consider a simple calculator function that performs arithmetic operations:"
   ]
  },
  {
   "cell_type": "code",
   "execution_count": 15,
   "id": "63a74d1a-fa97-4fe5-a857-f2ca3b4dcc17",
   "metadata": {},
   "outputs": [
    {
     "name": "stdout",
     "output_type": "stream",
     "text": [
      "9\n",
      "0\n",
      "18\n"
     ]
    }
   ],
   "source": [
    "def add(a, b):\n",
    "    return a + b\n",
    "\n",
    "def subtract(a, b):\n",
    "    return a - b\n",
    "\n",
    "def multiply(a, b):\n",
    "    return a * b\n",
    "\n",
    "def calculator(operation, a, b):\n",
    "    return operation(a,b)\n",
    "\n",
    "# Using the calculator function with different operations\n",
    "result1 = calculator(add, 5, 4)\n",
    "result2 = calculator(subtract, 6, 6)\n",
    "result3 = calculator(multiply, 2, 9)\n",
    "\n",
    "print(result1)\n",
    "print(result2)\n",
    "print(result3)"
   ]
  },
  {
   "cell_type": "markdown",
   "id": "d738d2f2-400e-49fc-8f54-42e4b204c152",
   "metadata": {},
   "source": [
    "In this example, 'calculator()' is a function that accepts another function ('operation') as an argument along with two operands ('a' and 'b'). It then invokes the passed function ('operation') to perform the desired arithmetic operation. By passing different operation functions ('add', 'subtract', 'multiply'), the 'calculator()' function exhibits polymorphic behavior, performing different operations based on the function provided.\n",
    "\n",
    "\n",
    "While not directly termed as function pointers, the ability to pass functions as arguments and invoke them dynamically enables polymorphism in Python, allowing different behaviors to be achieved throuugh the use of different functions."
   ]
  },
  {
   "cell_type": "markdown",
   "id": "0acb2948-69f3-4545-b570-92d102b7d81c",
   "metadata": {},
   "source": [
    "19. Explain the role of interfaces and abstract classes in polymorphism, drawing comparisons between them."
   ]
  },
  {
   "cell_type": "markdown",
   "id": "b6fd03be-bd12-49fc-b1e8-1b8835c50e96",
   "metadata": {},
   "source": [
    "In Python, both interfaces and abstract classes play a role in achieving polymorphism by providing ways to define common behavior and ensure that different classes adhere to certain rules or structures. However, in Python, the distinction between interfaces and abstract classes is not as explicit as in some other languages like Java or C#. Still we can create similar structures using Python's features.\n",
    "\n",
    "\n",
    "Abstract Classes in Python:\n",
    "    \n",
    "* Role: Abstract classes in Python serve as a blueprint for other classes. They can have both implemented and unimplemented methods, where unimplemented methods are declared as abstract using the '@abstractmethod' decorator from the 'abc' module.\n",
    "\n",
    "* Usage: Abstract classes cannot be instantiated on their own, and they are meant to be subclassed. Subclasses must provide implementations for all the abstract methods defined in the abstract class.\n",
    "\n",
    "* Example:"
   ]
  },
  {
   "cell_type": "code",
   "execution_count": 2,
   "id": "8fb19ec9-26ea-4734-8241-0d6a0d02b783",
   "metadata": {},
   "outputs": [
    {
     "name": "stdout",
     "output_type": "stream",
     "text": [
      "Drawing a circle\n"
     ]
    }
   ],
   "source": [
    "from abc import ABC, abstractmethod\n",
    "\n",
    "class Shape(ABC):\n",
    "    @abstractmethod\n",
    "    def draw(self):\n",
    "        pass\n",
    "    \n",
    "class Circle(Shape):\n",
    "    def draw(self):\n",
    "        # Implementation for drawing a circle\n",
    "        print(\"Drawing a circle\")\n",
    "        \n",
    "obj=Circle()\n",
    "obj.draw()"
   ]
  },
  {
   "cell_type": "markdown",
   "id": "e3cdb1b8-555b-431c-8701-90ac2823902c",
   "metadata": {},
   "source": [
    "Interfaces in Python (using Abstract Base Classes):\n",
    "    \n",
    "    \n",
    "* Role: Interfaces in Python can be simulated using abstract base classes (ABCs) from the 'abc' module. They define a set of methods that must be implemented by classes that inherit from them.\n",
    "\n",
    "* Usage: Similar to abstract classes interfaces in Python use abstract methods to define a contract that other classes must follow. However, they only contain method signatures without implementations.\n",
    "\n",
    "* Example:"
   ]
  },
  {
   "cell_type": "code",
   "execution_count": 3,
   "id": "ac3f41e6-86c9-48ef-ada8-86d484fd34b3",
   "metadata": {},
   "outputs": [],
   "source": [
    "from abc import ABC, abstractmethod\n",
    "\n",
    "class Shape(ABC):\n",
    "    @abstractmethod\n",
    "    def draw(self):\n",
    "        pass"
   ]
  },
  {
   "cell_type": "markdown",
   "id": "ceb24afa-829d-46c2-ac79-d5abc3886cba",
   "metadata": {},
   "source": [
    "Comparisons:\n",
    "    \n",
    "1. Multiple Inheritance:\n",
    "    \n",
    "    * In Python, both abstract classes and interfaces can be inherited by multiple classes, allowing for multiple inheritance.\n",
    "    \n",
    "2. Method Implementation:\n",
    "    \n",
    "    * Abstract classes can have both implemented and unimplemented methods, while interfaces contain only method signatures without implementations.\n",
    "    \n",
    "3. Instantiation:\n",
    "    \n",
    "    * Abstract classes cannot be instantiated directly, but they can be subclassed. Interfaces in Python (simulated using ABCs) cannot be instantiated either; they are meant to be inherited by classes that provide implementations for their methods.\n",
    "    \n",
    "4. Purpose:\n",
    "    \n",
    "    * Abstract classes provide a partial implementation and define methods that must be overridden by subclasses.\n",
    "    \n",
    "    * Interfaces define a contract for classes to follw, ensuring that specific methods are implemented, but they do not contain any implementation details.\n",
    "    \n",
    "    \n",
    "Both abstract classes and interfaces in Python contribute to achieving polymorphism by providing structures for defining common behavior and ensuring that different classes can be treated uniformly based on the methods they implement or inherit. They enhance code reusability and flexibility by allowing different implementations to be used interchangeably through a common interface."
   ]
  },
  {
   "cell_type": "markdown",
   "id": "2d90d7eb-bafa-4cf8-8045-d3b1713b542b",
   "metadata": {},
   "source": [
    "20. Create a Python class for a zoo simulation, demonstrating polymorphism with different animal types (e.g., mammals, birds, reptiles) and their behavior (e.g., eating, sleeping, making sounds.)."
   ]
  },
  {
   "cell_type": "code",
   "execution_count": 6,
   "id": "8db57eea-ba26-4287-af4a-2741878f7100",
   "metadata": {},
   "outputs": [
    {
     "name": "stdout",
     "output_type": "stream",
     "text": [
      "Lion: Mammal sound!\n",
      "Lion: Mammal eats food.\n",
      "Lion: Mammal sleeps.\n",
      "Parrot: Bird sound!\n",
      "Parrot: Bird eats seeds.\n",
      "Parrot: Bird sleeps on a branch\n",
      "Snake: Reptile sound!\n",
      "Snake: Reptile eats insects.\n",
      "Snake: Reptile rests under a heat lamp.\n"
     ]
    }
   ],
   "source": [
    "class Animal:\n",
    "    def __init__(self, name):\n",
    "        self.name=name\n",
    "        \n",
    "    def make_sound(self):\n",
    "        pass\n",
    "    \n",
    "    def eat(self):\n",
    "        pass\n",
    "    \n",
    "    def sleep(self):\n",
    "        pass\n",
    "    \n",
    "class Mammal(Animal):\n",
    "    def make_sound(self):\n",
    "        return \"Mammal sound!\"\n",
    "    \n",
    "    def eat(self):\n",
    "        return \"Mammal eats food.\"\n",
    "    \n",
    "    def sleep(self):\n",
    "        return \"Mammal sleeps.\"\n",
    "    \n",
    "class Bird(Animal):\n",
    "    def make_sound(self):\n",
    "        return \"Bird sound!\"\n",
    "    \n",
    "    def eat(self):\n",
    "        return \"Bird eats seeds.\"\n",
    "    \n",
    "    def sleep(self):\n",
    "        return \"Bird sleeps on a branch\"\n",
    "    \n",
    "class Reptile(Animal):\n",
    "    def make_sound(self):\n",
    "        return \"Reptile sound!\"\n",
    "    \n",
    "    def eat(self):\n",
    "        return \"Reptile eats insects.\"\n",
    "    \n",
    "    def sleep(self):\n",
    "        return \"Reptile rests under a heat lamp.\"\n",
    "    \n",
    "    \n",
    "# Example usage:\n",
    "\n",
    "lion=Mammal(\"Lion\")\n",
    "parrot = Bird(\"Parrot\")\n",
    "snake=Reptile(\"Snake\")\n",
    "\n",
    "print(lion.name + \": \" + lion.make_sound())\n",
    "print(lion.name + \": \" + lion.eat())\n",
    "print(lion.name + \": \" + lion.sleep())\n",
    "\n",
    "\n",
    "print(parrot.name+ \": \" + parrot.make_sound())\n",
    "print(parrot.name+ \": \" + parrot.eat())\n",
    "print(parrot.name+ \": \" + parrot.sleep())\n",
    "\n",
    "\n",
    "print(snake.name + \": \" + snake.make_sound())\n",
    "print(snake.name + \": \"+ snake.eat())\n",
    "print(snake.name + \": \" + snake.sleep())"
   ]
  },
  {
   "cell_type": "markdown",
   "id": "04eb1ba7-68e5-4632-a044-cd08200b77c0",
   "metadata": {},
   "source": [
    "## Abstraction:"
   ]
  },
  {
   "cell_type": "markdown",
   "id": "91f7d82d-551c-4eef-bb62-4f68237d3641",
   "metadata": {},
   "source": [
    "1. What is abstraction in Python, and how does it relate to object-oriented programming>"
   ]
  },
  {
   "cell_type": "markdown",
   "id": "4d5aa042-fff0-4553-ba62-67af645a4e99",
   "metadata": {},
   "source": [
    "Abstraction in Python, especially in the context of object-oriented programming (OOP), involves simplifying complex reality by modeling classes appropriate to the problem and only exposing essential features while hiding unnecessary details from the user. It allows you to focus on what an object does rather than how it does it.\n",
    "\n",
    "In OOP, abstraction is achieved through abstract classes and interfaces. Abstract classes are classes that cannot be instantiated on their own and often contain abstract methods (methods without implementation). They serve as a blueprint for other classes that inherit from them, providing a structure for those subclasses to implement their own specific behaviors.\n",
    "\n",
    "Interfaces, although Python doesn't have a built-in interface construct like some other languages, are similar to abstract classes in that they define a set of methods that must be implemented by classes that inherit from them. They declare the methods a class should have without specifying the implementation.\n",
    "\n",
    "Abstraction allows developers to create a hierarchy of classes that inherit common attributes and behaviors from a base class while allowing each subclass to implement its unique features. This makes the code more modular, maintainable, and easier to understand.\n",
    "\n",
    "For example, consider an abstract class 'Shape':"
   ]
  },
  {
   "cell_type": "code",
   "execution_count": 7,
   "id": "e589f0c3-596e-482b-a636-632830e11d02",
   "metadata": {},
   "outputs": [],
   "source": [
    "from abc import ABC, abstractmethod\n",
    "\n",
    "class Shape(ABC):\n",
    "    @abstractmethod\n",
    "    def area(self):\n",
    "        pass\n",
    "    \n",
    "    @abstractmethod\n",
    "    def parimeter(self):\n",
    "        pass"
   ]
  },
  {
   "cell_type": "markdown",
   "id": "e7be5419-9aee-48e6-a5a4-cf97f0b5b368",
   "metadata": {},
   "source": [
    "2. Describe the benefits of abstraction in terms of code organization and complexity reduction."
   ]
  },
  {
   "cell_type": "markdown",
   "id": "7d1e8c72-7025-43e5-b5d5-c5bbbb9de4d9",
   "metadata": {},
   "source": [
    "Abstraction offers several benefits in terms of code organization and complexity reduction:\n",
    "    \n",
    "1. Hiding Complexity: Abstraction allows developers to hide complex implementation details behind simpler interfaces. Users interacting with an abstracted class don't need to understand the intricate workings of its methods or attributes; they can focus on using the provided functionality.\n",
    "\n",
    "2. Modularity: Abstracting common functionalities into a base class or interface promotes modularity. It allows for the creation of a clear hierarchy where changes or updates in the base class propagate to its subclasses. This ensures consistency in behavior and reduces redundant code.\n",
    "\n",
    "3. Ease of Maintenance: By abstracting common functionalities and defining clear interfaces, maintenance becomes easier. Modifications or improvements can be made at the abstract level, affecting all subclasses, thus reducing the need for changes in multiple places.\n",
    "\n",
    "4. Scalability and Reusability: Abstraction promotes code reuse. Once an abstract class or interface is defined, it can be inherited by multiple subclasses, saving time and effort in coding. This scalability and reuse of code contribute to cleaner, more efficient,and less error-prone development.\n",
    "\n",
    "5. Enhanced Readability: Abstracting away complex details results in more readable and understandable code. Users can focus on high-level functionality without getting bogged down by low-level implementation specifics, making the codebase more comprehensible.\n",
    "\n",
    "6. Encapsulation: Abstraction often goes hand-in-hand with encapsulation, another OOP principle. Encapsulation restricts direct access to some components, emphasizing the interaction with an object through its well-defined interfaces. This prevents unintended modification and helps maintain the integrity of the code.\n",
    "\n",
    "Overall, abstraction improves code organization by structuring complex system into manageable parts, reduces code duplication, promotes reusability, and enhances maintainability and scalability all contributing to more robust and understandable software systems."
   ]
  },
  {
   "cell_type": "markdown",
   "id": "a41878fe-0618-4813-bc81-b11a459f5401",
   "metadata": {},
   "source": [
    "3. Create a Python class called \"Shape' with an abstract method 'calculate_area()'. Then, create child classes (e.g., 'Circle', 'Rectangle') that implement the 'calculate_area()' method. Provide an example of using these classes."
   ]
  },
  {
   "cell_type": "code",
   "execution_count": 1,
   "id": "3fcf3749-90cf-4abf-8fe9-b088c1a096ab",
   "metadata": {},
   "outputs": [
    {
     "name": "stdout",
     "output_type": "stream",
     "text": [
      "Circle Area: 78.53981633974483\n",
      "Rectangle Area: 24\n"
     ]
    }
   ],
   "source": [
    "from abc import ABC, abstractmethod\n",
    "import math\n",
    "\n",
    "class Shape(ABC):\n",
    "    @abstractmethod\n",
    "    def calculate_area(self):\n",
    "        pass\n",
    "    \n",
    "class Circle(Shape):\n",
    "    def __init__(self, radius):\n",
    "        self.radius = radius\n",
    "        \n",
    "    def calculate_area(self):\n",
    "        return math.pi * self.radius**2\n",
    "    \n",
    "class Rectangle(Shape):\n",
    "    def __init__(self, length, width):\n",
    "        self.length = length\n",
    "        self.width = width\n",
    "        \n",
    "    def calculate_area(self):\n",
    "        return self.length * self.width\n",
    "    \n",
    "# Example usage:\n",
    "\n",
    "circle = Circle(5)\n",
    "rectangle = Rectangle(4,6)\n",
    "\n",
    "\n",
    "print(\"Circle Area:\", circle.calculate_area()) \n",
    "print(\"Rectangle Area:\", rectangle.calculate_area())"
   ]
  },
  {
   "cell_type": "markdown",
   "id": "565415ea-9ca7-4eba-abb0-1fb9ef41c2b5",
   "metadata": {},
   "source": [
    "4. Explain the concept of abstract classes in Python and how they are defined using the 'abc' module. Provide an example."
   ]
  },
  {
   "cell_type": "markdown",
   "id": "ce68eb9e-199b-4cd0-900c-cb7c038a0c82",
   "metadata": {},
   "source": [
    "In Python, abstract classes serve as a blueprint for other classes but cannot be instantiated themselves. They may contain one or more abstract methods, which are defined but not implemented in the abstract class. Subclasses that inherit from an abstract class must implement these abstract methods, providing concrete implementations.\n",
    "\n",
    "The 'abc' module (Abstract Base Classes) in Python provides tools for defining abstract base classes. It allows you to create abstract methods and enforce their implementation in derived classes.\n",
    "\n",
    "Here's an example demonstrating the use of the 'abc' module and abstract classes:"
   ]
  },
  {
   "cell_type": "code",
   "execution_count": 1,
   "id": "1aac3a0d-05c0-47a2-8e38-0fad84d0822b",
   "metadata": {},
   "outputs": [
    {
     "name": "stdout",
     "output_type": "stream",
     "text": [
      "Circle Area: 78.5\n",
      "Rectangle Area: 24\n"
     ]
    }
   ],
   "source": [
    "from abc import ABC, abstractmethod\n",
    "\n",
    "class Shape(ABC):\n",
    "    @abstractmethod\n",
    "    def calculate_area(self):\n",
    "        pass\n",
    "    \n",
    "class Circle(Shape):\n",
    "    def __init__(self, radius):\n",
    "        self.radius = radius\n",
    "        \n",
    "    def calculate_area(self):\n",
    "        return 3.14 * self.radius**2 # concrete implementation of calculate_area for circle\n",
    "    \n",
    "class Rectangle(Shape):\n",
    "    def __init__(self, length, width):\n",
    "        self.length = length\n",
    "        self.width = width\n",
    "        \n",
    "    def calculate_area(self):\n",
    "        return self.length * self.width # concrete implementation of calculate_area for rectangle\n",
    "    \n",
    "    \n",
    "# Attempting to instantiate shape will raise an error due to its abstract nature\n",
    "# shape = Shape() # This line will raise an error\n",
    "\n",
    "# Creating instances of concrete subclasses\n",
    "circle=Circle(5)\n",
    "rectangle = Rectangle(4,6)\n",
    "print(\"Circle Area:\", circle.calculate_area()) \n",
    "print(\"Rectangle Area:\", rectangle.calculate_area())"
   ]
  },
  {
   "cell_type": "markdown",
   "id": "670f9377-5143-4b04-94e8-1ef1cf7fd639",
   "metadata": {},
   "source": [
    "5. How do abstract classes differ from regular classes in Python? Discuss their use cases."
   ]
  },
  {
   "cell_type": "markdown",
   "id": "e77584df-0141-46ef-8839-856deb5d1dc9",
   "metadata": {},
   "source": [
    "Abstract classes and regular classes in Python differ primarily in their purpose, behavior, and usage:\n",
    "    \n",
    "Abstract Classes:\n",
    "    \n",
    "1. Cannot be Instantiated: Abstract classes cannot be instantiated directly. They serve as templates or blueprints for other classes. Attempting to create an instance of an abstract class will raise an error.\n",
    "\n",
    "2. Contain Abstract Methods: Abstract classes often include one or more abstract methods, marked with the '@abstractmethod' decorator from the 'abc' module. These methods are declared but not implemented in the abstract class itself.\n",
    "\n",
    "3. Enforce Method Implementation: Subclasses that inherit from an abstract class must implement all its abstract methods, providing concrete implementations. If a subclass fails to implement any abstract method, it will result in an error when attempting to instantiate the subclass.\n",
    "\n",
    "4. Used for Polymorphism and Structure: Abstract classes are beneficial for defining a common interface and structure for a group of subclasses. They facilitate polymorphism, allowing different classes to be treated uniformly based on a shared interface.\n",
    "\n",
    "\n",
    "Regular Classes:\n",
    "    \n",
    "1. Can be Instantiated: Regular classes can be instantiated directly, creating objects that can access their attributes and methods.\n",
    "\n",
    "2. May or May Not Have Abstract Methods: Regular classes may or may not contain abstract methods. They can provide concrete implementations for all methods or leave some methods unimplemented, in which case they behave like regular methods waiting for implementation.\n",
    "\n",
    "3. Not Restricted in Instantiation: They can be instantiated without the need to implement specific methods unless these methods are explicitly marked as abstract in the superclass.\n",
    "\n",
    "\n",
    "Use Cases:\n",
    "    \n",
    "* Abstract Classes: Use abstract classes when you want to define a common interface or behavior that subclasses should adhere to. For intance, in graphical shapes, you might have an abstract class 'Shape' with abstract methods like 'calculate_are()' and 'draw()' that various shapes (circles, rectangles, triangles) must implement.\n",
    "\n",
    "* Regular Classes: Regular classes are used when you need concrete implementations and want to create objects directly. For instance, a 'Circle' class might inherit from the 'Shape' abstract class but provide its concrete implementation of 'calculate_area()' specific to circles.\n",
    "\n",
    "In summary, abstract classes provide a way to define a structure and enforce behavior for subclasses, while regular classes are used for creating objects directly and may or may not have abstract methods or unimplemented behavior."
   ]
  },
  {
   "cell_type": "markdown",
   "id": "f585d14a-fca7-466a-ae3e-9d596690639e",
   "metadata": {},
   "source": [
    "6. Create a Python class for a bank account and demonstrate abstraction by hiding the account balance and providing methods to deposit and withdraw funds."
   ]
  },
  {
   "cell_type": "code",
   "execution_count": 2,
   "id": "417283f6-dd7e-47fb-8fb3-004cb573bb84",
   "metadata": {},
   "outputs": [
    {
     "name": "stdout",
     "output_type": "stream",
     "text": [
      "Account Number: 123345557, Account Holder: John Doe\n",
      "Deposited 1000\n",
      "Current BAlance: 1000\n",
      "Withdraw 500\n",
      "Current Balance: 500\n"
     ]
    }
   ],
   "source": [
    "class BankAccount:\n",
    "    def __init__(self, account_number, account_holder):\n",
    "        self._account_number = account_number\n",
    "        self._account_holder = account_holder\n",
    "        self._balance = 0 # Initialize balance as 0\n",
    "        \n",
    "    def deposit(self, amount):\n",
    "        if amount>0:\n",
    "            self._balance += amount\n",
    "            print(f\"Deposited {amount}\")\n",
    "        else:\n",
    "            print(\"Deposit amount should be greater than 0.\")\n",
    "            \n",
    "    def withdraw(self, amount):\n",
    "        if 0 < amount <=self._balance:\n",
    "            self._balance-=amount\n",
    "            print(f\"Withdraw {amount}\")\n",
    "            \n",
    "        else:\n",
    "            print(\"Insufficient funds or invalid amount for withdrawal.\")\n",
    "            \n",
    "    def get_balance(self):\n",
    "        return self._balance\n",
    "    \n",
    "    def get_account_info(self):\n",
    "        return f\"Account Number: {self._account_number}, Account Holder: {self._account_holder}\"\n",
    "    \n",
    "    \n",
    "# Example usage:\n",
    "account=BankAccount(\"123345557\", \"John Doe\")\n",
    "print(account.get_account_info())  # Output account information\n",
    "\n",
    "account.deposit(1000) \n",
    "print(f\"Current BAlance: {account.get_balance()}\")\n",
    "\n",
    "account.withdraw(500)\n",
    "print(f\"Current Balance: {account.get_balance()}\")"
   ]
  },
  {
   "cell_type": "markdown",
   "id": "6fbf9af6-16f1-4b1b-b7f1-21adcc20fd0f",
   "metadata": {},
   "source": [
    "7. Discuss the concept of interface classes in Python and their role in achieving abstraction."
   ]
  },
  {
   "cell_type": "markdown",
   "id": "fd206478-53db-4c0f-9f72-34109d3e5267",
   "metadata": {},
   "source": [
    "In Python, interface classes are used to define a blueprint for methods that must be implemented by classes that utilize the interface. They act as a contract, specifying a set of methods that a class implementing the interface must provide. The goal of interface classes is to enforce a structure or behavior across multiple classes without specifying the implementation details.\n",
    "\n",
    "Python doesn't have a native implementation of interfaces like some other programming languages (e.g., Java), but the concept can be achieved using abstract base classes (ABCs) from the 'abc' module. This module provides the 'ABC' class and the 'abstractmethod' decorator, allowing developers to define abstract methods that must be implemented by subclasses.\n",
    "\n",
    "Here's an example demonstrating the usage of an interface-like structure using ABCs in Python:"
   ]
  },
  {
   "cell_type": "code",
   "execution_count": 5,
   "id": "eb27dc06-e5a6-42be-8674-d6569053a92d",
   "metadata": {},
   "outputs": [
    {
     "name": "stdout",
     "output_type": "stream",
     "text": [
      "Processing payment of 100 via Paypal.\n",
      "Processing payment of 150 via Stripe.\n",
      "Refunding payment for transaction ID: ABC123 via PayPal.\n",
      "Refunding payment for transaction ID: XYZ787 via Stripe.\n"
     ]
    }
   ],
   "source": [
    "from abc import ABC, abstractmethod\n",
    "\n",
    "class PaymentGateway(ABC):\n",
    "    @abstractmethod\n",
    "    def process_payment(self, amount):\n",
    "        pass\n",
    "    \n",
    "    @abstractmethod\n",
    "    def refund_payment(sellf, transaction_id):\n",
    "        pass\n",
    "    \n",
    "# Emplementing a class using the PaymentGateway interface\n",
    "class PayPalPayment(PaymentGateway):\n",
    "    def process_payment(self, amount):\n",
    "        # Implementation of processing payment via Paypal\n",
    "        print(f\"Processing payment of {amount} via Paypal.\")\n",
    "        \n",
    "    def refund_payment(self, transaction_id):\n",
    "        # Implementation of refunding payment via PayPal\n",
    "        print(f\"Refunding payment for transaction ID: {transaction_id} via PayPal.\")\n",
    "        \n",
    "# Implementing another class using the PaymentGateway interface\n",
    "class StripePayment(PaymentGateway):\n",
    "    def process_payment(self, amount):\n",
    "        # Implementation of processing payment via Stripe\n",
    "        print(f\"Processing payment of {amount} via Stripe.\")\n",
    "        \n",
    "    def refund_payment(self, transaction_id):\n",
    "        # Implementation of refunding payment via Stripe\n",
    "        print(f\"Refunding payment for transaction ID: {transaction_id} via Stripe.\")\n",
    "        \n",
    "# Using the PaymentGateway interface\n",
    "paypal = PayPalPayment()\n",
    "stripe = StripePayment()\n",
    "\n",
    "paypal.process_payment(100) \n",
    "stripe.process_payment(150)\n",
    "paypal.refund_payment(\"ABC123\")\n",
    "stripe.refund_payment(\"XYZ787\")"
   ]
  },
  {
   "cell_type": "markdown",
   "id": "f4ba72fd-c9c6-41c7-88f0-acda6fa46198",
   "metadata": {},
   "source": [
    "8. Create a Python class hierarchy for animals and implement abstraction by defining common methods (e.g., 'eat()', 'sleep()') in an abstract base class."
   ]
  },
  {
   "cell_type": "code",
   "execution_count": 2,
   "id": "5164496c-8da6-441d-8421-9f12ec736b15",
   "metadata": {},
   "outputs": [
    {
     "name": "stdout",
     "output_type": "stream",
     "text": [
      "Woof!\n",
      "Buddy the dog is eating.\n",
      "Buddy the dog is sleeping.\n",
      "Meow!\n",
      "Whiskers the cat is eating.\n",
      "Whiskers the cat is sleeping.\n",
      "Trumpet!\n",
      "Dumbbo the elephant is eating.\n",
      "Dumbbo the elephant is sleeping.\n"
     ]
    }
   ],
   "source": [
    "from abc import ABC, abstractmethod\n",
    "class Animal(ABC):\n",
    "    def __init__(self, name, species):\n",
    "        self.name=name\n",
    "        self.species=species\n",
    "        \n",
    "    @abstractmethod\n",
    "    def make_sound(self):\n",
    "        pass\n",
    "    \n",
    "    def eat(self):\n",
    "        return f\"{self.name} the {self.species} is eating.\"\n",
    "        \n",
    "    def sleep(self):\n",
    "        return f\"{self.name} the {self.species} is sleeping.\"\n",
    "    \n",
    "class Dog(Animal):\n",
    "    def __init__(self, name, breed):\n",
    "        super().__init__(name, species='dog')\n",
    "        self.breed = breed\n",
    "        \n",
    "    def make_sound(self):\n",
    "        return \"Woof!\"\n",
    "    \n",
    "class Cat(Animal):\n",
    "    def __init__(self, name, breed):\n",
    "        super().__init__(name, species=\"cat\")\n",
    "        self.breed = breed\n",
    "        \n",
    "    def make_sound(self):\n",
    "        return \"Meow!\"\n",
    "    \n",
    "class Elephant(Animal):\n",
    "    def __init__(self, name):\n",
    "        super().__init__(name, species=\"elephant\")\n",
    "        \n",
    "    def make_sound(self):\n",
    "        return \"Trumpet!\"\n",
    "    \n",
    "# Usage example\n",
    "\n",
    "dog = Dog(\"Buddy\", \"Golden Retriever\")\n",
    "print(dog.make_sound()) \n",
    "print(dog.eat())\n",
    "print(dog.sleep())\n",
    "\n",
    "cat = Cat(\"Whiskers\", \"Siamese\")\n",
    "print(cat.make_sound())\n",
    "print(cat.eat())\n",
    "print(cat.sleep())\n",
    "\n",
    "elephant = Elephant(\"Dumbbo\")\n",
    "print(elephant.make_sound())\n",
    "print(elephant.eat())\n",
    "print(elephant.sleep())"
   ]
  },
  {
   "cell_type": "markdown",
   "id": "38fff798-4b1d-49c5-87b6-cb6c72e1817d",
   "metadata": {},
   "source": [
    "9. Explain the significance of encapsulation in achieving abstraction. Provide examples."
   ]
  },
  {
   "cell_type": "markdown",
   "id": "181d7023-e49b-4b45-b511-557e969b2982",
   "metadata": {},
   "source": [
    "Encapsulation and abstraction are closely related concepts in object-oriented programming. Encapsulation refers to the bundling of data (attributes) and methods (functions) that operate on the data within a single unit, which is a class in Python. This concept aims to restrict access to certain components of an object and only expose necessary information, providing a clear interface for interaction. Encapsulation plays a crucial role in achieving abstraction by hiding the internal state of an object and exposing only the necessary functionalities or behaviors.\n",
    "\n",
    "Significance of Encapsulation in Achieving Abstraction:\n",
    "    \n",
    "1. Data Hiding: Encapsulation hides the internal state of an object, allowing access only through well-defined interfaces (methods). This prevents direct modification of object attributes, ensuring data integrity and minimizing unexpected changes from external sources."
   ]
  },
  {
   "cell_type": "code",
   "execution_count": 2,
   "id": "2c4b9bf3-a0a9-45fa-bdbe-2430f7c71b18",
   "metadata": {},
   "outputs": [
    {
     "name": "stdout",
     "output_type": "stream",
     "text": [
      "Car drove 50 miles.\n"
     ]
    }
   ],
   "source": [
    "class Car:\n",
    "    def __init__(self, make, model):\n",
    "        self.make=make\n",
    "        self.model=model\n",
    "        self._fuel=100\n",
    "        \n",
    "    def drive(self, distance):\n",
    "        fuel_consumed=distance*0.05\n",
    "        if fuel_consumed<=self._fuel:\n",
    "            self._fuel-=fuel_consumed\n",
    "            print(f\"Car drove {distance} miles.\")\n",
    "        else:\n",
    "            print(\"Insufficient fuel.\")\n",
    "            \n",
    "# Usage\n",
    "my_car=Car(\"Toyota\", \"Corolla\")\n",
    "my_car.drive(50)"
   ]
  },
  {
   "cell_type": "markdown",
   "id": "90631390-0bf1-48c7-b0f9-b6ee701bde2b",
   "metadata": {},
   "source": [
    "2. Abstraction through Interface: Encapsulation allows the creation of an interface (pubblic methods) that exposes functionalities while hiding the implementation details. Users interact with the object through these interfaces, promoting abstraction by focusing on what an object does rather than how it does it."
   ]
  },
  {
   "cell_type": "code",
   "execution_count": 4,
   "id": "4e98645a-2b42-48c3-8ee8-d316d5cb23f9",
   "metadata": {},
   "outputs": [
    {
     "name": "stdout",
     "output_type": "stream",
     "text": [
      "1500\n"
     ]
    }
   ],
   "source": [
    "class BankAccount:\n",
    "    def __init__(self, account_number, balance):\n",
    "        self.account_number = account_number\n",
    "        self._balance = balance \n",
    "        \n",
    "    def deposit(self, amount):\n",
    "        self._balance += amount\n",
    "        \n",
    "    def get_balance(self):\n",
    "        return self._balance\n",
    "    \n",
    "\n",
    "# Usage\n",
    "account = BankAccount(\"123456\", 1000)\n",
    "account.deposit(500)\n",
    "print(account.get_balance())"
   ]
  },
  {
   "cell_type": "markdown",
   "id": "3f5aef4b-c236-4c8e-ab40-758bd96ab1ce",
   "metadata": {},
   "source": [
    "In both examples, encapsulation is evident in restricting direct access to certain attributes (prefixed with '_' to indicate privacy) and providing controlled access through methods. This controlled access establishes a clear boundary between the internal workings of an object and its external usage, allowing abstraction by hiding complexities and exposing only necessary functionalities."
   ]
  },
  {
   "cell_type": "markdown",
   "id": "416f5d9c-d946-42b5-846c-44fb12b93053",
   "metadata": {},
   "source": [
    "10. What is the purpose of abstract methods, and how do they enforce abstraction in Python classes?"
   ]
  },
  {
   "cell_type": "markdown",
   "id": "859e3a81-9a4f-4cc3-a3d9-9165c97711ad",
   "metadata": {},
   "source": [
    "Abstract methods in Python are methods defined in abstract base classes (ABCs) that don't contain any implementation details. Their purpose is to define a method signature or interface that must be implemented by any subclass inheriting from the abstract base class. Abstract methods serve as placeholders for methods that should be overridden in subclasses, enforcing a contract that ensures specific methods are available in the subclasses.\n",
    "\n",
    "Purpose of Abstract Methods:\n",
    "    \n",
    "1. Defining Structure: Abstract methods define a blueprint for methods that must exist in subclasses, establishing a structure or interface that subclasses must adhere to.\n",
    "\n",
    "2. Enforcing Implementation: They enforce the presence of specific methods in subclaasses, ensuring that classes inheriting from an abstract base class provide necessary functionalities.\n",
    "\n",
    "\n",
    "Enforcing Abstraction:\n",
    "    \n",
    "1. Forcing Implementation: Subclasses that inherit from an abstract base class must override all abstract methods defined in the base class. If a subclass fails to implement any of the abstract methods, it will raise an error at runtime, enforcing the implementation of necessary behaviors.\n",
    "\n",
    "2. Promoting Consistency: Abstract methods help in creating a consistent interface across multiple subclasses. This consistency allows users of the subclasses to rely on certain methods being present and accessible.\n",
    "\n",
    "Example:"
   ]
  },
  {
   "cell_type": "code",
   "execution_count": 1,
   "id": "e9ad5b25-89cd-42d7-b740-8fddb537897d",
   "metadata": {},
   "outputs": [
    {
     "name": "stdout",
     "output_type": "stream",
     "text": [
      "Circle Area: 78.5\n",
      "Circle Perimeter: 31.400000000000002\n",
      "Square Area: 16\n",
      "Square Perimeter: 16\n"
     ]
    }
   ],
   "source": [
    "from abc import ABC, abstractmethod\n",
    "\n",
    "class Shape(ABC):\n",
    "    @abstractmethod\n",
    "    def area(self):\n",
    "        pass\n",
    "\n",
    "    @abstractmethod\n",
    "    def perimeter(self):\n",
    "        pass\n",
    "\n",
    "class Circle(Shape):\n",
    "    def __init__(self, radius):\n",
    "        self.radius = radius\n",
    "\n",
    "    def area(self):\n",
    "        return 3.14 * self.radius * self.radius\n",
    "\n",
    "    def perimeter(self):\n",
    "        return 2 * 3.14 * self.radius\n",
    "\n",
    "class Square(Shape):\n",
    "    def __init__(self, side_length):\n",
    "        self.side_length = side_length\n",
    "\n",
    "    def area(self):\n",
    "        return self.side_length * self.side_length\n",
    "\n",
    "    def perimeter(self):\n",
    "        return 4 * self.side_length\n",
    "\n",
    "# Usage\n",
    "# s = Shape()  # This would raise an error since Shape is an abstract class\n",
    "\n",
    "circle = Circle(5)\n",
    "print(\"Circle Area:\", circle.area())  # Output: Circle Area: 78.5\n",
    "print(\"Circle Perimeter:\", circle.perimeter())  # Output: Circle Perimeter: 31.400000000000002\n",
    "\n",
    "square = Square(4)\n",
    "print(\"Square Area:\", square.area())  # Output: Square Area: 16\n",
    "print(\"Square Perimeter:\", square.perimeter())  # Output: Square Perimeter: 16\n"
   ]
  },
  {
   "cell_type": "markdown",
   "id": "8dc6a751-8ac2-4534-8829-48bc8a1854ff",
   "metadata": {},
   "source": [
    "11. Create a Python class for a vehicle system and demonstrate abstraction by defining common methods (e.g., 'start()', 'stop()') in an abstract base class."
   ]
  },
  {
   "cell_type": "code",
   "execution_count": 3,
   "id": "d3a00e82-1c06-417c-9b87-55c895fe4239",
   "metadata": {},
   "outputs": [
    {
     "name": "stdout",
     "output_type": "stream",
     "text": [
      "Toyota Corolla engine started.\n",
      "Beep beep!\n",
      "Toyota Corolla engine stopped.\n",
      "Honda CBR500R engine started.\n",
      "Beep beep!\n",
      "Honda CBR500R engine stopped.\n"
     ]
    }
   ],
   "source": [
    "from abc import ABC, abstractmethod\n",
    "\n",
    "class Vehicle(ABC):\n",
    "    def __init__(self, make, model):\n",
    "        self.make=make\n",
    "        self.model=model\n",
    "        self.is_running=False\n",
    "        \n",
    "    @abstractmethod\n",
    "    def start(self):\n",
    "        pass\n",
    "    \n",
    "    def honk(self):\n",
    "        return \"Beep beep!\"\n",
    "    \n",
    "class Car(Vehicle):\n",
    "    def start(self):\n",
    "        self.is_running=True\n",
    "        return f\"{self.make} {self.model} engine started.\"\n",
    "    \n",
    "    def stop(self):\n",
    "        self.is_running=False\n",
    "        return f\"{self.make} {self.model} engine stopped.\"\n",
    "    \n",
    "class Motorcycle(Vehicle):\n",
    "    def start(self):\n",
    "        self.is_running=True\n",
    "        return f\"{self.make} {self.model} engine started.\"\n",
    "    \n",
    "    def stop(self):\n",
    "        self.is_running=False\n",
    "        return f\"{self.make} {self.model} engine stopped.\"\n",
    "    \n",
    "# Usage\n",
    "car=Car(\"Toyota\", \"Corolla\")\n",
    "print(car.start())\n",
    "print(car.honk())\n",
    "print(car.stop())\n",
    "\n",
    "motorcycle= Motorcycle('Honda', 'CBR500R')\n",
    "print(motorcycle.start())\n",
    "print(motorcycle.honk())\n",
    "print(motorcycle.stop())"
   ]
  },
  {
   "cell_type": "markdown",
   "id": "3269ab57-0a9b-4115-86c3-3e4d5a63c101",
   "metadata": {},
   "source": [
    "12. Describe the use of abstract properties in Python and how they can be imployed in abstract classes."
   ]
  },
  {
   "cell_type": "markdown",
   "id": "b944974c-bc13-4228-87d0-f373abc83818",
   "metadata": {},
   "source": [
    "Abstract properties in Python are properties defined in abstract base classes (ABCs) using the '@property' decorator along with the '@abstractmethod' decorator. They enforce the presence of specific properties that must be implemented by subclasses while allowing customization of behavior through getter, setter, and deleter methods.\n",
    "\n",
    "Use of Abstract Properties:\n",
    "    \n",
    "1. Enforcing Property Structure: Abstract properties define a blueprint for properties that subclasses must implement. They ensure that subclasses provide necessary attributes and methods associated with those attributes.\n",
    "\n",
    "2. Customizing Behavior: Abstract properties can have custom getter, setter, and deleter methods. This allows subclasses to define their behavior for accessing, setting, or deleting the property.\n",
    "\n",
    "Employing Abstract Properties in Abstract Classes:\n",
    "    \n",
    "Here's an example demonstrating the use of abstract properties in an abstract class:"
   ]
  },
  {
   "cell_type": "code",
   "execution_count": 5,
   "id": "475588c8-cae8-409f-9099-232077b36817",
   "metadata": {},
   "outputs": [
    {
     "name": "stdout",
     "output_type": "stream",
     "text": [
      "Circle Area: 78.5\n",
      "Circle Perimeter: 31.400000000000002\n",
      "Square Area: 16\n",
      "Square Perimeter 16\n"
     ]
    }
   ],
   "source": [
    "from abc import ABC, abstractmethod\n",
    "\n",
    "class Shape(ABC):\n",
    "    @property\n",
    "    @abstractmethod\n",
    "    def area(self):\n",
    "        pass\n",
    "    \n",
    "    \n",
    "    @property \n",
    "    @abstractmethod\n",
    "    def perimeter(self):\n",
    "        pass\n",
    "    \n",
    "class Circle(Shape):\n",
    "    def __init__(self, radius):\n",
    "        self.radius=radius\n",
    "        \n",
    "    @property\n",
    "    def area(self):\n",
    "        return 3.14 * self.radius * self.radius\n",
    "    \n",
    "    @property\n",
    "    def perimeter(self):\n",
    "        return 2 * 3.14 * self.radius\n",
    "    \n",
    "class Square(Shape):\n",
    "    def __init__(self, side_length):\n",
    "        self.side_length=side_length\n",
    "        \n",
    "    @property\n",
    "    def area(self):\n",
    "        return self.side_length *self.side_length\n",
    "    \n",
    "    @property\n",
    "    def perimeter(self):\n",
    "        return 4 * self.side_length\n",
    "    \n",
    "# Usage\n",
    "circle=Circle(5)\n",
    "print(\"Circle Area:\", circle.area)\n",
    "print(\"Circle Perimeter:\", circle.perimeter)\n",
    "\n",
    "square=Square(4)\n",
    "print(\"Square Area:\", square.area)\n",
    "print(\"Square Perimeter\", square.perimeter)"
   ]
  },
  {
   "cell_type": "markdown",
   "id": "397bbc1e-85ff-44b9-a84b-b756175fae08",
   "metadata": {},
   "source": [
    "13. Create a Python class hierarchy for employees in a company (e.g., manager, developer, designer) and implement abstraction by defining a common 'get_salary()' method."
   ]
  },
  {
   "cell_type": "code",
   "execution_count": 6,
   "id": "b626420a-5d49-41d3-9514-38a9c7fe6b7a",
   "metadata": {},
   "outputs": [
    {
     "name": "stdout",
     "output_type": "stream",
     "text": [
      "Alice's salary as a Manager is 90000 per year.\n",
      "Bob's salary as a Developer is 8000 per month.\n",
      "Eve's salary as a Designer is 6000 per month.\n"
     ]
    }
   ],
   "source": [
    "from abc import ABC, abstractmethod\n",
    "\n",
    "class Employee(ABC):\n",
    "    def __init__(self, name, employee_id):\n",
    "        self.name=name\n",
    "        self.employee_id=employee_id\n",
    "        \n",
    "    @abstractmethod\n",
    "    def get_salary(self):\n",
    "        pass\n",
    "    \n",
    "class Manager(Employee):\n",
    "    def __init__(self, name, employee_id, salary):\n",
    "        super().__init__(name, employee_id)\n",
    "        self.salary=salary\n",
    "        \n",
    "    def get_salary(self):\n",
    "        return f\"{self.name}'s salary as a Manager is {self.salary} per year.\"\n",
    "    \n",
    "class Developer(Employee):\n",
    "    def __init__(self, name, employee_id, hourly_rate, hours_worked):\n",
    "        super().__init__(name, employee_id)\n",
    "        self.hourly_rate = hourly_rate\n",
    "        self.hours_worked=hours_worked\n",
    "        \n",
    "    def get_salary(self):\n",
    "        return f\"{self.name}'s salary as a Developer is {self.hourly_rate * self.hours_worked} per month.\"\n",
    "    \n",
    "    \n",
    "class Developer(Employee):\n",
    "    def __init__(self, name, employee_id, hourly_rate, hours_worked):\n",
    "        super().__init__(name, employee_id)\n",
    "        self.hourly_rate=hourly_rate\n",
    "        self.hours_worked=hours_worked\n",
    "        \n",
    "    def get_salary(self):\n",
    "        return f\"{self.name}'s salary as a Developer is {self.hourly_rate * self.hours_worked} per month.\"\n",
    "    \n",
    "    \n",
    "class Designer(Employee):\n",
    "    def __init__(self, name, employee_id, monthly_salary):\n",
    "        super().__init__(name, employee_id)\n",
    "        self.monthly_salary=monthly_salary\n",
    "        \n",
    "        \n",
    "    def get_salary(self):\n",
    "        return f\"{self.name}'s salary as a Designer is {self.monthly_salary} per month.\"\n",
    "    \n",
    "    \n",
    "# Usage\n",
    "manager = Manager(\"Alice\", \"M001\", 90000)\n",
    "print(manager.get_salary())\n",
    "\n",
    "developer = Developer(\"Bob\", \"D001\", 50, 160)\n",
    "print(developer.get_salary())\n",
    "\n",
    "designer = Designer(\"Eve\", \"DS001\", 6000)\n",
    "print(designer.get_salary())\n",
    "                "
   ]
  },
  {
   "cell_type": "markdown",
   "id": "45ef4d3d-ee3d-4e4e-8340-3674d17c46f1",
   "metadata": {},
   "source": [
    "14. Discuss the differences between abstract classes and concrete classes in Python, including their instantiation."
   ]
  },
  {
   "cell_type": "markdown",
   "id": "7cafb503-b446-4277-a3b7-40432f804022",
   "metadata": {},
   "source": [
    "Abstract classes and concrete classes in Python serve different purposes and have distinct characteristics, especially regarding instantiation and their role in inheritance hierarchies.\n",
    "\n",
    "Abstract Classes:\n",
    "    \n",
    "* Definition: Abstract classes are classes that cannot be instantiated on their own and typically contain one or more abstract methods (methods without implementation).\n",
    "\n",
    "* Purpose: They are used as blueprints or templates for other classes. They define a structure that subclasses must adhere to by implementing specific methods.\n",
    "\n",
    "* Instantiation: Abstract classes cannot be instantiated directly. Attempting to create an object from an abstract class will result in an error.\n",
    "\n",
    "* Usage: They serve as a guide for subclasses to implement shared behaviors or interfaces. Abstract classes my contain a mix of abstract and concrete methods.\n",
    "\n",
    "Example:"
   ]
  },
  {
   "cell_type": "code",
   "execution_count": 7,
   "id": "6fa5f45e-cae1-4827-9c43-9a948359aa54",
   "metadata": {},
   "outputs": [],
   "source": [
    "from abc import ABC, abstractmethod\n",
    "\n",
    "class Shape(ABC):\n",
    "    @abstractmethod\n",
    "    def area(self):\n",
    "        pass\n",
    "    \n",
    "class Circle(Shape):\n",
    "    def __init__(self, radius):\n",
    "        self.radius = radius\n",
    "        \n",
    "    def area(self):\n",
    "        return 3.14*self.radius*self.radius"
   ]
  },
  {
   "cell_type": "markdown",
   "id": "030ccec6-afd3-4caa-a4e1-123b10bd92a8",
   "metadata": {},
   "source": [
    "Concrete Classes:\n",
    "    \n",
    "* Definition: Concrete classes are regular classes that can be instantiated directly. They provide implementations for all methods defined in themselves or inherited from their parent classes. \n",
    "\n",
    "* Purpose: Concrete classes are meant to be instantiated and used to create objects.\n",
    "\n",
    "* Instantiation: They can be instantiated directly using the class constructor.\n",
    "\n",
    "* Usage: Concrete classes provide specific functionalities or behaviors that can be used directly or further extended by subclasses.\n",
    "\n",
    "Example:"
   ]
  },
  {
   "cell_type": "code",
   "execution_count": 8,
   "id": "164441a8-5246-44a9-9bf8-d3c694660944",
   "metadata": {},
   "outputs": [],
   "source": [
    "class Rectangle:\n",
    "    def __init__(self, length, width):\n",
    "        self.length=length\n",
    "        self.width=width\n",
    "        \n",
    "    def area(self):\n",
    "        return self.length*self.width\n",
    "    \n",
    "        "
   ]
  },
  {
   "cell_type": "markdown",
   "id": "cbf762a1-616b-4275-a047-d8a3da1d277e",
   "metadata": {},
   "source": [
    "Instantiation Differences:\n",
    "    \n",
    "* Abstract classes: Cannot be instantiated on their own. They exist to be subclassed and provide a structure for subclasses to follow\n",
    "\n",
    "* Concrete classes: Can be instantiated directly using their constructors. They provide complete implementations and can be used to create objects.\n",
    "\n",
    "In summary, abstract classes set guidelines for subclasses by defining abstract methods, while concrete classes provide concrete implementations and can be instantiated to create objects directly. The key distinction lies in their purpose, instantiation rules, and the nature of their methods (abstract or concrete)."
   ]
  },
  {
   "cell_type": "markdown",
   "id": "50e2c39e-0975-48f9-8838-b513a7501814",
   "metadata": {},
   "source": [
    "15. Explain the concept of abstract data types (ADTs) and their role in achieving abstraction in Python."
   ]
  },
  {
   "cell_type": "markdown",
   "id": "d0b58763-f7ae-4b8e-8cc5-3a97acfb627f",
   "metadata": {},
   "source": [
    "Abstract Data Types (ADTs) refer to a theoretical model or specification for data types where the definition focuses on how data is organized and what operations can be performed on that data, rather than on how the operations are implemented. ADTs emphasize the behavior of data structures and operations without specifying their implementation details. They provide a clear interface (set of operations) and encapsulate the underlying data structure and algoriths.\n",
    "\n",
    "Role of ADTs in Achieving Abstraction in Python:\n",
    "    \n",
    "1. Focus on Interface: ADTs define a set of operations that can be performed on a data structure without specifying how these operations are carried out internally. This focus on the interface promotes abstraction by hiding implementation complexities.\n",
    "\n",
    "2. Encapsulation of Operations: ADTs encapsulate the data and operations related to that data within a defined structure. This structure through well-defined methods or operations.\n",
    "\n",
    "3. Modularity and Reusability: By separating the interface from the implementation, ADTs facilitate modularity and reusability. Once an ADT is defined, it can be reused in various contexts without meeding to change the underlying structure as long as the interface remains consistent.\n",
    "\n",
    "4. Ease of Maintenance: Abstraction through ADTs helps in maintaining code as changes to the undrlying implementation can be made without affecting the code that uses the ADT, as long as the interface remains intact.\n",
    "\n",
    "\n",
    "Example in Python:\n",
    "    \n",
    "Python provides several built-in ADTs such as lists, sets, dictionaries, etc. For instance, the 'list' data type in Python abstracts away the internal implementation of how elements are stored and retrieved, allowing users to interact with the list through a defined set of operations like 'append', 'pop', 'index', etc. Users don't need to know how these operations are implemented internally; they only need to understand how to use the interface provided by the list data structure."
   ]
  },
  {
   "cell_type": "code",
   "execution_count": 10,
   "id": "ea49cbb8-6f92-4d64-8c16-37c3bff11df7",
   "metadata": {},
   "outputs": [
    {
     "name": "stdout",
     "output_type": "stream",
     "text": [
      "[1, 2, 3, 4, 5]\n",
      "5\n",
      "[1, 2, 3, 4]\n"
     ]
    }
   ],
   "source": [
    "# Example of using a list ADT\n",
    "my_list=[1,2,3,4]\n",
    "my_list.append(5)  # adding an element to the list\n",
    "print(my_list)\n",
    "\n",
    "value=my_list.pop() # removing and returning the last element from the list\n",
    "print(value)\n",
    "print(my_list)"
   ]
  },
  {
   "cell_type": "markdown",
   "id": "bb5d2197-9390-4ffa-8fb8-c3130f4caacb",
   "metadata": {},
   "source": [
    "16. Create a Python class of a computer system, demonstrating abstraction by defining common methods (e.g., 'power_on()', 'shutdown()') in an abstract base class."
   ]
  },
  {
   "cell_type": "code",
   "execution_count": 1,
   "id": "bedadb16-60ae-4c1c-95f5-d28adc4e62ca",
   "metadata": {},
   "outputs": [
    {
     "name": "stdout",
     "output_type": "stream",
     "text": [
      "Starting Dell XPS 15 computer system...\n",
      "System started successfully.\n",
      "Running Photoshop on Dell XPS 15...\n",
      "Application execution completed.\n",
      "processing data on Dell XPS 15....\n",
      "Data processed successfully.\n",
      "Shutting down Dell XPS 15 computer system....\n",
      "System shut down successfully.\n"
     ]
    }
   ],
   "source": [
    "class ComputerSystem:\n",
    "    def __init__(self, model, cpu, ram, storage):\n",
    "        self.model=model\n",
    "        self.cpu=cpu\n",
    "        self.ram=ram\n",
    "        self.storage=storage\n",
    "        \n",
    "    def start(self):\n",
    "        print(f\"Starting {self.model} computer system...\")\n",
    "        \n",
    "        # Simulate system startup tasks\n",
    "        print(\"System started successfully.\")\n",
    "        \n",
    "    def run_application(self, application):\n",
    "        print(f\"Running {application} on {self.model}...\")\n",
    "        # Simulate application execution\n",
    "        print(\"Application execution completed.\")\n",
    "        \n",
    "    def process_data(self, data):\n",
    "        print(f\"processing data on {self.model}....\")\n",
    "        # Simulate data processing \n",
    "        print(\"Data processed successfully.\")\n",
    "        \n",
    "    def shutdown(self):\n",
    "        print(f\"Shutting down {self.model} computer system....\")\n",
    "        # simulate system shutdown tasks.\n",
    "        print(\"System shut down successfully.\")\n",
    "        \n",
    "        \n",
    "# example usage\n",
    "\n",
    "my_computer = ComputerSystem(\"Dell XPS 15\", \"Intel i7 12th Gen\", 16, 512)\n",
    "my_computer.start()\n",
    "my_computer.run_application(\"Photoshop\")\n",
    "my_computer.process_data(\"large_dataset.csv\")\n",
    "my_computer.shutdown()"
   ]
  },
  {
   "cell_type": "markdown",
   "id": "6ec7ef17-a9f3-43c3-baa1-a2d8203fe0d6",
   "metadata": {},
   "source": [
    "17. Discuss the benefits of using abstraction in large-scale software development projects."
   ]
  },
  {
   "cell_type": "markdown",
   "id": "ce3b03cf-d8a4-4bb2-aab3-cc6df7d40baa",
   "metadata": {},
   "source": [
    "In large-scale software development projects, abstraction becomes a crucial tool to manage complexity and maximize efficiecy. Here are some key benefits of using abstraction:\n",
    "    \n",
    "    \n",
    "1. Reduced Complexity:\n",
    "    \n",
    "    * Abstraction allows developers to focus on highr-level concepts and operations, hiding the intricate details of the underlying implementation. This makes the code easier to understand, maintain, and modify. Imagine dealing with raw binary instructions instead of high-level functions like 'print' and 'sort.' Abstractions shielf developers from the nitty-gritty, enabling them to work on bigger blocks.\n",
    "    \n",
    "    \n",
    "2. Improved Modularity:\n",
    "    \n",
    "    * By breaking down the system into smaller, independnt modules with well-defined interfaces, abstraction promotes modularity. This facilitates independent development, testing, and deployment of individual modules, which is crucial for large projects with multiple teams and deadlines. Think of building blocks: each module acts as a self-contained unit, simplifying collaboration and integration.\n",
    "    \n",
    "3. Increased Reusability: \n",
    "    \n",
    "    * Abstracted components (function, classes, modules) can be reused across different parts of the project, reducing redundancy and code duplication. This saves development time and improves maintainability, as bugs or feature updates only need to be fixed or implemented once in the reusable abstraction. Imagine having a \"login\" function used by every application instead of writing it over and over.\n",
    "    \n",
    "4. Enhanced Maintainability:  \n",
    "    \n",
    "    * By isolating implementation details within abstraction, changes to chose details become localized and don't break dependent code. This makes the code base more robust and easier to maintain, as updates to one module won't cascade through the entire system. Think of changing the engine of a car without affecting the steering wheel or radio.\n",
    "    \n",
    "5. Improved Developer Productivity: \n",
    "    \n",
    "    * Abstraction allows developers to work with higher-level abstractions instead of struggling with low-level details. This leads to faster development times, as complex tasks can be accomplished with simpler commands and less code. Imagine using pre-built libraries for image processing instead of writing your own algorithms from scratch. \n",
    "    \n",
    "    \n",
    "6. Better Communication and Collaboration:\n",
    "    \n",
    "    * Shared abstraction provide a common vocabulary for developers to communicate about the sysstem. This helps in understanding dependencies, identifying issues, and collaborating effectively on large projects involving multiple teams with diverse expertise. Think of a common map everyone uses to navigate and software landscape. \n",
    "    \n",
    "7. Scalability and Flexibility:\n",
    "    \n",
    "    * By decoupling modules through abstractions, the system becomes more adaptable and easier to extend. New features or functionalities can be added by creating new modules that interact with existing abstractions, without major disruption to the existing codebase. Imagine adding new floors to a building with strong foundations, without needing to rebuilt the entire structure.\n",
    "    \n",
    "In conclusion, abstraction is a powerful tool in large-scale software development. By managing complexity, promoting modularity, and enabling reuse, it streamlines development, improves maintainability, and boosts developer productivity. It's like laying asolid foundation for your software skyscraper, allowing you to build higher and further with confidence.\n",
    "\n",
    "\n",
    "Remember, abstraction is not about hiding everything. It's abouut finding the right balance between exposing what's needed and concealing the non-essential. Choosing the right level of abstraction and using it effectively can make a significant difference in the success of any large-scale software project."
   ]
  },
  {
   "cell_type": "markdown",
   "id": "eb8cbecf-1a97-4637-ac4f-ff514d503d48",
   "metadata": {},
   "source": [
    "18. Explain how abstraction enhances code reusability and modularity in Python programs."
   ]
  },
  {
   "cell_type": "markdown",
   "id": "f9cb05f5-4f40-44df-9836-1e40cf35b44b",
   "metadata": {},
   "source": [
    "Abstraction in Python plays a crucial role in promoting code reusability and modularity. Here's how it works:\n",
    "\n",
    "1. Functions:\n",
    "    \n",
    "    * Functions encapsulate specific tasks or algorithms, hiding their implementation details. \n",
    "    \n",
    "    * You can reuse function throughout your code, avoiding duplication and improving readability.  \n",
    "    \n",
    "    \n",
    "    * Example:"
   ]
  },
  {
   "cell_type": "code",
   "execution_count": 11,
   "id": "722e52c6-3181-4f2f-8e84-c1aab8881463",
   "metadata": {},
   "outputs": [
    {
     "name": "stdout",
     "output_type": "stream",
     "text": [
      "20\n",
      "5000\n"
     ]
    }
   ],
   "source": [
    "def calculate_area(length, width):\n",
    "    return length * width\n",
    "\n",
    "area_of_room = calculate_area(5, 4)\n",
    "area_of_field = calculate_area(100, 50)\n",
    "print(area_of_room)\n",
    "print(area_of_field)"
   ]
  },
  {
   "cell_type": "markdown",
   "id": "90862c8a-929b-45b4-b343-d56082b63a19",
   "metadata": {},
   "source": [
    "2. Classes:\n",
    "    \n",
    "    * Classes define blueprints for objects, encapsulating data (attributes) and behaviors (methods).\n",
    "    \n",
    "    * You can create multiple instances of a class, each with its own state, reusing the same code structure.\n",
    "    \n",
    "    * Example:"
   ]
  },
  {
   "cell_type": "code",
   "execution_count": 13,
   "id": "3c3c0a44-e920-4e26-84d6-7df500e125dd",
   "metadata": {},
   "outputs": [
    {
     "name": "stdout",
     "output_type": "stream",
     "text": [
      "78.53975\n",
      "314.159\n"
     ]
    }
   ],
   "source": [
    "class Circle:\n",
    "    def __init__(self, radius):\n",
    "        self.radius = radius\n",
    "        \n",
    "    def calculate_area(self):\n",
    "        return 3.14159 * self.radius ** 2\n",
    "    \n",
    "circle1 = Circle(5)\n",
    "circle2 = Circle(10)\n",
    "\n",
    "area1 = circle1.calculate_area()\n",
    "area2 = circle2.calculate_area()\n",
    "\n",
    "print(area1)\n",
    "print(area2)"
   ]
  },
  {
   "cell_type": "markdown",
   "id": "54218211-c4cb-49de-9584-41e8bbe1a283",
   "metadata": {},
   "source": [
    "3. Modules:  \n",
    "    \n",
    "    * Modules organize code into separate files, grouping related functions and classes.\n",
    "    \n",
    "    * You can import modules to reuse their components in other parts of your program.\n",
    "    \n",
    "    * Example:"
   ]
  },
  {
   "cell_type": "code",
   "execution_count": 32,
   "id": "bfce7608-310a-434b-acd8-d736796a0e17",
   "metadata": {},
   "outputs": [
    {
     "name": "stdout",
     "output_type": "stream",
     "text": [
      "12\n",
      "11\n"
     ]
    }
   ],
   "source": [
    "class Calculation:\n",
    "    def __init__(self, x, y):\n",
    "        self.x = x\n",
    "        self.y = y\n",
    "    def add(self):\n",
    "        return self.x + self.y\n",
    "\n",
    "    def subtract(self):\n",
    "        return self.x - self.y\n",
    "\n",
    "result1 = Calculation(5,7)\n",
    "result2 = Calculation(55, 44)\n",
    "\n",
    "add=result1.add()\n",
    "subtract=result2.subtract()\n",
    "\n",
    "print(add)\n",
    "print(subtract)"
   ]
  },
  {
   "cell_type": "markdown",
   "id": "5ec538d6-7b23-40bf-8703-7f916499e9a5",
   "metadata": {},
   "source": [
    "4. Abstract Base Classes (ABCs):\n",
    "    \n",
    "    * ABCs define interfaces for classes, specifying methods they must implement without providing concrete implementation. \n",
    "    \n",
    "    * This enforces a common structure for related classes, promoting consistency and interoperability.\n",
    "    \n",
    "    * Example:"
   ]
  },
  {
   "cell_type": "code",
   "execution_count": 33,
   "id": "861a91c7-7759-49c8-bdcc-2dd6b588130f",
   "metadata": {},
   "outputs": [
    {
     "name": "stdout",
     "output_type": "stream",
     "text": [
      "78.5\n",
      "28\n"
     ]
    }
   ],
   "source": [
    "from abc import ABC, abstractmethod\n",
    "\n",
    "class Shape(ABC):\n",
    "    @abstractmethod\n",
    "    def calculate_area(self):\n",
    "        pass\n",
    "    \n",
    "class Circle(Shape):\n",
    "    def __init__(self, radius):\n",
    "        self.radius= radius\n",
    "    def calculate_area(self):\n",
    "        return 3.14 * self.radius ** 2\n",
    "    \n",
    "\n",
    "class Rectangle(Shape):\n",
    "    def __init__(self, length, width):\n",
    "        self.length = length\n",
    "        self.width = width\n",
    "        \n",
    "    def calculate_area(self):\n",
    "        return self.length * self.width\n",
    "    \n",
    "\n",
    "circle = Circle(5)\n",
    "rectangle = Rectangle(7,4)\n",
    "\n",
    "area= circle.calculate_area()\n",
    "area1 = rectangle.calculate_area()\n",
    "\n",
    "print(area)\n",
    "print(area1)"
   ]
  },
  {
   "cell_type": "markdown",
   "id": "aa846def-9328-495d-8301-af981e3cae2f",
   "metadata": {},
   "source": [
    "19. Create a Python class for a library system, implementing abstraction by defining common methods (e.g., 'add_book()', 'borrow_book()') in an abstract base class. "
   ]
  },
  {
   "cell_type": "code",
   "execution_count": 6,
   "id": "a16cdcff-0176-42e8-9889-cf54222d5dcc",
   "metadata": {},
   "outputs": [
    {
     "name": "stdout",
     "output_type": "stream",
     "text": [
      "Borrowing book: Data Sciency by Ganapat\n",
      "Book Data Sciency is already borrowed.\n",
      "Returning book! Data Sciency by Ganapat\n",
      "Borrowing magazine: Data magazine issue #99898\n",
      "Magazine Data magazine issue #99898 is already borrowed.\n",
      "Returning magazine: Data magazine issue #99898\n"
     ]
    }
   ],
   "source": [
    "from abc import ABC, abstractmethod\n",
    "\n",
    "class LibraryItem(ABC):\n",
    "    def __init__(self, title, author, isbn):\n",
    "        self.title = title\n",
    "        self.author = author\n",
    "        self.isbn = isbn\n",
    "        self.borrowed = False\n",
    "        \n",
    "    @abstractmethod\n",
    "    def borrow(self):\n",
    "        pass\n",
    "    \n",
    "    @abstractmethod\n",
    "    def return_item(self):\n",
    "        pass\n",
    "    \n",
    "class Book(LibraryItem):\n",
    "    def __init__(self, title, author, isbn, genre):\n",
    "        super().__init__(title, author, isbn)\n",
    "        self.genre = genre\n",
    "        \n",
    "    def borrow(self):\n",
    "        if not self.borrowed:\n",
    "            self.borrowed = True\n",
    "            print(f\"Borrowing book: {self.title} by {self.author}\")\n",
    "        else:\n",
    "            print(f\"Book {self.title} is already borrowed.\")\n",
    "            \n",
    "    def return_item(self):\n",
    "        if self.borrowed:\n",
    "            self.borrowed = False\n",
    "            print(f\"Returning book! {self.title} by {self.author}\")\n",
    "            \n",
    "        else:\n",
    "            print(f\"Book {self.title} is not currently borrowed.\")\n",
    "            \n",
    "class Magazine(LibraryItem):\n",
    "    def __init__(self, title, issue_number, publication_date):\n",
    "        super().__init__(title, None, None)\n",
    "        self.issue_number = issue_number\n",
    "        self.publication_date = publication_date\n",
    "        \n",
    "    def borrow(self):\n",
    "        if not self.borrowed:\n",
    "            self.borrowed = True\n",
    "            print(f\"Borrowing magazine: {self.title} issue #{self.issue_number}\")\n",
    "            \n",
    "        else:\n",
    "            print(f\"Magazine {self.title} issue #{self.issue_number} is already borrowed.\")\n",
    "            \n",
    "    def return_item(self):\n",
    "        if self.borrowed:\n",
    "            self.borrowed = False\n",
    "            print(f\"Returning magazine: {self.title} issue #{self.issue_number}\")\n",
    "            \n",
    "        else:\n",
    "            print(f\"magazine {self.title} issue #{self.issue_number} is not currently borrowed.\")\n",
    "            \n",
    "\n",
    "book = Book('Data Sciency', 'Ganapat', 88, 'Romance')\n",
    "magazine= Magazine('Data magazine', 99898, '12 December')\n",
    "\n",
    "book.borrow()\n",
    "book.borrow()\n",
    "book.return_item()\n",
    "\n",
    "magazine.borrow()\n",
    "magazine.borrow()\n",
    "magazine.return_item()"
   ]
  },
  {
   "cell_type": "markdown",
   "id": "d43cf6ef-c1d6-425b-a0ae-d2ea84caf52d",
   "metadata": {},
   "source": [
    "20. Describe the concept of method abstraction in Python and how it relates to polymorphism."
   ]
  },
  {
   "cell_type": "markdown",
   "id": "ebfc103c-b5a1-4e87-8121-7857dd31f15a",
   "metadata": {},
   "source": [
    "Here's a description of method abstraction in Python and its relationship with polymorphism:\n",
    "\n",
    "Method Abstraction:\n",
    "    \n",
    "    * It involves defining the signature (name and parameters) of a method within a class, but without providing a concrete implementation.\n",
    "    \n",
    "    * This creates a blueprint for subclasses to inherit and implement their own specific behaviors for that method. \n",
    "    \n",
    "    * It's achieved using the abc module and @abstractmethod decorator.\n",
    "    \n",
    "Key steps:\n",
    "    \n",
    "    1. Import abc module:"
   ]
  },
  {
   "cell_type": "code",
   "execution_count": 3,
   "id": "90b1be98-24d3-44c0-88f4-9a7149968f4c",
   "metadata": {},
   "outputs": [],
   "source": [
    "from abc import ABC, abstractmethod"
   ]
  },
  {
   "cell_type": "markdown",
   "id": "66125b6e-8cf3-4e2f-8725-02d465dd8644",
   "metadata": {},
   "source": [
    "2. Create an abstract base class:"
   ]
  },
  {
   "cell_type": "code",
   "execution_count": 4,
   "id": "1b8e74c8-f4f1-4136-a9e8-04aca2df67f8",
   "metadata": {},
   "outputs": [],
   "source": [
    "class Shape(ABC):\n",
    "    @abstractmethod\n",
    "    def calculate_area(self):\n",
    "        pass"
   ]
  },
  {
   "cell_type": "markdown",
   "id": "5b0abb13-9842-4f6a-84bc-d62f2af6a760",
   "metadata": {},
   "source": [
    "3. Subclasses implement abstract methods:"
   ]
  },
  {
   "cell_type": "code",
   "execution_count": 13,
   "id": "a4ffe376-5982-440f-9de7-9739beccc875",
   "metadata": {},
   "outputs": [],
   "source": [
    "class Circle(Shape):\n",
    "    def __init__(self, radius):\n",
    "        self.radius = radius\n",
    "    def calculate_area(self):\n",
    "        return 3.14159 * self.radius ** 2"
   ]
  },
  {
   "cell_type": "markdown",
   "id": "43816622-38fc-490b-9110-8391f23fe768",
   "metadata": {},
   "source": [
    "Polymorphism:\n",
    "    \n",
    "    * It allows objects of different classes to be treated as if they were of the same type, as long as they share a common interface (methods with the same names and signatures).\n",
    "    \n",
    "    * This means you can call the same method on different objects, and the correct implementation will be executed based on the object's actual type.\n",
    "    \n",
    "Relationship between abstraction and polymorphis:\n",
    "    \n",
    "    * Abstract methods define a common interface for subclasses, enabling polymorphism.\n",
    "    \n",
    "    * Subclasses provide their own implementations of abstract methods, ensuring consistent behavior while allowing for diverse functionality. \n",
    "    \n",
    "    * Polymorphism allows code to interact with objects of different types throuugh a shard interface, promoting flexibility and code reusability.\n",
    "    \n",
    "Example:"
   ]
  },
  {
   "cell_type": "code",
   "execution_count": 15,
   "id": "659603e1-c6f1-458d-a565-4977954a1439",
   "metadata": {},
   "outputs": [
    {
     "name": "stdout",
     "output_type": "stream",
     "text": [
      "Area of Circle: 201.06176\n"
     ]
    }
   ],
   "source": [
    "shapes = [Circle(8)]\n",
    "for shape in shapes:\n",
    "    area = shape.calculate_area()  # polymorphic calls\n",
    "    print(f\"Area of {shape.__class__.__name__}: {area}\")"
   ]
  },
  {
   "cell_type": "markdown",
   "id": "74932aee-1e18-48dd-95eb-9cae5ace3378",
   "metadata": {},
   "source": [
    "Benefits:\n",
    "    \n",
    "    * Flexibility: Code can handlee different object types without knowing their exact implementations. \n",
    "    \n",
    "    * Code reusability: Common operations can be defined once for multiple classs. \n",
    "    \n",
    "    * Encapsulation: Implementation details are hidden within subclasses, promoting loose coupling and maintainability.\n",
    "    \n",
    "    * Organization: Abstract base classes create a clear structure for inheritance hierarchies.\n",
    "    \n",
    "In essence, method abstraction and polymorphism work hand-in-hand to create flexible and reusable code in Python, enabling you to model diverse real-world concepts effectively."
   ]
  },
  {
   "cell_type": "markdown",
   "id": "abe77a0f-6621-4455-ac87-e616769ad2c8",
   "metadata": {},
   "source": [
    "# Composition:"
   ]
  },
  {
   "cell_type": "markdown",
   "id": "044ae66f-3e70-431c-8c3e-afa9e6b6453e",
   "metadata": {},
   "source": [
    "1. Explain the concept of composition in Python and how it is used to build complex objects from simpler ones."
   ]
  },
  {
   "cell_type": "markdown",
   "id": "f232aebc-e7b3-4e88-9efb-ed8d0ac9bb33",
   "metadata": {},
   "source": [
    "Composition is a fundamental objects-oriented programming (OOP) technique where a class contains instances of other classes as its attributes, creating a 'has-a' relationship between them. This allows you to build complex objects by combining simpler ones, promoting modularity, reusability, and flexibility.\n",
    "\n",
    "Key concepts:\n",
    "    \n",
    "    * Whole-Part Relationship: The \"whole\" class (or composite class) holds references to instances of the 'part' classes (or component classes), forming a hierarchical structure.\n",
    "    \n",
    "    * Encapsulation: Each component class encapsulates its own data and behavior, making the composite class responsible for coordinating their interactions. \n",
    "    \n",
    "    * Loose Coupling: Components are not tightly bound to each other, making them interchangeable and promoting code reusability. \n",
    "    \n",
    "How It Works:\n",
    "    \n",
    "    1. Define Component Classes: Create classes representing individual components with their own attributes and methods.\n",
    "    \n",
    "    2. Compose in the Whole Class: Create a class representing the complex object. Within this class, define attributes that hold instances of the component classes. \n",
    "    \n",
    "    3. Interact with Componeents: In the composite class's methods, access and interact with the componnts' attributes and methods using dot notation.\n",
    "    \n",
    "Example:"
   ]
  },
  {
   "cell_type": "code",
   "execution_count": 19,
   "id": "730aaf1c-831c-46e8-b51a-4ba34e97acce",
   "metadata": {},
   "outputs": [
    {
     "name": "stdout",
     "output_type": "stream",
     "text": [
      "Engine started!\n",
      "Car is moving!\n"
     ]
    }
   ],
   "source": [
    "class Engine:\n",
    "    def start(self):\n",
    "        print(\"Engine started!\")\n",
    "        \n",
    "    def stop(self):\n",
    "        print(\"Engine stoppeed.\")\n",
    "        \n",
    "class Wheel: \n",
    "    def inflate(self):\n",
    "        print(\"Wheel inflated.\")\n",
    "        \n",
    "class Car:\n",
    "    def __init__(self):\n",
    "        self.engine = Engine()\n",
    "        self.wheels = [Wheel() for _ in range(4)]\n",
    "        \n",
    "    def drive(self):\n",
    "        self.engine.start()\n",
    "        print(\"Car is moving!\")\n",
    "        \n",
    "        \n",
    "my_car = Car()\n",
    "my_car.drive()  "
   ]
  },
  {
   "cell_type": "markdown",
   "id": "42f6d147-2a33-4ac4-bd1b-e3b01c572664",
   "metadata": {},
   "source": [
    "Benefits of Composition:\n",
    "    \n",
    "    * Modularity: Components can be developed and tested independently, making code more manageable and easier to maintain. \n",
    "    \n",
    "    * Reusability: Components can be reused in different composite classes, reducing code duplication and promoting efficiency. \n",
    "    \n",
    "    * Flexibility: Components can be easily replaced or modified without affecting the overall structure of the composite objects, making systems adaptable to change.\n",
    "    \n",
    "    * Encapsulation: Each component protects its own data and behavior, reducing complexity and potential errors. \n",
    "    \n",
    "Composition is a powerful technique for constructing complex and adaptable systems in Python, fostering a modular and reusable approach to object-oriented programming."
   ]
  },
  {
   "cell_type": "markdown",
   "id": "f5652fcf-8bd2-4b9b-b36b-2796b0f1ce27",
   "metadata": {},
   "source": [
    "2. Describe the differnce between composition and inheritance in object-orientd programming."
   ]
  },
  {
   "cell_type": "markdown",
   "id": "17efee64-65f4-4a50-bd92-1bcc4a72aeb1",
   "metadata": {},
   "source": [
    "Composition and inheritanc are both fundamental OOP techniques for building relationships between classs, but they have distinct purposes and mechanisms:\n",
    "    \n",
    "Composition: \n",
    "    \n",
    "    * Relationship: \"Has-a\" relationship. A class (the composite) contains instances of other classes (the components) as attributes. \n",
    "    \n",
    "    * Mechanism: The composite class creates and holds references to instances of the component classes. \n",
    "    \n",
    "    * Focus: Building complex objects from simpler, independent parts. \n",
    "    \n",
    "Inheritance:\n",
    "    \n",
    "    * Relationship: \"Is-a\" relationship. A class (the subclass) inherits attributes and methods from another class (the superclass or base class).\n",
    "    \n",
    "    * Mechanism: The subclass extends the superclass, gaining its features and potntially adding or overriding them.\n",
    "    \n",
    "    * Focus: Creating specialized versions of existing classes, sharing common properties and behaviors.\n",
    "    \n",
    "    \n",
    "Key Differences:\n",
    "    \n",
    "    Feature : \n",
    "        \n",
    "    Relationship: \n",
    "        \n",
    "        Composition -- \"Has-a\"\n",
    "        \n",
    "        Inheritance ---\"Is-a\"\n",
    "        \n",
    "    \n",
    "    Mechanism:  \n",
    "        \n",
    "        composition: Instances as attributes\n",
    "        \n",
    "        Inheritance: Extension of a class\n",
    "        \n",
    "    Encapsulation: \n",
    "        \n",
    "        composition: Loose coupling \n",
    "        \n",
    "        inheritance: Tighter coupling \n",
    "        \n",
    "    \n",
    "    Flexibility: \n",
    "        \n",
    "        composition: Components easily replaceable\n",
    "        \n",
    "        inheritance: inheritance hierarchy can be more rigid\n",
    "        \n",
    "    Reusability: \n",
    "        \n",
    "        composition: components reusablee in multiple contexts \n",
    "        \n",
    "        inheritance: subclasses inherit all base class features, even unused\n",
    "        \n",
    "    Best for :\n",
    "        \n",
    "        composition:  building complex objects from independent parts\n",
    "        \n",
    "        inheritance: Modeling hierarchical relationships or specialization.\n",
    "        \n",
    "        \n",
    "When to Use Which: \n",
    "    \n",
    "    * Composition: \n",
    "        \n",
    "        * When you need to model a 'Whole-part' relationship between objects. \n",
    "        \n",
    "        * When you want to create flexible and reusable components. \n",
    "        \n",
    "        * when you want to avoid tight coupling between classes.\n",
    "        \n",
    "    * Inheritance: \n",
    "        \n",
    "        * When you need to create specialized versions of existing classes. \n",
    "        \n",
    "        * When you want to model a clear \"is-a\" relationship between objects.\n",
    "        \n",
    "        * When you want to share common code and behavior across classes. "
   ]
  },
  {
   "cell_type": "markdown",
   "id": "9668fdae-cdbe-458c-bb43-34a90de6d6cb",
   "metadata": {},
   "source": [
    "3. Create a Python class called \"Author\" with attributes for name and birthdate. Then, create a 'Book' class that contains an instance of 'Author' as a composition. Provide an example of creating a 'Book' object."
   ]
  },
  {
   "cell_type": "code",
   "execution_count": 20,
   "id": "1953464c-f9e9-4a8d-8070-22099f6ef7e9",
   "metadata": {},
   "outputs": [
    {
     "name": "stdout",
     "output_type": "stream",
     "text": [
      "Book title: The Lord of the Rings\n",
      "Author name: J.R.R Tolkien\n",
      "Author birthdate: 1892-01-03\n"
     ]
    }
   ],
   "source": [
    "class Author:\n",
    "    def __init__(self, name, birthdate):\n",
    "        self.name = name\n",
    "        self.birthdate = birthdate\n",
    "        \n",
    "class Book:\n",
    "    def __init__(self, title, author, publication_date):\n",
    "        self.title = title\n",
    "        self.author = author # composition book contains an author instance\n",
    "        self.publication_date = publication_date\n",
    "        \n",
    "        \n",
    "# Example of creating a book object\n",
    "author = Author(\"J.R.R Tolkien\", \"1892-01-03\")\n",
    "book = Book(\"The Lord of the Rings\", author, \"1954-07-29\")\n",
    "\n",
    "\n",
    "# Accessing information through composition\n",
    "print(f\"Book title: {book.title}\")\n",
    "print(f\"Author name: {book.author.name}\")\n",
    "print(f\"Author birthdate: {book.author.birthdate}\")"
   ]
  },
  {
   "cell_type": "markdown",
   "id": "4ba7a074-c258-4609-b55d-bae6c28832a2",
   "metadata": {},
   "source": [
    "Key points: \n",
    "    \n",
    "    * Author Class: Represents an author with name and birthdate attributes. \n",
    "    \n",
    "    * Book Class: Represents a book with title, author, (as an Author instance), and publication_date attributes.\n",
    "    \n",
    "    * Composition: The Book class holds a reference to an Author instance, creating a \"has-a\" relationship.\n",
    "    \n",
    "    * Accessing Information: You can access the author's information through the book object using dot notation (e.g., book.author.name).\n",
    "    \n",
    "    * Flexibility: The Author instance can be replaced or modified without affecting the Book class's structure, promoting adaptability."
   ]
  },
  {
   "cell_type": "markdown",
   "id": "afc17494-0b90-4343-9dc1-d703a50991e3",
   "metadata": {},
   "source": [
    "4. Discuss the benefits of using composition over inheritance in Python, especially in terms of code flexibility and reusability."
   ]
  },
  {
   "cell_type": "markdown",
   "id": "e40fbe1d-939c-4b2f-8eb3-cade28bcaae0",
   "metadata": {},
   "source": [
    "Benefits:\n",
    "    \n",
    "Flexibility: \n",
    "    \n",
    "    * Independent Components: Components in composition are independent objects, making them easier to modify, replace, or extend without affecting other parts of the system.\n",
    "    \n",
    "    * Dynamic Behavior: You can change the behavior of a composite object at runtime by assigning different component instances to its attributes, making the system more adaptable.\n",
    "    \n",
    "    * Loose Coupling: Classes are loosely coupled, reducing unintended side effects and promoting modularity. \n",
    "    \n",
    "Reusability: \n",
    "    \n",
    "    * Reusable Components: Components can be reused in multiple composite classes, reducing code duplication and promoting efficiency. \n",
    "    \n",
    "    * No Unnecessary Inheritance: You avoid creating large inheritance hierarchies wih classes inheriting features they don't need, leading to cleaner and more focused code. \n",
    "    \n",
    "    \n",
    "Additional Advantages:\n",
    "    \n",
    "    * Encapsulation: Each component encapsulates its own data and behavior, promoting better data protection and reducing complexity. \n",
    "    \n",
    "    * Testability: Components can be teste inependently, making it easier to identify and fix bugs. \n",
    "    \n",
    "    * Maintainability: Code is often easier to understand and maintain when using composition, as relationships between classes are more explicit. \n",
    "    \n",
    "    \n",
    "When to Prefer composition:\n",
    "    \n",
    "    * When nodeling \"has-a\" relationships between objects rather than \"is-a\" relationships. \n",
    "    \n",
    "    * When prioritizing flexibility and the ability to change components easily. \n",
    "    \n",
    "    * When aiming for high code reusability and avoiding tight coupling between classes.\n",
    "    \n",
    "    * When encapsulation and testability are crucial concerns. \n",
    "    "
   ]
  },
  {
   "cell_type": "markdown",
   "id": "fefbff71-f89e-4f72-842f-cd5850907bff",
   "metadata": {},
   "source": [
    "5. How can you implement composition in Python classes? Provide examples of using composition to create complex objects."
   ]
  },
  {
   "cell_type": "markdown",
   "id": "dcead95b-87c9-426f-962d-a0748127104f",
   "metadata": {},
   "source": [
    "Here's how to implement composition in Python classes, along with examples:\n",
    "\n",
    "Steps:\n",
    "    \n",
    "    1. Define Component Classes: Create classes representing the individual parts of the composite object, each with its own attributes and methods. \n",
    "    \n",
    "    2. Compose in the Whole Class: In the class representing the whole object, create attributes to hold references to instances of the component classes. \n",
    "    \n",
    "    3. Instantiate Components: In the constructor of the whole class, instantiate the component objects and assign them to the corresponding attributes. \n",
    "    \n",
    "    4. Interact with Components: Within the methods of the whole class, access and interact with the components' attributes and methods using dot notation.\n",
    "    \n",
    "Examples: \n",
    "    \n",
    "1. Computer System: "
   ]
  },
  {
   "cell_type": "code",
   "execution_count": 33,
   "id": "195a6b58-127a-4cdb-85e0-8a67a66facf8",
   "metadata": {},
   "outputs": [
    {
     "name": "stdout",
     "output_type": "stream",
     "text": [
      "CPU is processing the data\n",
      "RAM storing the data\n"
     ]
    }
   ],
   "source": [
    "class CPU:\n",
    "    def process_data(self, data):\n",
    "        self.data=data\n",
    "        \n",
    "class RAM:\n",
    "    def store_data(self, data):\n",
    "        self.data = data\n",
    "        \n",
    "class Computer:\n",
    "    def __init__(self):\n",
    "        self.cpu = CPU()\n",
    "        self.ram = RAM()\n",
    "        \n",
    "    def run_program(self, program):\n",
    "        # Interact with CPU and RAM to execute the program\n",
    "        self.cpu.process_data(program)\n",
    "        print('CPU is processing the data')\n",
    "        self.ram.store_data(program)\n",
    "        print('RAM storing the data')\n",
    "        \n",
    "        \n",
    "computer= Computer()\n",
    "computer.run_program(\"my_program.exe\")"
   ]
  },
  {
   "cell_type": "markdown",
   "id": "9c2849e1-2699-4e01-a6dd-3068b3e7016d",
   "metadata": {},
   "source": [
    "2. Vehicle:"
   ]
  },
  {
   "cell_type": "code",
   "execution_count": 39,
   "id": "0aa9bec1-8a52-4ef2-82bc-e97ca594bcfc",
   "metadata": {},
   "outputs": [
    {
     "name": "stdout",
     "output_type": "stream",
     "text": [
      "Engine has started\n",
      "Wheels are rotating\n"
     ]
    }
   ],
   "source": [
    "class Engine:\n",
    "    def start(self):\n",
    "        pass\n",
    "    \n",
    "class Wheel:\n",
    "    def rotate(self):\n",
    "        pass\n",
    "    \n",
    "class Car:\n",
    "    def __init__(self):\n",
    "        self.engine = Engine()\n",
    "        self.wheels = [Wheel() for _ in range(4)]\n",
    "        \n",
    "    def accelerate(self):\n",
    "        self.engine.start()\n",
    "        print(\"Engine has started\")\n",
    "        for wheel in self.wheels:\n",
    "            wheel.rotate()\n",
    "        \n",
    "        print('Wheels are rotating')\n",
    "              \n",
    "          \n",
    "      \n",
    "car = Car()\n",
    "car.accelerate()"
   ]
  },
  {
   "cell_type": "markdown",
   "id": "17e44d3d-322a-4b49-b15a-4e87b8bb0bca",
   "metadata": {},
   "source": [
    "3. Online Order:"
   ]
  },
  {
   "cell_type": "code",
   "execution_count": 53,
   "id": "722fd389-6d12-40ee-9a46-ae9f39ef60d2",
   "metadata": {},
   "outputs": [
    {
     "name": "stdout",
     "output_type": "stream",
     "text": [
      "Total Price: 750\n"
     ]
    }
   ],
   "source": [
    "class Item:\n",
    "    def __init__(self, name, price):\n",
    "        self.name = name \n",
    "        self.price = price\n",
    "        \n",
    "class Order():\n",
    "    def __init__(self):\n",
    "        self.items = []\n",
    "        \n",
    "    def add_item(self, item):\n",
    "        self.items.append(item)\n",
    "    def calculate_total(self):\n",
    "        total = sum(item.price for item in self.items)\n",
    "        return total\n",
    "    \n",
    "    \n",
    "order = Order()\n",
    "order.add_item(Item(\"T-shirt\", 250))\n",
    "order.add_item(Item(\"Shoes\", 500))\n",
    "total_price = order.calculate_total()\n",
    "print(\"Total Price:\", total_price)"
   ]
  },
  {
   "cell_type": "markdown",
   "id": "d9b60ad4-7e04-4b84-8985-d58a16a951c0",
   "metadata": {},
   "source": [
    "6. Create a Python class hierarchy for a music player system, using composition to represent playlists and songs."
   ]
  },
  {
   "cell_type": "code",
   "execution_count": 1,
   "id": "838c9584-123f-46da-a4fe-539c7f897933",
   "metadata": {},
   "outputs": [
    {
     "name": "stdout",
     "output_type": "stream",
     "text": [
      "Playing sond: Kabira\n",
      "Playing sond: Agar Tum Saath Ho\n",
      "Playing sond: Pehla Nasha\n"
     ]
    }
   ],
   "source": [
    "class Song:\n",
    "    def __init__(self, title, artist, album, genre, length):\n",
    "        self.title = title\n",
    "        self.artist = artist\n",
    "        self.album = album\n",
    "        self.genre = genre\n",
    "        self.length = length\n",
    "        \n",
    "    def play(self):\n",
    "        print(f\"Playing sond: {self.title}\")\n",
    "        \n",
    "class Playlist:\n",
    "    def __init__(self, name):\n",
    "        self.name = name\n",
    "        self.songs = []\n",
    "        \n",
    "    def add_song(self, song):\n",
    "        self.songs.append(song)\n",
    "        \n",
    "    def remove_song(self, song):\n",
    "        self.songs.remove(song)\n",
    "        \n",
    "    def play_all(self):\n",
    "        for song in  self.songs:\n",
    "            song.play()\n",
    "            \n",
    "class MusicPlayer:\n",
    "    def __init__(self):\n",
    "        self.playlists = []\n",
    "        \n",
    "    def create_playlist(self, name):\n",
    "        playlist = Playlist(name)\n",
    "        self.playlists.append(playlist)\n",
    "        return playlist\n",
    "    \n",
    "    def get_playlist(self, name):\n",
    "        for playlist in self.playlists:\n",
    "            if playlist.name == name:\n",
    "                return playlist\n",
    "            \n",
    "        return None\n",
    "    \n",
    "    \n",
    "    def play_playlist(self, playlist_name):\n",
    "        playlist = self.get_playlist(playlist_name)\n",
    "        if playlist:\n",
    "            playlist.play_all()\n",
    "        else:\n",
    "            print(f\"Playlist '{playlist_name}' not found.\")\n",
    "            \n",
    "player = MusicPlayer()\n",
    "\n",
    "# create some songs\n",
    "song1 = Song(\"Kabira\", \"Arjit Singh\", \"Yeh Jawaani Hai Deewani\", \"Hindi Pop\", 3.50)\n",
    "song2 = Song(\"Agar Tum Saath Ho\", \"Alka Yagnik, Arijit Singh\", \"Tamash\", \"Hindi Ballad\", 5.25)\n",
    "song3 = Song(\"Pehla Nasha\", \"Udit Narayan, Sadhana Sargam\", \"Jo Jeeta Wohi Sikandar\", \"Hindi Rock\", 4.30)\n",
    "\n",
    "# Create a playlist\n",
    "playlist = player.create_playlist(\"My favourite hindi songs.\")\n",
    "playlist.add_song(song1)\n",
    "playlist.add_song(song2)\n",
    "playlist.add_song(song3)\n",
    "\n",
    "# play the playlist\n",
    "player.play_playlist(\"My favourite hindi songs.\")"
   ]
  },
  {
   "cell_type": "markdown",
   "id": "bd9e5397-1dea-4c48-aeab-2a8225282c66",
   "metadata": {},
   "source": [
    "7. Explain the concept of \"has-a\" relationships in composition and how it helps design software systems."
   ]
  },
  {
   "cell_type": "markdown",
   "id": "ff519e3c-1e7a-4658-af33-44c1a11b0cfd",
   "metadata": {},
   "source": [
    "Understanding \"Has-A\" Relationships in Composition and Its Benefits for Software Design\n",
    "\n",
    "A \"has-a\" relationship in composition is a fundamental concept in object-oriented programming (OOP) where one class (the whole) contains instances of other classes (the parts) as its attributes. This creates a composite object formed from smaller, independent components.\n",
    "\n",
    "Think of it like building with Lego bricks, Each brich is an independent component with its own properties, while the assembled structure represents the composite object. The bricks (parts) \"belong to\" The structure (whole) andd contribute to its functionality.\n",
    "\n",
    "How it helps design software systems:\n",
    "    \n",
    "    * Modularity: Breaking down systems into smaller, reusable components with well-defined boundaries easier development, maintenance, and testing.\n",
    "    \n",
    "    * Flexibility: Data and behavior are encapsulated within individual components, preventing unauthorized access and improving data integrity. \n",
    "    \n",
    "    * Code Reusability: Components can be used across different composite objects, reducing cod duplication and promoting efficiency.\n",
    "    \n",
    "    * Loose Coupling: Dependencies between components are minimized, making the system less prone to cascading failures and easier to understand.\n",
    "    \n",
    "    \n",
    "    \n",
    "Benefits of Using \"Has-A\" over Inheritance:\n",
    "    \n",
    "    * Clarity: \"Has-a\" relationships are simpler and more explicit than inheritance hierarchies, reducing complexity and potential confusion. \n",
    "    \n",
    "    * Avoidance of Unnecessary Inheritance: You don't inherit unwanted features from base classes, promoting cleaner and more focused code.\n",
    "    \n",
    "    * Dynamic Composition: Components can be dynamically assigned or changed at runtime, enhancing flexibility and adaptability.\n",
    "    \n",
    "Example of \"Has-A\" relationships in action:\n",
    "    \n",
    "    * A car \"has-a\" engine, wheels, seats, etc.\n",
    "    \n",
    "    * A music player \"has-a\" playlist with songs.\n",
    "    \n",
    "    * A website \"has-a\" header, navigation bar, content sections, etc.\n",
    "    \n",
    "By understanding and leverating 'has-a' relationships effectively, you can design software system that are modular, flexible, maintainable, and reusable, leading to cleaner, more efficient, and adaptable code."
   ]
  },
  {
   "cell_type": "markdown",
   "id": "a0b73eb3-f69d-4db0-9c33-fbd1a3314a0b",
   "metadata": {},
   "source": [
    "8. Create a Python class for a computer system, using composition to represent components like CPU, RAM, and storage devices."
   ]
  },
  {
   "cell_type": "code",
   "execution_count": 3,
   "id": "e4a81c12-96be-4a39-ad9d-26609bd24095",
   "metadata": {},
   "outputs": [
    {
     "name": "stdout",
     "output_type": "stream",
     "text": [
      "Processing data: my_application.exe\n",
      "Storing data in RAM: my_application.exe\n",
      "Storing data on storage device: my_application.exe\n"
     ]
    }
   ],
   "source": [
    "class CPU:\n",
    "    def process_data(self, data):\n",
    "        print(f\"Processing data: {data}\")\n",
    "        \n",
    "class RAM:\n",
    "    def __init__(self, memory_size):\n",
    "        self.memory_size = memory_size\n",
    "        \n",
    "    def store_data(self, data):\n",
    "        print(f\"Storing data in RAM: {data}\")\n",
    "        \n",
    "class StorageDevice:\n",
    "    def __init__(self, storage_capacity):\n",
    "        self.storage_capacity = storage_capacity\n",
    "        \n",
    "    def store_data(self, data):\n",
    "        print(f\"Storing data on storage device: {data}\")\n",
    "        \n",
    "class Computer:\n",
    "    def __init__(self):\n",
    "        self.cpu = CPU()\n",
    "        self.ram = RAM(8) \n",
    "        self.storage = StorageDevice(500)\n",
    "        \n",
    "    def run_program(self, program):\n",
    "        self.cpu.process_data(program)\n",
    "        self.ram.store_data(program)\n",
    "        self.storage.store_data(program)\n",
    "        \n",
    "        \n",
    "computer = Computer()\n",
    "computer.run_program(\"my_application.exe\")"
   ]
  },
  {
   "cell_type": "markdown",
   "id": "5a714be6-c09e-4339-b129-40b3624b93fd",
   "metadata": {},
   "source": [
    "9. Describe the concept of \"delegation\" in composition and how it simplifies the design of complex systems."
   ]
  },
  {
   "cell_type": "markdown",
   "id": "b2383013-d06c-484c-a145-18a8c48f4579",
   "metadata": {},
   "source": [
    "In composition, delegation refers to the technique of one object (the delegate) forwarding a task or responsibility to another object (the receiver) to handle. This effectively allows the delegate to leverage the expertise and capabilities of the receiver for specific functionalities, rather than implementing them itself. \n",
    "\n",
    "Imagine you're building a car using Lego bricks. While the car body (delegate) needs wheels to move, it doesn't need the knowledge and complexity of constructing and rotating them (responsibility). Instead, it delegates this task to the wheel components (receivers), focusing on its own assembly and structure. \n",
    "\n",
    "Benefits of Delegation:\n",
    "    \n",
    "    * Simplified Design: The delegate object remains focused and clear, avoiding complex internal operations for specific tasks.\n",
    "    \n",
    "    * Code Reusability: The receiver object encapsulates specific functionality, enabling its reuse across different contexts and delegates. \n",
    "    \n",
    "    * Improved Modularity: Delegation promotes separation of concerns, making the system easier to understand, maintain, and test. \n",
    "    \n",
    "    * Flexibility: Changing or replacing the receiver object doesn't impact the delegate unless its interaction style differs. \n",
    "    \n",
    "    * Enhanced Functionality: The delegate can leverage the specialized skills of different receivers for various tasks.\n",
    "    \n",
    "\n",
    "Examples of Delegation in Composition:\n",
    "    \n",
    "    * A car's engine delegate forwards the acceleration command to the fuel injection system and ignition system receivers. \n",
    "    \n",
    "    * A computer's operating system delegate forwards device interactions (e.g., keyborad key presses) to the driver software receivers for specific devices. \n",
    "    \n",
    "    * A website's user interface delegate forwards click events on button elements to the event handler receivers associated with them. \n",
    "    \n",
    "    \n",
    "By effectively employing delegation, you can design clean, modular, and adaptable systems that leverage the strengths of individual components for a cohesive and efficient whole. "
   ]
  },
  {
   "cell_type": "markdown",
   "id": "216e67b6-683e-4384-a819-fb6bab177f7f",
   "metadata": {},
   "source": [
    "10. Create a Python class for a car, using composition to represent components like the engine, wheels, and transmission."
   ]
  },
  {
   "cell_type": "code",
   "execution_count": 7,
   "id": "71e14d47-2b30-4bbe-ba76-e4bb28aeafad",
   "metadata": {},
   "outputs": [
    {
     "name": "stdout",
     "output_type": "stream",
     "text": [
      "Engine started\n",
      "Accelerating\n",
      "front-left wheel rotating\n",
      "front-right wheel rotating\n",
      "rear-left wheel rotating\n",
      "rear-right wheel rotating\n",
      "Shifting to gear 3\n"
     ]
    }
   ],
   "source": [
    "class Engine:\n",
    "    def start(self):\n",
    "        print(\"Engine started\")\n",
    "        \n",
    "    def accelerate(self):\n",
    "        print(\"Accelerating\")\n",
    "        \n",
    "class Wheel:\n",
    "    def __init__(self, name, pressure):\n",
    "        self.name = name \n",
    "        self.pressure = pressure\n",
    "        \n",
    "    def rotate(self):\n",
    "        print(f\"{self.name} wheel rotating\")\n",
    "        \n",
    "class Transmission:\n",
    "    def shift_gear(self, gear):\n",
    "        print(f\"Shifting to gear {gear}\")\n",
    "        \n",
    "class Car:\n",
    "    def __init__(self):\n",
    "        self.engine = Engine()\n",
    "        self.wheels = [Wheel (\"front-left\", 32), Wheel(\"front-right\", 32),\n",
    "                       Wheel(\"rear-left\", 30), Wheel(\"rear-right\", 30)]\n",
    "        \n",
    "        self.transmission = Transmission()\n",
    "        \n",
    "        \n",
    "    def start(self):\n",
    "        self.engine.start()\n",
    "        \n",
    "    def accelerate(self):\n",
    "        self.engine.accelerate()\n",
    "        for wheel in self.wheels:\n",
    "            wheel.rotate()\n",
    "            \n",
    "    def shift_gear(self, gear):\n",
    "        self.transmission.shift_gear(gear)\n",
    "        \n",
    "        \n",
    "car=Car()\n",
    "car.start()\n",
    "car.accelerate()\n",
    "car.shift_gear(3)"
   ]
  },
  {
   "cell_type": "markdown",
   "id": "38e63b99-00f5-4a5e-bad8-37d743d7890d",
   "metadata": {},
   "source": [
    "11. How can you encapsulate and hide the details of composed objects in Python classes to maintain abstraction?"
   ]
  },
  {
   "cell_type": "markdown",
   "id": "93751eb1-acf8-45b6-a1aa-58cec8c18199",
   "metadata": {},
   "source": [
    "Here are key techniques to encapsulate and hide composed object details in Python classes for abstraction:\n",
    "    \n",
    "1. Private Attributes:\n",
    "    \n",
    "    * Prefix attribute names with double underscores (__) to prevent direct access from outside the class. \n",
    "    \n",
    "    * Enforces data hiding and prevents unintended modifications. "
   ]
  },
  {
   "cell_type": "code",
   "execution_count": 17,
   "id": "7b2ddd9a-2064-4a8e-9a6c-7ac00dfb097a",
   "metadata": {},
   "outputs": [
    {
     "name": "stdout",
     "output_type": "stream",
     "text": [
      "Engine started\n"
     ]
    }
   ],
   "source": [
    "class Car:\n",
    "    def __init__(self):\n",
    "        self.__engine = Engine()  # private attribute\n",
    "        \n",
    "    def start(self):\n",
    "        self.__engine.start() # accessing private attribute within the class\n",
    "        \n",
    "car = Car()\n",
    "\n",
    "# start the car\n",
    "car.start()"
   ]
  },
  {
   "cell_type": "markdown",
   "id": "f12ff1b3-fab7-4c42-9fef-56ea6f25deb0",
   "metadata": {},
   "source": [
    "2. Public Methods for Controlled Access:\n",
    "    \n",
    "    * Provide public methods as the interface for interacting with encapsulated components. \n",
    "    \n",
    "    * Mediates access and actions on those components, maintaining abstraction. "
   ]
  },
  {
   "cell_type": "code",
   "execution_count": 10,
   "id": "15980a12-9adc-46fa-85bd-6964046d4a7b",
   "metadata": {},
   "outputs": [],
   "source": [
    "class Car:\n",
    "    def __init__(self):\n",
    "        self.__engine = Engine() # private attribute\n",
    "        \n",
    "    def accelerate(self):\n",
    "        self.__engine.accelerate() # Controlled access through public method\n",
    "        \n",
    "        "
   ]
  },
  {
   "cell_type": "markdown",
   "id": "127dec90-ef3d-4c22-b9dc-be9aa4f7bf2c",
   "metadata": {},
   "source": [
    "3. Property Methods for Controlled Attribute Access:\n",
    "    \n",
    "    * Use @property decorators to create getter and setter methods for attributes. \n",
    "    \n",
    "    * Provides a controlled interface for accessing and modifying attributes, enforcing validation and logic. "
   ]
  },
  {
   "cell_type": "code",
   "execution_count": 15,
   "id": "02f8ed7f-ed7b-4399-8b48-0354fb8f14e0",
   "metadata": {},
   "outputs": [
    {
     "name": "stdout",
     "output_type": "stream",
     "text": [
      "Invalid speed\n"
     ]
    }
   ],
   "source": [
    "class Car:\n",
    "    def __init__(self):\n",
    "        self.__speed = 0\n",
    "        \n",
    "    @property\n",
    "    def speed(self):\n",
    "        return self.__speed\n",
    "    \n",
    "    @speed.setter\n",
    "    def speed(self, new_speed):\n",
    "        if 0 <= new_speed <=200:\n",
    "            self.__speed = new_speed\n",
    "            \n",
    "        else:\n",
    "            raise ValueError(\"Invalid speed\")\n",
    "            \n",
    "car = Car()\n",
    "\n",
    "# Access the speed (using the property getter) \n",
    "current_speed = 100 \n",
    "\n",
    "# try setting an invalid speed\n",
    "try:\n",
    "    car.speed = 300\n",
    "except ValueError as e:\n",
    "    print(e) "
   ]
  },
  {
   "cell_type": "markdown",
   "id": "32152d5c-7a3d-4d1f-af8b-14edd6de4ffa",
   "metadata": {},
   "source": [
    "4. Composition with Interfaces:\n",
    "    \n",
    "    * Define interfaces (abstract base classes) specifying expected methods for composed objects.\n",
    "    \n",
    "    * Compose with objects that conform to the interface, reducing coupling and promoting flexibility."
   ]
  },
  {
   "cell_type": "code",
   "execution_count": 23,
   "id": "9e803270-24ea-4be0-97fe-33d9c9ad78ec",
   "metadata": {},
   "outputs": [],
   "source": [
    "class EngineInterface:\n",
    "    def start(self):\n",
    "        raise NotImplementedError\n",
    "        \n",
    "    def accelerate(self):\n",
    "        raise NotImplementedError\n",
    "        \n",
    "class Car:\n",
    "    def __init__(self, engine):\n",
    "        if not isinstance(engine, EngineInterface):\n",
    "            raise TypeError(\"Invalid engine type\")\n",
    "            \n",
    "        self.engine = engine\n",
    "        \n",
    "    def start(self):\n",
    "        self.engine.start()"
   ]
  },
  {
   "cell_type": "markdown",
   "id": "9f0d85f8-2640-43ac-afc0-f889b288e248",
   "metadata": {},
   "source": [
    "5. Avoid Exposing Internal Components:\n",
    "    \n",
    "    * Don't return references to internal components from public methods. \n",
    "    \n",
    "    * Maintain control over interactions with composed objects.\n",
    "    \n",
    "By following these techniques, you promote abstraction, maintainability, and flexibility in your Python classes, hiding implementation details and ensuring controlled interactions with composed objects."
   ]
  },
  {
   "cell_type": "markdown",
   "id": "e5f08f77-6f1d-451a-8531-17fbe53b4ece",
   "metadata": {},
   "source": [
    "12. Create a Python class for a university course, composition to represent students, instructors, and course materials."
   ]
  },
  {
   "cell_type": "code",
   "execution_count": 25,
   "id": "d0c7e139-69de-4ab9-ad23-55ef86d91447",
   "metadata": {},
   "outputs": [
    {
     "name": "stdout",
     "output_type": "stream",
     "text": [
      "Course Name: CS101: Python Programming\n",
      "Instructor: Dr. Alice Smith (Computer Science)\n",
      "Materials:\n",
      "- Introduction to Python\n",
      "- Weekly coding assignments\n",
      "Enrolled Students:\n",
      "- John Doe 12345\n",
      "- Jane Smith 67890\n"
     ]
    }
   ],
   "source": [
    "class Student:\n",
    "    def __init__(self, name, id_number):\n",
    "        self.name = name\n",
    "        self.id_number = id_number\n",
    "        \n",
    "class Instructor:\n",
    "    def __init__(self, name, department):\n",
    "        self.name = name\n",
    "        self.department = department\n",
    "        \n",
    "class CourseMaterial:\n",
    "    def __init__(self, title, content):\n",
    "        self.title = title\n",
    "        self.content = content\n",
    "        \n",
    "class Course:\n",
    "    def __init__(self, name, instructor, materials):\n",
    "        self.name = name \n",
    "        self.instructor = instructor\n",
    "        self.materials = materials # list of coursematerial objects\n",
    "        self.students = [] # list of student objects\n",
    "        \n",
    "    def enroll_student(self, student):\n",
    "        self.students.append(student)\n",
    "        \n",
    "        \n",
    "    def get_enrolled_students(self):\n",
    "        return self.students\n",
    "    \n",
    "    def display_course_info(self):\n",
    "        print(\"Course Name:\", self.name)\n",
    "        print(\"Instructor:\", self.instructor.name, \"(\" + self.instructor.department + \")\")\n",
    "        print(\"Materials:\")\n",
    "        for material in self.materials:\n",
    "            print(\"-\", material.title)\n",
    "            \n",
    "        print(\"Enrolled Students:\")\n",
    "        for student in self.students:\n",
    "            print(\"-\", student.name, student.id_number)\n",
    "            \n",
    "# create course materials\n",
    "materials = [CourseMaterial(\"Introduction to Python\", \"Textbook and online lectures\"),\n",
    "             CourseMaterial(\"Weekly coding assignments\", \"Programming exercises\"),]\n",
    "\n",
    "# Create an instructor\n",
    "instructor = Instructor(\"Dr. Alice Smith\", \"Computer Science\")\n",
    "# create a course\n",
    "course = Course(\"CS101: Python Programming\", instructor, materials)\n",
    "\n",
    "# Enroll students\n",
    "course.enroll_student(Student(\"John Doe\", 12345))\n",
    "course.enroll_student(Student(\"Jane Smith\", 67890))\n",
    "\n",
    "# Display course information\n",
    "course.display_course_info()"
   ]
  },
  {
   "cell_type": "markdown",
   "id": "4dffe071-78c4-48a6-8ae8-65c5781984ab",
   "metadata": {},
   "source": [
    "13. Discuss the challenges and drawbacks of composition, such as increased complexity and potential for tight coupling between objects."
   ]
  },
  {
   "cell_type": "markdown",
   "id": "a21f9177-3273-454f-8ab3-5d79079a823e",
   "metadata": {},
   "source": [
    "Challeges and Drawbacks of Composition\n",
    "\n",
    "While composition offers numerous benefits for designing software systems, it's not without its challenges and drawbacks. Here are some key points to consider:\n",
    "\n",
    "Increased Complexity:\n",
    "    \n",
    "    * Designing and understanding intricate relationships between composed objects can become complex, especially for larger systems.\n",
    "    \n",
    "    * Managing numerous object instances and their interactions can add cognitive overhead for developers.\n",
    "    \n",
    "    * Debugging issues might involve tracing through multiple composed objects, increasing difficulty.\n",
    "    \n",
    "Tight Coupling:\n",
    "    \n",
    "    * Objects composed within a higher-level object can become tightly coupled, meaning changes in one object necessitate changes in others.\n",
    "    \n",
    "    * This tight coupling reduces flexibility and modularity, making it harder to modify or reuse individual components independently.\n",
    "    \n",
    "    * Over-reliance on specific implementations within composed objects can make the system brittle and prone to errors.\n",
    "    \n",
    "Other Drawbacks:\n",
    "    \n",
    "    * Performance Overhead: Creating and managing numerous objects can impose performance overhead, especially in resource-constrained environments.\n",
    "    \n",
    "    * Increased Abstraction: While beneficial in some cases, excessive abstraction through nested compositions can make the code harder to read and understand for newcomers.\n",
    "    \n",
    "Addressing the Challenges:\n",
    "    \n",
    "    * Clear Design and Documentation: Implementating clear naming conventions, documentation, and design patterns can improve code readability and understanding.\n",
    "    \n",
    "    * Favor Loose Coupling: Strive for loosely coupled relationships between composed objects, relying on well-defined interfaces and contracts.\n",
    "    \n",
    "    * Use Appropriate Tools: Leverage tools like dependency injection and dependency management to manage complex compositions efficiently. \n",
    "    \n",
    "    * Balance Abstraction: Maintain a balance between abstraction and clarity, avoiding excessive nesting that obscures code logic.\n",
    "    \n",
    "Choosing the Right Approach:\n",
    "    \n",
    "Ultimately, the decision to use composition depends on the specific context and purpose of your system. It's vital to weigh the benefits against the potential drawbacks and consider alternative approaches like inheritancee or aggregation to find the most effective solution for your problem. "
   ]
  },
  {
   "cell_type": "markdown",
   "id": "e52394f5-6575-46ba-ad0a-6e3ba3ffb554",
   "metadata": {},
   "source": [
    "14. Create a Python class hierarchy for a restaurant system, using composition to represent menus, dishes, and ingredients. "
   ]
  },
  {
   "cell_type": "code",
   "execution_count": 33,
   "id": "6a6f491f-164c-4a8a-8c24-fd75f82c6adc",
   "metadata": {},
   "outputs": [
    {
     "name": "stdout",
     "output_type": "stream",
     "text": [
      "Main Menu:\n",
      "- Pizza (15)\n",
      "- Checken Fried Rice (12)\n",
      "Pizza ingredients:\n",
      "tomato 2\n",
      "cheese 3\n",
      "flour 1\n",
      "Total cost of Chicken Fried Rice: 462\n"
     ]
    }
   ],
   "source": [
    "class Ingredient:\n",
    "    def __init__(self, name, quantity, price):\n",
    "        self.name = name\n",
    "        self.quantity = quantity\n",
    "        self.price = price\n",
    "    \n",
    "    def get_price(self):\n",
    "        return self.price\n",
    "        \n",
    "class Dish:\n",
    "    def __init__(self, name, price, ingredients):\n",
    "        self.name = name\n",
    "        self.price = price\n",
    "        self.ingredients = ingredients # List of ingredient objects\n",
    "        \n",
    "        \n",
    "    def get_ingredients(self):\n",
    "        return self.ingredients\n",
    "    \n",
    "    def get_total_cost(self):\n",
    "        total_cost = 0\n",
    "        for ingredient in self.ingredients:\n",
    "            # assuming ingredient prices are available (e.g., from a database)\n",
    "            total_cost+=ingredient.quantity * ingredient.get_price() # Hypothetical method\n",
    "            \n",
    "        return total_cost\n",
    "    \n",
    "class Menu:\n",
    "    def __init__(self, name, dishes):\n",
    "        self.name = name\n",
    "        self.dishes = dishes # list of dish objects\n",
    "        \n",
    "    def add_dish(self, dish):\n",
    "        self.dishes.append(dish)\n",
    "        \n",
    "    def get_dishes(self):\n",
    "        return self.dishes\n",
    "    \n",
    "class Restaurant:\n",
    "    def __init__(self, name, menus):\n",
    "        self.name = name \n",
    "        self.menus =menus  # List of menu objects\n",
    "        \n",
    "    def display_menu(self, menu_name):\n",
    "        for menu in self.menus:\n",
    "            if menu.name == menu_name:\n",
    "                print(menu.name +\":\")\n",
    "                for dish in menu.dishes:\n",
    "                    print(f\"- {dish.name} ({dish.price})\")\n",
    "                \n",
    "                return \n",
    "        print(\"Menu not found.\")\n",
    "        \n",
    "# create ingredients\n",
    "ingredients = [Ingredient(\"tomato\", 2, 50),\n",
    "               Ingredient(\"cheese\", 3, 40),\n",
    "               Ingredient(\"flour\", 1, 345),\n",
    "               Ingredient(\"chicken\", 4, 54), \n",
    "               Ingredient(\"rice\",2, 123),]\n",
    "\n",
    "# create dishes\n",
    "dishes = [Dish(\"Pizza\", 15, [ingredients[0], ingredients[1], ingredients[2]]), \n",
    "          Dish(\"Checken Fried Rice\", 12, [ingredients[3], ingredients[4]]),]\n",
    "\n",
    "# create menus\n",
    "menus = [ Menu(\"Main Menu\", dishes), ]\n",
    "\n",
    "# create a restaurant\n",
    "restaurant = Restaurant(\"My Restaurant\", menus)\n",
    "\n",
    "# display a menu\n",
    "restaurant.display_menu(\"Main Menu\")\n",
    "\n",
    "# get ingredients for a dish\n",
    "pizza_ingredients = dishes[0].get_ingredients()\n",
    "print(\"Pizza ingredients:\")\n",
    "for ingredient in pizza_ingredients:\n",
    "    print(ingredient.name, ingredient.quantity)\n",
    "    \n",
    "# calculate total cost of a dish (assuming ingredient prices are available)\n",
    "dish_cost = dishes[1].get_total_cost()\n",
    "print(\"Total cost of Chicken Fried Rice:\", dish_cost)"
   ]
  },
  {
   "cell_type": "markdown",
   "id": "d4441a6f-2de1-460e-957d-4a3dcf6b026b",
   "metadata": {},
   "source": [
    "15. Explain how composition enhances code maintainability and modularity in Python programs."
   ]
  },
  {
   "cell_type": "markdown",
   "id": "5a204116-f947-4df7-a553-766e03774b2b",
   "metadata": {},
   "source": [
    "Composition enhances code maintainability and modularity in Python program through several key mechanisms:\n",
    "    \n",
    "1. Encapsulation:\n",
    "    \n",
    "    * Encapsulating components: Each component is a self-contained object with its own data and behavior, promoting clear boundaries and reducing dependencies.\n",
    "    \n",
    "    * Isolating changes: Modifications to one component's internal logic are less likely to impact other parts of the system, minimizing unintended side effects.\n",
    "    \n",
    "    * Controlling access: Public interfaces define how other components interact with an object, internal detail and reducing complexity. \n",
    "    \n",
    "2. Modularity:\n",
    "    \n",
    "    * Break down large systems: Complex systems are decomposed into smaller, more manageable components, each responsible for a specific task.\n",
    "    \n",
    "    * Improved comprehension: Smaller, well-defined components are easier to understand, test, and reason about individually.\n",
    "    \n",
    "    * Reusability: Components can be reused in different contexts, promoting code efficiency and reducing redundancy. \n",
    "    \n",
    "3. Loose Coupling:\n",
    "    \n",
    "    * Flexible relationships: Components depend on each other's interfaces rather than their concrete implementations, allowing for easier modifications and substitutions. \n",
    "    \n",
    "    * Reduced rippling effects: Changes to one component are less likely to cascade through the entire system, easing maintenance and evolution. \n",
    "    \n",
    "4. Simplified Testing:\n",
    "    \n",
    "    * Isolated testing: Individual components can be tested independently, ensuring their correctness and reducing testing complexity. \n",
    "    \n",
    "    * Mocking dependencies: In unit testing, you can easily replace dependent components with mock \n",
    "    \n",
    "5. Enhanced Readability:\n",
    "    \n",
    "    * Clearer code structure: Composition makes code more readable by revealing the relationships and interactions between components.\n",
    "    \n",
    "    * Self-documenting code: Well-named components and interfaces often make code more self-explanatory, reducing the need for extensive comments. \n",
    "    \n",
    "6. Improved Maintainability:\n",
    "    \n",
    "    * Easier modifications: It's simpler to add, remove, or modify components without affecting the overall structure or other parts of the system. \n",
    "    \n",
    "    * Incremental changes: You can make changess incrementally, focusing on smaller, more manageable sections of code.\n",
    "    \n",
    "7. Enhanced Code Reuse:\n",
    "    \n",
    "    * Reusable components: Composed components can be reused in different contexts, promoting code efficiency and reducing redundancy.\n",
    "    \n",
    "    * composable building blocks: Components serve as building blocks for creating new, more complex systems. \n",
    "    \n",
    "    \n",
    "    \n",
    "In summary, composition fosters maintainable and modular code by promoting encapsulation, loose coupling, well-defined interfaces, and independent components, leading to more readable, testable, adaptable, and reusable Python programs."
   ]
  },
  {
   "cell_type": "markdown",
   "id": "454bb710-c449-454a-a3bf-646050c73602",
   "metadata": {},
   "source": [
    "16. Create a Python class for a computer game character, using composition to represent attributes like weapons, armor, and inventory. "
   ]
  },
  {
   "cell_type": "code",
   "execution_count": 4,
   "id": "8939e979-25c1-406c-9852-7a12bbd69895",
   "metadata": {},
   "outputs": [
    {
     "name": "stdout",
     "output_type": "stream",
     "text": [
      "Alice attacks Goblin with Sword for 13 damage!\n",
      "Inventory: ['Potion', 'Gold']\n"
     ]
    }
   ],
   "source": [
    "class Weapon:\n",
    "    def __init__(self, name, damage):\n",
    "        self.name = name\n",
    "        self.damage = damage\n",
    "        \n",
    "class Armor:\n",
    "    def __init__(self, name, defense):\n",
    "        self.name = name\n",
    "        self.defense = defense \n",
    "        \n",
    "class Inventory:\n",
    "    def __init__(self, capacity):\n",
    "        self.items = []\n",
    "        self.capacity = capacity\n",
    "        \n",
    "    def add_item(self, item):\n",
    "        if len(self.items) < self.capacity:\n",
    "            self.items.append(item)\n",
    "        else:\n",
    "            print(\"Inventory is full!\")\n",
    "            \n",
    "    def remove_item(self, item):\n",
    "        self.items.remove(item)\n",
    "        \n",
    "class Character:\n",
    "    def __init__(self, name, health, strength, dexterity):\n",
    "        self.name = name \n",
    "        self.health = health\n",
    "        self.strength = strength\n",
    "        self.dexterity = dexterity\n",
    "        self.weapon = None\n",
    "        self.armor = None\n",
    "        self.inventory = Inventory(10) # example capacity\n",
    "        \n",
    "    def equip_weapon(self, weapon):\n",
    "        self.weapon = weapon\n",
    "        \n",
    "    def equip_armor(self, armor):\n",
    "        self.armor = armor\n",
    "        \n",
    "    def attack(self, target):\n",
    "        if self.weapon:\n",
    "            damage = self.strength + self.weapon.damage\n",
    "            print(f\"{self.name} attacks {target.name} with {self.weapon.name} for {damage} damage!\")\n",
    "            \n",
    "        else:\n",
    "            print(f\"{self.name} attacks {target.name} with bare hands for {self.strength} damage!\")\n",
    "        target.health -= damage\n",
    "        \n",
    "\n",
    "        \n",
    "sword = Weapon(\"Sword\", 5)\n",
    "shield = Armor(\"Shield\", 3)\n",
    "\n",
    "# create characters\n",
    "player = Character(\"Alice\", 100, 8, 12)\n",
    "enemy = Character(\"Goblin\", 60, 5, 7)\n",
    "\n",
    "player.equip_weapon(sword)\n",
    "player.equip_armor(shield)\n",
    "\n",
    "player.inventory.add_item(\"Potion\")\n",
    "player.inventory.add_item(\"Gold\")\n",
    "\n",
    "player.attack(enemy)\n",
    "\n",
    "print(\"Inventory:\", player.inventory.items)"
   ]
  },
  {
   "cell_type": "markdown",
   "id": "e94dd3da-318b-4b42-bb4e-2f545b6d0d80",
   "metadata": {},
   "source": [
    "17. Describe the concept of 'aggregation' in composition and how it differs from simple composition."
   ]
  },
  {
   "cell_type": "markdown",
   "id": "a21908a5-74b5-4f4e-b691-2f859252ef39",
   "metadata": {},
   "source": [
    "Aggregation and composition are both ways to combine objects in object-oriented programming, but they differ in the nature of the relationship between the objects:\n",
    "    \n",
    "Simple Composition:\n",
    "    \n",
    "    * \"Has-A\" relationship: The parent object contains and owns the child object entirly. \n",
    "    \n",
    "    * Lifetime dependency: When the parent object is destroyed, the child object is also destroyed. \n",
    "    \n",
    "    * Strong dependency: The child object cannot exist independently of the parent object. \n",
    "    \n",
    "    * Example: A car has-a engine. When the car is scrapped, the engine is also scrapped. \n",
    "    \n",
    "Aggregation:\n",
    "    \n",
    "    *\"Has-A\" relationship: Similar to composition, the parent object 'has' the child object. \n",
    "    \n",
    "    * Independent lifetimes: The parent and child objects have separate lifecycles. kThe child object can exist independently of the parent object and vice versa. \n",
    "    \n",
    "    * Weaker dependency: The child object is not owned by the parent and can be used by other objects. \n",
    "    \n",
    "    * Example: A university has-a department. Even if the university closes, the department may still exist and be affiliated with another institution. \n",
    "    \n",
    "Key Differences:\n",
    "    \n",
    "    * Lifecycle: The main difference lies in the lifetime of the child object. In composition, the child's life is tied to the parent, while in aggregation, they are independent. \n",
    "    \n",
    "    * Ownership: Composition implies ownership, and the child is responsible for its own management. \n",
    "    \n",
    "    * Control: The parent has more control over the child in composition, while in aggregation, the child is free to interact with other objects and have its own behavior. \n",
    "    \n",
    "    \n",
    "Choosing between Composition and Aggregation:\n",
    "    \n",
    "    When choosing between composition and aggregation, consider the nature of the relationshp between the objects. If the child object is an inherent part of the parent and cannot exist independently, use composition. If the child object has its own life and functionality and only interacts with the parent in a specific context, use aggregation."
   ]
  },
  {
   "cell_type": "markdown",
   "id": "ad0958dd-d0ee-4c3e-a27a-523d89831936",
   "metadata": {},
   "source": [
    "18. Create a Python class for a house, using composition to represent rooms, furniture, and appliances."
   ]
  },
  {
   "cell_type": "code",
   "execution_count": 5,
   "id": "2bb77360-208b-4a14-ae1e-12289cf93349",
   "metadata": {},
   "outputs": [
    {
     "name": "stdout",
     "output_type": "stream",
     "text": [
      "House at 123 Main St with 2 floors:\n",
      "-Living Room (300 sq ft)\n",
      " Furniture:\n",
      "   - Sofa (Leather)\n",
      "  Appliances:\n",
      "   - TV (Ssmsung)\n",
      "-Kitchen (200 sq ft)\n",
      "  Appliances:\n",
      "   - Refrigerator (LG)\n"
     ]
    }
   ],
   "source": [
    "class Room:\n",
    "    def __init__(self, name, size, windows=0):\n",
    "        self.name = name \n",
    "        self.size = size \n",
    "        self.windows = windows\n",
    "        self.furniture = []\n",
    "        self.appliances = []\n",
    "        \n",
    "class Furniture:\n",
    "    def __init__(self, name, material, size):\n",
    "        self.name = name\n",
    "        self.material = material\n",
    "        self.size = size \n",
    "        \n",
    "class Appliance:\n",
    "    def __init__(self, name, brand, energy_usage):\n",
    "        self.name = name \n",
    "        self.brand = brand\n",
    "        self.energy_usage = energy_usage\n",
    "        \n",
    "class House:\n",
    "    def __init__(self, address, num_floors):\n",
    "        self.address = address\n",
    "        self.num_floors = num_floors\n",
    "        self.rooms = []\n",
    "        \n",
    "    def add_room(self, room):\n",
    "        self.rooms.append(room)\n",
    "        \n",
    "    def describe(self):\n",
    "        print(f\"House at {self.address} with {self.num_floors} floors:\")\n",
    "        for room in self.rooms:\n",
    "            print(f\"-{room.name} ({room.size} sq ft)\")\n",
    "            if room.furniture:\n",
    "                print(\" Furniture:\")\n",
    "                for furniture in room.furniture:\n",
    "                    print(f\"   - {furniture.name} ({furniture.material})\")\n",
    "                    \n",
    "            if room.appliances:\n",
    "                print(\"  Appliances:\")\n",
    "                for appliance in room.appliances:\n",
    "                    print(f\"   - {appliance.name} ({appliance.brand})\")\n",
    "                    \n",
    "                    \n",
    "# Example usage \n",
    "house = House(\"123 Main St\", 2)\n",
    "\n",
    "living_room = Room(\"Living Room\", 300, 2)\n",
    "sofa = Furniture(\"Sofa\", \"Leather\", \"Large\")\n",
    "tv = Appliance(\"TV\", \"Ssmsung\", \"100W\")\n",
    "living_room.furniture = [sofa]\n",
    "living_room.appliances = [tv]\n",
    "\n",
    "kitchen = Room(\"Kitchen\", 200, 1)\n",
    "fridge = Appliance('Refrigerator', 'LG', '200W')\n",
    "kitchen.appliances = [fridge]\n",
    "\n",
    "house.add_room(living_room)\n",
    "house.add_room(kitchen)\n",
    "\n",
    "house.describe()"
   ]
  },
  {
   "cell_type": "markdown",
   "id": "e3ad0887-5517-456e-947e-894e4226a899",
   "metadata": {},
   "source": [
    "19. How can you achieve flexibility in composed objects by allowing them to be replaced or modified dynamically at runtime?"
   ]
  },
  {
   "cell_type": "markdown",
   "id": "45dcd71e-3ba7-45df-a169-efc44884e412",
   "metadata": {},
   "source": [
    "Here are several techniques to achiev flexibility in composed ojects through dynamic replacement or modification at runtime:\n",
    "    \n",
    "    1. Setter Methods:\n",
    "        \n",
    "        * Provide public setter methods within the composite object to allow external code to change its internal components.\n",
    "        \n",
    "        * Example: car.setEngine(newEngine)\n",
    "        \n",
    "    2. Constructor Overloading:\n",
    "        \n",
    "        * Offer multiple constructors that accept different combinations of component objects, enabling flexibility during object creation. \n",
    "        \n",
    "        * Example: Car(Engine engine, Wheel[] wheels) or Car(Engine engine)\n",
    "        \n",
    "    3. Factory Methods:\n",
    "        \n",
    "        * Encapsulate object creation within factory methods that can conditionally produce different object configurations at runtime.  \n",
    "        \n",
    "        * Example: CarFactory.createSportsCar() or CarFactory.createHybridCar()\n",
    "        \n",
    "    4. Dependncy Injection:\n",
    "        \n",
    "        * Inject required components into an object through its constructor or setter methods, promoting loose coupling and testability.\n",
    "        \n",
    "        * Example: Car(EngineProvider engineProvider)\n",
    "        \n",
    "    5. Strategy Pattern:\n",
    "        \n",
    "        * Encapsulate algorithms or behaviors within separate strategy objects that can be interchanged at runtime to alter the composite object's behavior. \n",
    "        \n",
    "        * Example:\n",
    "            car.setDrivingStrategy(newAggressiveDrivingStrategy())\n",
    "            \n",
    "    6. Decorator Pattern:\n",
    "        \n",
    "        * Dynamically add or remove responsibilities to an object by wrapping it in layers of decorators that can modify its behavior.\n",
    "        \n",
    "        * Example: CarWithTurbo = new TurboDecorator(baseCar)\n",
    "        \n",
    "    7. Reflection (Language-Specific):\n",
    "        \n",
    "        * Use language features like reflection to access and modify object properties or methods at runtime.\n",
    "        \n",
    "        * Example: Using Java Reflection to change a private field's value. \n",
    "        \n",
    "    \n",
    "Key Considerations:\n",
    "    \n",
    "    * Design for flexibility: Plan for potential runtime changes during object desing.\n",
    "    \n",
    "    * Encapsulation: Balance flexibility with encapsulation to protect object integrity.\n",
    "    \n",
    "    * testing: Thoroughly test scenarios involving dynamic modification to ensure proper behavior. \n",
    "    \n",
    "    * Performance: Consider performance implications of runtime modifications, especially in resource-constrained environments.\n",
    "    \n",
    "    * Language Features: Leverage language-specific features like reflextion for advanced dynamic capabilities. "
   ]
  },
  {
   "cell_type": "markdown",
   "id": "76683262-e838-44ff-b6fd-abf4ea80404b",
   "metadata": {},
   "source": [
    "20. Create a Python class for a social media application, using composition to represent users, posts, and comments."
   ]
  },
  {
   "cell_type": "code",
   "execution_count": 23,
   "id": "9f2b8465-c355-474c-a6db-80d79bd6741c",
   "metadata": {},
   "outputs": [
    {
     "name": "stdout",
     "output_type": "stream",
     "text": [
      "Post by Alice: Hello, this is my first post!\n",
      "- Comment by Bob: Nice post, Alice!\n"
     ]
    }
   ],
   "source": [
    "class Comment:\n",
    "    def __init__(self, text, user):\n",
    "        self.text = text\n",
    "        self.user = user\n",
    "\n",
    "class Post:\n",
    "    def __init__(self, content, user):\n",
    "        self.content = content\n",
    "        self.user = user\n",
    "        self.comments = []\n",
    "\n",
    "    def add_comment(self, text, user):\n",
    "        comment = Comment(text, user)\n",
    "        self.comments.append(comment)\n",
    "\n",
    "class User:\n",
    "    def __init__(self, username):\n",
    "        self.username = username\n",
    "        self.posts = []\n",
    "\n",
    "    def create_post(self, content):\n",
    "        post = Post(content, self)\n",
    "        self.posts.append(post)\n",
    "        return post\n",
    "\n",
    "    def comment_on_post(self, post, text):\n",
    "        post.add_comment(text, self)\n",
    "\n",
    "\n",
    "# Usage example:\n",
    "if __name__ == \"__main__\":\n",
    "    # Creating users\n",
    "    user1 = User(\"Alice\")\n",
    "    user2 = User(\"Bob\")\n",
    "\n",
    "    # Alice creates a post\n",
    "    post1 = user1.create_post(\"Hello, this is my first post!\")\n",
    "\n",
    "    # Bob comments on Alice's post\n",
    "    user2.comment_on_post(post1, \"Nice post, Alice!\")\n",
    "\n",
    "    # Displaying posts and comments\n",
    "    for post in user1.posts:\n",
    "        print(f\"Post by {post.user.username}: {post.content}\")\n",
    "        for comment in post.comments:\n",
    "            print(f\"- Comment by {comment.user.username}: {comment.text}\")\n"
   ]
  },
  {
   "cell_type": "code",
   "execution_count": null,
   "id": "6ab17b01-a1d8-4d3d-bd5c-60a81fec7c8c",
   "metadata": {},
   "outputs": [],
   "source": []
  }
 ],
 "metadata": {
  "kernelspec": {
   "display_name": "Python 3 (ipykernel)",
   "language": "python",
   "name": "python3"
  },
  "language_info": {
   "codemirror_mode": {
    "name": "ipython",
    "version": 3
   },
   "file_extension": ".py",
   "mimetype": "text/x-python",
   "name": "python",
   "nbconvert_exporter": "python",
   "pygments_lexer": "ipython3",
   "version": "3.10.8"
  }
 },
 "nbformat": 4,
 "nbformat_minor": 5
}
